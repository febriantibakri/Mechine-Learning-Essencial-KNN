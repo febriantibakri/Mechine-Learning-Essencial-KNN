{
 "cells": [
  {
   "cell_type": "markdown",
   "id": "4dc05386",
   "metadata": {
    "id": "cbf84db4"
   },
   "source": [
    "# Use Case"
   ]
  },
  {
   "cell_type": "markdown",
   "id": "e3e2b882",
   "metadata": {
    "id": "a21995ad"
   },
   "source": [
    "- Use Case Summary"
   ]
  },
  {
   "cell_type": "markdown",
   "id": "166a9b3e",
   "metadata": {
    "id": "4eaa471a"
   },
   "source": [
    "* **Objective Statement:**\n",
    "\n",
    "    * Dapatkan pola konsumsi (waktu, intensitas, ukuran, jenis, harga)\n",
    "    * Untuk mengurangi resiko dalam memutuskan dimana, kapan, bagaimana, dan kepada siapa suatu produk, jasa, atau merek akan dipasarkan.\n",
    "    * Untuk meningkatkan efisiensi pemasaran dengan mengarahkan upaya secara khusus ke segmen yang ditunjuk dengan cara yang konsisten dengan karakteristik segmen tersebut.\n",
    "    * Mengetahui berapa banyak produk yang terjual setiap bulan.\n",
    "    * Mengetahui berapa banyak pelanggan menghabiskan uang mereka setiap bulan.\n",
    "    \n",
    "    \n",
    "* **Challanges** :\n",
    " \n",
    "    * Ubah tipe data kolom yang tidak cocok\n",
    "    * Menampilkan data setiap tahun\n",
    "    * Buat definisi dari setiap segmen yang diperoleh\n",
    "    \n",
    "\n",
    "* **Methodology / Analytic Technique** :\n",
    "    * Analisis deskriptif\n",
    "        * Jelaskan informasi seperti, min/max nilai setiap kolom, rata-rata, dan jumlah total data yang terdapat dalam kolom grand_total.\n",
    "    * Analisis grafik\n",
    "        * Lihat perubahan data berdasarkan waktu\n",
    "        * Menggunakan Pemodelan Segementasi\n",
    "        * Model RFM\n",
    "  \n",
    "\n",
    "* **Business Benefit**:\n",
    "\n",
    "    * Dapatkan wawasan untuk merawat dan mempertahankan pelanggan berdasarkan segmen\n",
    "    * Memperoleh wawasan untuk meningkatkan kualitas layanan perusahaan agar pelanggan tetap setia dan mendapatkan keuntungan lebih bagi perusahaan\n",
    "  \n",
    "* **Expected Outcome**:\n",
    "\n",
    "    * Dapatkan saran harga dan ekspektasi rasa, aroma, ukuran, varian, kemasan, legalitas seperti halal, BPOM, PIRT\n",
    "    * Mengetahui di mana, kapan, bagaimana, dan kepada siapa suatu produk, jasa, atau merek akan dipasarkan.\n",
    "    * Analisis segmentasi pelanggan.\n",
    "    * Rekomendasi berdasarkan segmentasi pelanggan.\n",
    "    * Ketahui berapa banyak produk yang terjual setiap bulan.\n",
    "    * Mengetahui berapa banyak pelanggan menghabiskan uang mereka setiap bulan."
   ]
  },
  {
   "cell_type": "markdown",
   "id": "6a38379d",
   "metadata": {
    "id": "a4085a17"
   },
   "source": [
    "# Business Understanding\n",
    "\n",
    "Nichoa adalah perusahaan yang didirikan pada tahun 2018. Nichoa berkomitmen untuk tidak hanya memproduksi cokelat berkualitas, tetapi juga berkontribusi untuk membantu meningkatkan kualitas hidup petani dan konsumen kakao lokal. Nichoa terus melakukan transformasi dan inovasi di bidang teknologi pangan untuk mendukung produksi yang berkelanjutan, serta melakukan improvisasi branding dan pemasaran agar selalu dapat beradaptasi dengan perubahan dan tren.\n",
    "Selain itu, Nichoa mencoba untuk terus mengukur dampak produk Nichoa terhadap penerima manfaat.\n",
    "\n",
    "Kasus ini memiliki beberapa pertanyaan bisnis dengan menggunakan data:\n",
    "* Berapa banyak produk yang terjual untuk setiap bulan di tahun 2021 dan 2022\n",
    "* Berapa banyak pendapatan yang didapatkan perusahaan dari penjualan untuk tiap bulan di tahun 2021 dan 2022\n",
    "* Jenis choco drink apa yang paling diminati oleh pelanggan?\n",
    "* Bagaimana dengan jumlah rata-rata, maksimum dan minimum uang yang didapatkan oleh perusahaan?\n",
    "* Bagaimana dengan jumlah rata-rata, maksimum dan minimum produk yang dibeli oleh customer?\n",
    "* Bagaimana perilaku konsumen berdasarkan label yang ditetapkan seperti Loyal Customer, Big Spanders, Best Customers, Lost Cheap Customers dan Almost Lost?\n",
    "* Bagaimana membangun model menggunakan pemodelan RFM?\n",
    "\n"
   ]
  },
  {
   "cell_type": "markdown",
   "id": "342b5e05",
   "metadata": {
    "id": "6f66fbc3"
   },
   "source": [
    "# Data Understanding\n",
    "* *Data Source* :\n",
    "     * Sumber data : Dataset Nichoa\n",
    "     * Dataset yang digunakan adalah data dari https://drive.google.com/file/d/1XXslAnWOV5_TK6vFpYb01C7sEBF7mq-P/view?usp=sharing\n",
    "     * Data Transaksi dimulai pada tanggal 8 Januari 2021 sampai dengan 24 Februari 2022\n",
    "     * Data mentah berisi 255 baris dan 21 kolom.\n",
    "\n",
    "*  Data Dictionary :\n",
    "     * order no : Nomor pesanan yang ditetapkan secara unik untuk setiap pesanan.\n",
    "     * order_time : waktu pembelian produk\n",
    "     * brand : nama brand dari produk\n",
    "     * brand mission rate : rating untuk brand mission perusahaan\n",
    "     * brand comission amount : jumlah dari brand komisi\n",
    "     * item group : Jenis produk yang digunakan adalah choco drink\n",
    "     * item name : Nama Produk dari Choco Drink\n",
    "     * item sku : barcode tiap produk yang dapat dipindai\n",
    "     * qty : jumlah pembelian produk\n",
    "     * currency : mata uang yang dipakai\n",
    "     * price: harga jual per produk\n",
    "     * add on price : Penambahan harga pada produk \n",
    "     * discount percent : persentase diskon yang diberikan \n",
    "     * amount : Penjumlahan total harga yang didapat dari pembelian produk\n",
    "     * tax amount : pajak dari pendapatan\n",
    "     * cost perunit : total yang dihabiskan untuk memproduksi satu unit barang\n",
    "     * total cost : jumlah keseluruhan dari pengeluaran tetap dan pengeluaran variabel yang dikeluarkan perusahaan\n",
    "     * profit : keuntungan yang didapatkan tiap satu unit produk\n",
    "     * paid to brand : total pembayaran untuk satu unit produk\n",
    "     * payment type : tipe pembayaran yang dilakukan \n",
    "\n"
   ]
  },
  {
   "cell_type": "markdown",
   "id": "1c7ac094",
   "metadata": {
    "id": "5cf61346"
   },
   "source": [
    "# Data Preparation\n",
    "\n",
    "* **Code yang Digunakan**:\n",
    "    * Python 3.9.10\n",
    "    * Package: Pandas, Numpy, Matplotlib, Seaborn, Scipy, Sklearn, dan Warning "
   ]
  },
  {
   "cell_type": "markdown",
   "id": "45cee401",
   "metadata": {
    "id": "454dcd2e"
   },
   "source": [
    "# Data Cleansing\n",
    "\n",
    "\n",
    "  * Ubah tipe data dari urutan objek ke datetime\n",
    "  * Ambil data hanya bulan dan tahun saja"
   ]
  },
  {
   "cell_type": "code",
   "execution_count": 82,
   "id": "4dc1eedc",
   "metadata": {
    "colab": {
     "base_uri": "https://localhost:8080/"
    },
    "id": "69nw8EE9XOVn",
    "outputId": "9358d3b3-3b39-4131-f536-ce920b986a59"
   },
   "outputs": [
    {
     "name": "stdout",
     "output_type": "stream",
     "text": [
      "Requirement already satisfied: feature_engine in c:\\users\\lenovo\\anaconda3\\envs\\testenv\\lib\\site-packages (1.5.2)\n",
      "Requirement already satisfied: pandas>=1.0.3 in c:\\users\\lenovo\\anaconda3\\envs\\testenv\\lib\\site-packages (from feature_engine) (1.5.1)\n",
      "Requirement already satisfied: statsmodels>=0.11.1 in c:\\users\\lenovo\\anaconda3\\envs\\testenv\\lib\\site-packages (from feature_engine) (0.13.5)\n",
      "Requirement already satisfied: scikit-learn>=1.0.0 in c:\\users\\lenovo\\anaconda3\\envs\\testenv\\lib\\site-packages (from feature_engine) (1.1.3)\n",
      "Requirement already satisfied: scipy>=1.4.1 in c:\\users\\lenovo\\anaconda3\\envs\\testenv\\lib\\site-packages (from feature_engine) (1.9.3)\n",
      "Requirement already satisfied: numpy>=1.18.2 in c:\\users\\lenovo\\anaconda3\\envs\\testenv\\lib\\site-packages (from feature_engine) (1.23.4)\n",
      "Requirement already satisfied: pytz>=2020.1 in c:\\users\\lenovo\\anaconda3\\envs\\testenv\\lib\\site-packages (from pandas>=1.0.3->feature_engine) (2022.6)\n",
      "Requirement already satisfied: python-dateutil>=2.8.1 in c:\\users\\lenovo\\anaconda3\\envs\\testenv\\lib\\site-packages (from pandas>=1.0.3->feature_engine) (2.8.2)\n",
      "Requirement already satisfied: six>=1.5 in c:\\users\\lenovo\\anaconda3\\envs\\testenv\\lib\\site-packages (from python-dateutil>=2.8.1->pandas>=1.0.3->feature_engine) (1.16.0)\n",
      "Requirement already satisfied: threadpoolctl>=2.0.0 in c:\\users\\lenovo\\anaconda3\\envs\\testenv\\lib\\site-packages (from scikit-learn>=1.0.0->feature_engine) (3.1.0)\n",
      "Requirement already satisfied: joblib>=1.0.0 in c:\\users\\lenovo\\anaconda3\\envs\\testenv\\lib\\site-packages (from scikit-learn>=1.0.0->feature_engine) (1.2.0)\n",
      "Requirement already satisfied: packaging>=21.3 in c:\\users\\lenovo\\anaconda3\\envs\\testenv\\lib\\site-packages (from statsmodels>=0.11.1->feature_engine) (21.3)\n",
      "Requirement already satisfied: patsy>=0.5.2 in c:\\users\\lenovo\\anaconda3\\envs\\testenv\\lib\\site-packages (from statsmodels>=0.11.1->feature_engine) (0.5.3)\n",
      "Requirement already satisfied: pyparsing!=3.0.5,>=2.0.2 in c:\\users\\lenovo\\anaconda3\\envs\\testenv\\lib\\site-packages (from packaging>=21.3->statsmodels>=0.11.1->feature_engine) (3.0.4)\n"
     ]
    }
   ],
   "source": [
    "!pip install feature_engine"
   ]
  },
  {
   "cell_type": "markdown",
   "id": "d6cb26bd",
   "metadata": {
    "id": "omAY8jAfJ5IJ"
   },
   "source": [
    "# Import Packages"
   ]
  },
  {
   "cell_type": "markdown",
   "id": "814c1257",
   "metadata": {
    "id": "zkb2ZL7bMa0M"
   },
   "source": [
    "Sebelum melakukan data profiling, data cleansing, EDA, dan modeling diharuskan import packages yang nantinya akan digunakan."
   ]
  },
  {
   "cell_type": "code",
   "execution_count": 83,
   "id": "02393a75",
   "metadata": {
    "id": "6d4a888c"
   },
   "outputs": [],
   "source": [
    "# Importing Package\n",
    "\n",
    "import pandas as pd\n",
    "import numpy as np\n",
    "import matplotlib.pyplot as plt\n",
    "import seaborn as sns\n",
    "\n",
    "import datetime as dt\n",
    "from datetime import datetime as dt2\n",
    "from datetime import timedelta as td\n",
    "from datetime import time as tm\n",
    "\n",
    "from scipy import stats\n",
    "from sklearn.preprocessing import StandardScaler\n",
    "from sklearn.manifold import TSNE\n",
    "\n",
    "import plotly.offline as pyoff\n",
    "import plotly.graph_objs as go\n",
    "\n",
    "import feature_engine\n",
    "from feature_engine.outliers import Winsorizer\n",
    "\n",
    "from sklearn.cluster import KMeans\n",
    "from sklearn.cluster import AgglomerativeClustering\n",
    "import scipy.cluster.hierarchy as sch\n",
    "from sklearn.metrics import davies_bouldin_score\n",
    "\n",
    "import warnings\n",
    "warnings.filterwarnings(\"ignore\")"
   ]
  },
  {
   "cell_type": "markdown",
   "id": "763f035e",
   "metadata": {
    "id": "zSBA-g7LiHw6"
   },
   "source": [
    "# Data Profiling\n"
   ]
  },
  {
   "cell_type": "markdown",
   "id": "f3006efc",
   "metadata": {
    "id": "Z-uU09T_iTcJ"
   },
   "source": [
    "**Load Dataset**"
   ]
  },
  {
   "cell_type": "markdown",
   "id": "3d491c7e",
   "metadata": {
    "id": "S75N1-KcMu6e"
   },
   "source": [
    "Untuk menampilkan data yang akan digunakan, kita harus memuat data terlebih dahulu seperti dibawah ini :"
   ]
  },
  {
   "cell_type": "code",
   "execution_count": 84,
   "id": "2e3a4b77",
   "metadata": {
    "id": "7a3fdc1f"
   },
   "outputs": [],
   "source": [
    "olsera = pd.read_csv(\"C:/Users/lenovo/Documents/ipynb/Data Choco Drink - Nichoa - Sheet1.csv\")"
   ]
  },
  {
   "cell_type": "markdown",
   "id": "6b20565b",
   "metadata": {
    "id": "I-DrhDQ18F7o"
   },
   "source": [
    "**Preview Dataset**"
   ]
  },
  {
   "cell_type": "markdown",
   "id": "16d6b20b",
   "metadata": {
    "id": "ETXnmWU_M9Tw"
   },
   "source": [
    "Kita akan menampilkan data yang telah dimuat, akan tertampil seperti dibawah ini dengan jumlah 21 column."
   ]
  },
  {
   "cell_type": "code",
   "execution_count": 85,
   "id": "cb1a4903",
   "metadata": {
    "colab": {
     "base_uri": "https://localhost:8080/",
     "height": 543
    },
    "id": "4753dd67",
    "outputId": "e1f458a8-8fc2-4e02-ebf7-d8e0444ef9f7"
   },
   "outputs": [
    {
     "data": {
      "text/html": [
       "<div>\n",
       "<style scoped>\n",
       "    .dataframe tbody tr th:only-of-type {\n",
       "        vertical-align: middle;\n",
       "    }\n",
       "\n",
       "    .dataframe tbody tr th {\n",
       "        vertical-align: top;\n",
       "    }\n",
       "\n",
       "    .dataframe thead th {\n",
       "        text-align: right;\n",
       "    }\n",
       "</style>\n",
       "<table border=\"1\" class=\"dataframe\">\n",
       "  <thead>\n",
       "    <tr style=\"text-align: right;\">\n",
       "      <th></th>\n",
       "      <th>order no</th>\n",
       "      <th>order time</th>\n",
       "      <th>brand</th>\n",
       "      <th>brand comission rate</th>\n",
       "      <th>brand comission amount</th>\n",
       "      <th>item group</th>\n",
       "      <th>item name</th>\n",
       "      <th>item sku</th>\n",
       "      <th>qty</th>\n",
       "      <th>currency</th>\n",
       "      <th>...</th>\n",
       "      <th>add-on price</th>\n",
       "      <th>discount percent</th>\n",
       "      <th>discount amount</th>\n",
       "      <th>amount</th>\n",
       "      <th>tax amount</th>\n",
       "      <th>cost perunit</th>\n",
       "      <th>total cost</th>\n",
       "      <th>profit</th>\n",
       "      <th>paid to brand</th>\n",
       "      <th>payment type</th>\n",
       "    </tr>\n",
       "  </thead>\n",
       "  <tbody>\n",
       "    <tr>\n",
       "      <th>0</th>\n",
       "      <td>065321010800000079</td>\n",
       "      <td>2021-01-08 9:35:34</td>\n",
       "      <td>Nichoa</td>\n",
       "      <td>0</td>\n",
       "      <td>0</td>\n",
       "      <td>Choco Drink</td>\n",
       "      <td>Immune Booster Chocodrink - 25 gr</td>\n",
       "      <td>NaN</td>\n",
       "      <td>1</td>\n",
       "      <td>IDR</td>\n",
       "      <td>...</td>\n",
       "      <td>0</td>\n",
       "      <td>0</td>\n",
       "      <td>0</td>\n",
       "      <td>18000</td>\n",
       "      <td>0</td>\n",
       "      <td>9500.0</td>\n",
       "      <td>9500.0</td>\n",
       "      <td>8500.0</td>\n",
       "      <td>18000</td>\n",
       "      <td>BRI Andri Setyowati</td>\n",
       "    </tr>\n",
       "    <tr>\n",
       "      <th>1</th>\n",
       "      <td>065321010800000079</td>\n",
       "      <td>2021-01-08 9:35:34</td>\n",
       "      <td>Nichoa</td>\n",
       "      <td>0</td>\n",
       "      <td>0</td>\n",
       "      <td>Choco Drink</td>\n",
       "      <td>Fresh and Fight - 25 gr</td>\n",
       "      <td>Chocodrink SR-0</td>\n",
       "      <td>1</td>\n",
       "      <td>IDR</td>\n",
       "      <td>...</td>\n",
       "      <td>0</td>\n",
       "      <td>0</td>\n",
       "      <td>0</td>\n",
       "      <td>18000</td>\n",
       "      <td>0</td>\n",
       "      <td>7936.0</td>\n",
       "      <td>7936.0</td>\n",
       "      <td>10064.0</td>\n",
       "      <td>18000</td>\n",
       "      <td>BRI Andri Setyowati</td>\n",
       "    </tr>\n",
       "    <tr>\n",
       "      <th>2</th>\n",
       "      <td>065321011100000090</td>\n",
       "      <td>2021-01-11 10:21:30</td>\n",
       "      <td>Nichoa</td>\n",
       "      <td>0</td>\n",
       "      <td>0</td>\n",
       "      <td>Choco Drink</td>\n",
       "      <td>Immune Booster Chocodrink - 25 gr</td>\n",
       "      <td>NaN</td>\n",
       "      <td>1</td>\n",
       "      <td>IDR</td>\n",
       "      <td>...</td>\n",
       "      <td>0</td>\n",
       "      <td>0</td>\n",
       "      <td>0</td>\n",
       "      <td>18000</td>\n",
       "      <td>0</td>\n",
       "      <td>9500.0</td>\n",
       "      <td>9500.0</td>\n",
       "      <td>8500.0</td>\n",
       "      <td>18000</td>\n",
       "      <td>BRI Andri Setyowati</td>\n",
       "    </tr>\n",
       "    <tr>\n",
       "      <th>3</th>\n",
       "      <td>065321011100000090</td>\n",
       "      <td>2021-01-11 10:21:30</td>\n",
       "      <td>Nichoa</td>\n",
       "      <td>0</td>\n",
       "      <td>0</td>\n",
       "      <td>Choco Drink</td>\n",
       "      <td>Fresh and Fight - 25 gr</td>\n",
       "      <td>Chocodrink SR-0</td>\n",
       "      <td>1</td>\n",
       "      <td>IDR</td>\n",
       "      <td>...</td>\n",
       "      <td>0</td>\n",
       "      <td>0</td>\n",
       "      <td>0</td>\n",
       "      <td>18000</td>\n",
       "      <td>0</td>\n",
       "      <td>7936.0</td>\n",
       "      <td>7936.0</td>\n",
       "      <td>10064.0</td>\n",
       "      <td>18000</td>\n",
       "      <td>BRI Andri Setyowati</td>\n",
       "    </tr>\n",
       "    <tr>\n",
       "      <th>4</th>\n",
       "      <td>065321011100000091</td>\n",
       "      <td>2021-01-11 10:22:36</td>\n",
       "      <td>Nichoa</td>\n",
       "      <td>0</td>\n",
       "      <td>0</td>\n",
       "      <td>Choco Drink</td>\n",
       "      <td>Fresh and Fight - 25 gr</td>\n",
       "      <td>Chocodrink SR-0</td>\n",
       "      <td>1</td>\n",
       "      <td>IDR</td>\n",
       "      <td>...</td>\n",
       "      <td>0</td>\n",
       "      <td>0</td>\n",
       "      <td>0</td>\n",
       "      <td>18000</td>\n",
       "      <td>0</td>\n",
       "      <td>7936.0</td>\n",
       "      <td>7936.0</td>\n",
       "      <td>10064.0</td>\n",
       "      <td>18000</td>\n",
       "      <td>BRI Andri Setyowati</td>\n",
       "    </tr>\n",
       "  </tbody>\n",
       "</table>\n",
       "<p>5 rows × 21 columns</p>\n",
       "</div>"
      ],
      "text/plain": [
       "             order no           order time   brand  brand comission rate  \\\n",
       "0  065321010800000079   2021-01-08 9:35:34  Nichoa                     0   \n",
       "1  065321010800000079   2021-01-08 9:35:34  Nichoa                     0   \n",
       "2  065321011100000090  2021-01-11 10:21:30  Nichoa                     0   \n",
       "3  065321011100000090  2021-01-11 10:21:30  Nichoa                     0   \n",
       "4  065321011100000091  2021-01-11 10:22:36  Nichoa                     0   \n",
       "\n",
       "   brand comission amount   item group                          item name  \\\n",
       "0                       0  Choco Drink  Immune Booster Chocodrink - 25 gr   \n",
       "1                       0  Choco Drink            Fresh and Fight - 25 gr   \n",
       "2                       0  Choco Drink  Immune Booster Chocodrink - 25 gr   \n",
       "3                       0  Choco Drink            Fresh and Fight - 25 gr   \n",
       "4                       0  Choco Drink            Fresh and Fight - 25 gr   \n",
       "\n",
       "          item sku  qty currency  ...  add-on price  discount percent  \\\n",
       "0              NaN    1      IDR  ...             0                 0   \n",
       "1  Chocodrink SR-0    1      IDR  ...             0                 0   \n",
       "2              NaN    1      IDR  ...             0                 0   \n",
       "3  Chocodrink SR-0    1      IDR  ...             0                 0   \n",
       "4  Chocodrink SR-0    1      IDR  ...             0                 0   \n",
       "\n",
       "   discount amount  amount  tax amount  cost perunit  total cost   profit  \\\n",
       "0                0   18000           0        9500.0      9500.0   8500.0   \n",
       "1                0   18000           0        7936.0      7936.0  10064.0   \n",
       "2                0   18000           0        9500.0      9500.0   8500.0   \n",
       "3                0   18000           0        7936.0      7936.0  10064.0   \n",
       "4                0   18000           0        7936.0      7936.0  10064.0   \n",
       "\n",
       "   paid to brand         payment type  \n",
       "0          18000  BRI Andri Setyowati  \n",
       "1          18000  BRI Andri Setyowati  \n",
       "2          18000  BRI Andri Setyowati  \n",
       "3          18000  BRI Andri Setyowati  \n",
       "4          18000  BRI Andri Setyowati  \n",
       "\n",
       "[5 rows x 21 columns]"
      ]
     },
     "execution_count": 85,
     "metadata": {},
     "output_type": "execute_result"
    }
   ],
   "source": [
    "olsera.head()"
   ]
  },
  {
   "cell_type": "markdown",
   "id": "6315e782",
   "metadata": {
    "id": "apYrQGgIK2PS"
   },
   "source": [
    "# Data Cleansing"
   ]
  },
  {
   "cell_type": "markdown",
   "id": "ee1c0c65",
   "metadata": {
    "id": "myNr7yPr8cbC"
   },
   "source": [
    "**Memilih Kolom yang Ingin Digunakan**"
   ]
  },
  {
   "cell_type": "code",
   "execution_count": 86,
   "id": "310d285d",
   "metadata": {
    "id": "046520c7"
   },
   "outputs": [],
   "source": [
    "olsera = olsera[[\"order no\",\"order time\",\"item group\",\"item name\",\"qty\",'price',\"amount\",\"payment type\"]]"
   ]
  },
  {
   "cell_type": "markdown",
   "id": "b636ba82",
   "metadata": {
    "id": "rEuDae_18kPg"
   },
   "source": [
    "**Menambahkan Kolom yang ingin digunakan**"
   ]
  },
  {
   "cell_type": "code",
   "execution_count": 87,
   "id": "af03742f",
   "metadata": {
    "colab": {
     "base_uri": "https://localhost:8080/",
     "height": 659
    },
    "id": "31ad8829",
    "outputId": "aac93a3b-7db7-44b9-ecd2-778b08fa3805"
   },
   "outputs": [
    {
     "data": {
      "text/html": [
       "<div>\n",
       "<style scoped>\n",
       "    .dataframe tbody tr th:only-of-type {\n",
       "        vertical-align: middle;\n",
       "    }\n",
       "\n",
       "    .dataframe tbody tr th {\n",
       "        vertical-align: top;\n",
       "    }\n",
       "\n",
       "    .dataframe thead th {\n",
       "        text-align: right;\n",
       "    }\n",
       "</style>\n",
       "<table border=\"1\" class=\"dataframe\">\n",
       "  <thead>\n",
       "    <tr style=\"text-align: right;\">\n",
       "      <th></th>\n",
       "      <th>order time</th>\n",
       "      <th>item group</th>\n",
       "      <th>item name</th>\n",
       "      <th>qty</th>\n",
       "      <th>price</th>\n",
       "      <th>amount</th>\n",
       "      <th>payment type</th>\n",
       "      <th>order_time</th>\n",
       "      <th>order_no</th>\n",
       "      <th>OrderYearMonth</th>\n",
       "      <th>Date</th>\n",
       "      <th>Year</th>\n",
       "      <th>Month</th>\n",
       "    </tr>\n",
       "  </thead>\n",
       "  <tbody>\n",
       "    <tr>\n",
       "      <th>0</th>\n",
       "      <td>2021-01-08 9:35:34</td>\n",
       "      <td>Choco Drink</td>\n",
       "      <td>Immune Booster Chocodrink - 25 gr</td>\n",
       "      <td>1</td>\n",
       "      <td>18000</td>\n",
       "      <td>18000</td>\n",
       "      <td>BRI Andri Setyowati</td>\n",
       "      <td>2021-01-08 09:35:34</td>\n",
       "      <td>065321010800000079</td>\n",
       "      <td>202101</td>\n",
       "      <td>2021-01</td>\n",
       "      <td>2021</td>\n",
       "      <td>01</td>\n",
       "    </tr>\n",
       "    <tr>\n",
       "      <th>1</th>\n",
       "      <td>2021-01-08 9:35:34</td>\n",
       "      <td>Choco Drink</td>\n",
       "      <td>Fresh and Fight - 25 gr</td>\n",
       "      <td>1</td>\n",
       "      <td>18000</td>\n",
       "      <td>18000</td>\n",
       "      <td>BRI Andri Setyowati</td>\n",
       "      <td>2021-01-08 09:35:34</td>\n",
       "      <td>065321010800000079</td>\n",
       "      <td>202101</td>\n",
       "      <td>2021-01</td>\n",
       "      <td>2021</td>\n",
       "      <td>01</td>\n",
       "    </tr>\n",
       "    <tr>\n",
       "      <th>2</th>\n",
       "      <td>2021-01-11 10:21:30</td>\n",
       "      <td>Choco Drink</td>\n",
       "      <td>Immune Booster Chocodrink - 25 gr</td>\n",
       "      <td>1</td>\n",
       "      <td>18000</td>\n",
       "      <td>18000</td>\n",
       "      <td>BRI Andri Setyowati</td>\n",
       "      <td>2021-01-11 10:21:30</td>\n",
       "      <td>065321011100000090</td>\n",
       "      <td>202101</td>\n",
       "      <td>2021-01</td>\n",
       "      <td>2021</td>\n",
       "      <td>01</td>\n",
       "    </tr>\n",
       "    <tr>\n",
       "      <th>3</th>\n",
       "      <td>2021-01-11 10:21:30</td>\n",
       "      <td>Choco Drink</td>\n",
       "      <td>Fresh and Fight - 25 gr</td>\n",
       "      <td>1</td>\n",
       "      <td>18000</td>\n",
       "      <td>18000</td>\n",
       "      <td>BRI Andri Setyowati</td>\n",
       "      <td>2021-01-11 10:21:30</td>\n",
       "      <td>065321011100000090</td>\n",
       "      <td>202101</td>\n",
       "      <td>2021-01</td>\n",
       "      <td>2021</td>\n",
       "      <td>01</td>\n",
       "    </tr>\n",
       "    <tr>\n",
       "      <th>4</th>\n",
       "      <td>2021-01-11 10:22:36</td>\n",
       "      <td>Choco Drink</td>\n",
       "      <td>Fresh and Fight - 25 gr</td>\n",
       "      <td>1</td>\n",
       "      <td>18000</td>\n",
       "      <td>18000</td>\n",
       "      <td>BRI Andri Setyowati</td>\n",
       "      <td>2021-01-11 10:22:36</td>\n",
       "      <td>065321011100000091</td>\n",
       "      <td>202101</td>\n",
       "      <td>2021-01</td>\n",
       "      <td>2021</td>\n",
       "      <td>01</td>\n",
       "    </tr>\n",
       "    <tr>\n",
       "      <th>...</th>\n",
       "      <td>...</td>\n",
       "      <td>...</td>\n",
       "      <td>...</td>\n",
       "      <td>...</td>\n",
       "      <td>...</td>\n",
       "      <td>...</td>\n",
       "      <td>...</td>\n",
       "      <td>...</td>\n",
       "      <td>...</td>\n",
       "      <td>...</td>\n",
       "      <td>...</td>\n",
       "      <td>...</td>\n",
       "      <td>...</td>\n",
       "    </tr>\n",
       "    <tr>\n",
       "      <th>250</th>\n",
       "      <td>2022-02-19 9:57:51</td>\n",
       "      <td>Choco Drink</td>\n",
       "      <td>Stress Release - 25 gr</td>\n",
       "      <td>1</td>\n",
       "      <td>18000</td>\n",
       "      <td>18000</td>\n",
       "      <td>Mandiri CV Nutrico Nusantara</td>\n",
       "      <td>2022-02-19 09:57:51</td>\n",
       "      <td>E39422021900000571</td>\n",
       "      <td>202202</td>\n",
       "      <td>2022-02</td>\n",
       "      <td>2022</td>\n",
       "      <td>02</td>\n",
       "    </tr>\n",
       "    <tr>\n",
       "      <th>251</th>\n",
       "      <td>2022-02-19 10:07:03</td>\n",
       "      <td>Choco Drink</td>\n",
       "      <td>Stress Release - 25 gr</td>\n",
       "      <td>2</td>\n",
       "      <td>15300</td>\n",
       "      <td>30600</td>\n",
       "      <td>Mandiri CV Nutrico Nusantara</td>\n",
       "      <td>2022-02-19 10:07:03</td>\n",
       "      <td>E39422021900000572</td>\n",
       "      <td>202202</td>\n",
       "      <td>2022-02</td>\n",
       "      <td>2022</td>\n",
       "      <td>02</td>\n",
       "    </tr>\n",
       "    <tr>\n",
       "      <th>252</th>\n",
       "      <td>2022-02-21 8:27:37</td>\n",
       "      <td>Choco Drink</td>\n",
       "      <td>Stress Release - 150 gr</td>\n",
       "      <td>1</td>\n",
       "      <td>75000</td>\n",
       "      <td>75000</td>\n",
       "      <td>Mandiri CV Nutrico Nusantara</td>\n",
       "      <td>2022-02-21 08:27:37</td>\n",
       "      <td>E39422022100000576</td>\n",
       "      <td>202202</td>\n",
       "      <td>2022-02</td>\n",
       "      <td>2022</td>\n",
       "      <td>02</td>\n",
       "    </tr>\n",
       "    <tr>\n",
       "      <th>253</th>\n",
       "      <td>2022-02-22 15:27:09</td>\n",
       "      <td>Choco Drink</td>\n",
       "      <td>Stress Release - 150 gr</td>\n",
       "      <td>2</td>\n",
       "      <td>75000</td>\n",
       "      <td>150000</td>\n",
       "      <td>Tokopedia</td>\n",
       "      <td>2022-02-22 15:27:09</td>\n",
       "      <td>E39422022200000580</td>\n",
       "      <td>202202</td>\n",
       "      <td>2022-02</td>\n",
       "      <td>2022</td>\n",
       "      <td>02</td>\n",
       "    </tr>\n",
       "    <tr>\n",
       "      <th>254</th>\n",
       "      <td>2022-02-24 16:08:23</td>\n",
       "      <td>Choco Drink</td>\n",
       "      <td>Fresh and Fight - 150 gr</td>\n",
       "      <td>1</td>\n",
       "      <td>75000</td>\n",
       "      <td>75000</td>\n",
       "      <td>Mandiri CV Nutrico Nusantara</td>\n",
       "      <td>2022-02-24 16:08:23</td>\n",
       "      <td>E39422022400000584</td>\n",
       "      <td>202202</td>\n",
       "      <td>2022-02</td>\n",
       "      <td>2022</td>\n",
       "      <td>02</td>\n",
       "    </tr>\n",
       "  </tbody>\n",
       "</table>\n",
       "<p>255 rows × 13 columns</p>\n",
       "</div>"
      ],
      "text/plain": [
       "              order time   item group                          item name  qty  \\\n",
       "0     2021-01-08 9:35:34  Choco Drink  Immune Booster Chocodrink - 25 gr    1   \n",
       "1     2021-01-08 9:35:34  Choco Drink            Fresh and Fight - 25 gr    1   \n",
       "2    2021-01-11 10:21:30  Choco Drink  Immune Booster Chocodrink - 25 gr    1   \n",
       "3    2021-01-11 10:21:30  Choco Drink            Fresh and Fight - 25 gr    1   \n",
       "4    2021-01-11 10:22:36  Choco Drink            Fresh and Fight - 25 gr    1   \n",
       "..                   ...          ...                                ...  ...   \n",
       "250   2022-02-19 9:57:51  Choco Drink             Stress Release - 25 gr    1   \n",
       "251  2022-02-19 10:07:03  Choco Drink             Stress Release - 25 gr    2   \n",
       "252   2022-02-21 8:27:37  Choco Drink            Stress Release - 150 gr    1   \n",
       "253  2022-02-22 15:27:09  Choco Drink            Stress Release - 150 gr    2   \n",
       "254  2022-02-24 16:08:23  Choco Drink           Fresh and Fight - 150 gr    1   \n",
       "\n",
       "     price  amount                  payment type          order_time  \\\n",
       "0    18000   18000           BRI Andri Setyowati 2021-01-08 09:35:34   \n",
       "1    18000   18000           BRI Andri Setyowati 2021-01-08 09:35:34   \n",
       "2    18000   18000           BRI Andri Setyowati 2021-01-11 10:21:30   \n",
       "3    18000   18000           BRI Andri Setyowati 2021-01-11 10:21:30   \n",
       "4    18000   18000           BRI Andri Setyowati 2021-01-11 10:22:36   \n",
       "..     ...     ...                           ...                 ...   \n",
       "250  18000   18000  Mandiri CV Nutrico Nusantara 2022-02-19 09:57:51   \n",
       "251  15300   30600  Mandiri CV Nutrico Nusantara 2022-02-19 10:07:03   \n",
       "252  75000   75000  Mandiri CV Nutrico Nusantara 2022-02-21 08:27:37   \n",
       "253  75000  150000                     Tokopedia 2022-02-22 15:27:09   \n",
       "254  75000   75000  Mandiri CV Nutrico Nusantara 2022-02-24 16:08:23   \n",
       "\n",
       "               order_no  OrderYearMonth     Date  Year Month  \n",
       "0    065321010800000079          202101  2021-01  2021    01  \n",
       "1    065321010800000079          202101  2021-01  2021    01  \n",
       "2    065321011100000090          202101  2021-01  2021    01  \n",
       "3    065321011100000090          202101  2021-01  2021    01  \n",
       "4    065321011100000091          202101  2021-01  2021    01  \n",
       "..                  ...             ...      ...   ...   ...  \n",
       "250  E39422021900000571          202202  2022-02  2022    02  \n",
       "251  E39422021900000572          202202  2022-02  2022    02  \n",
       "252  E39422022100000576          202202  2022-02  2022    02  \n",
       "253  E39422022200000580          202202  2022-02  2022    02  \n",
       "254  E39422022400000584          202202  2022-02  2022    02  \n",
       "\n",
       "[255 rows x 13 columns]"
      ]
     },
     "execution_count": 87,
     "metadata": {},
     "output_type": "execute_result"
    }
   ],
   "source": [
    "# Order date\n",
    "\n",
    "olsera['order_time'] = pd.to_datetime(olsera['order time'])\n",
    "olsera['order_no'] = olsera['order no']\n",
    "olsera['OrderYearMonth'] = olsera['order_time'].map(lambda date: 100*date.year + date.month)\n",
    "olsera['Date'] = olsera['order_time'].dt.strftime('%Y-%m')\n",
    "olsera['Year'] = olsera['order_time'].dt.strftime('%Y')\n",
    "olsera['Month'] = olsera['order_time'].dt.strftime('%m')\n",
    "olsera.drop('order time', axis= 1)\n",
    "olsera.drop('order no', axis= 1)"
   ]
  },
  {
   "cell_type": "markdown",
   "id": "5027f91d",
   "metadata": {
    "id": "yXkSzVUINj3A"
   },
   "source": [
    "Kita menggunakan **kolom Date** digunakan sebagai **pemisah antara bulan** Januari dan Februari tahun 2021 dan 2022 bertujuan **untuk lebih memudahkan dalam menganalisis data** agar data pada bulan tersebut tidak tergabung antara yang tahun 2021 dan 2022."
   ]
  },
  {
   "cell_type": "markdown",
   "id": "fe215118",
   "metadata": {
    "id": "AelWGvwMTyBK"
   },
   "source": [
    "**Dataset Information**"
   ]
  },
  {
   "cell_type": "code",
   "execution_count": 88,
   "id": "0fd1a2e9",
   "metadata": {
    "colab": {
     "base_uri": "https://localhost:8080/"
    },
    "id": "L_0vWoqdTovb",
    "outputId": "70917f6c-38a7-499d-e0d2-3d55dd0ac83f"
   },
   "outputs": [
    {
     "name": "stdout",
     "output_type": "stream",
     "text": [
      "<class 'pandas.core.frame.DataFrame'>\n",
      "RangeIndex: 255 entries, 0 to 254\n",
      "Data columns (total 14 columns):\n",
      " #   Column          Non-Null Count  Dtype         \n",
      "---  ------          --------------  -----         \n",
      " 0   order no        255 non-null    object        \n",
      " 1   order time      255 non-null    object        \n",
      " 2   item group      255 non-null    object        \n",
      " 3   item name       255 non-null    object        \n",
      " 4   qty             255 non-null    int64         \n",
      " 5   price           255 non-null    int64         \n",
      " 6   amount          255 non-null    int64         \n",
      " 7   payment type    255 non-null    object        \n",
      " 8   order_time      255 non-null    datetime64[ns]\n",
      " 9   order_no        255 non-null    object        \n",
      " 10  OrderYearMonth  255 non-null    int64         \n",
      " 11  Date            255 non-null    object        \n",
      " 12  Year            255 non-null    object        \n",
      " 13  Month           255 non-null    object        \n",
      "dtypes: datetime64[ns](1), int64(4), object(9)\n",
      "memory usage: 28.0+ KB\n"
     ]
    }
   ],
   "source": [
    "olsera.info()"
   ]
  },
  {
   "cell_type": "markdown",
   "id": "195b59a4",
   "metadata": {
    "id": "rD9hPczDUJAh"
   },
   "source": [
    "**Mengecek Missing Value**"
   ]
  },
  {
   "cell_type": "code",
   "execution_count": 89,
   "id": "7b164b6e",
   "metadata": {
    "colab": {
     "base_uri": "https://localhost:8080/"
    },
    "id": "0shw2H4pT9IP",
    "outputId": "2b0ed9be-8432-4986-c3f0-9e5dd0430fdd"
   },
   "outputs": [
    {
     "data": {
      "text/plain": [
       "order no          0\n",
       "order time        0\n",
       "item group        0\n",
       "item name         0\n",
       "qty               0\n",
       "price             0\n",
       "amount            0\n",
       "payment type      0\n",
       "order_time        0\n",
       "order_no          0\n",
       "OrderYearMonth    0\n",
       "Date              0\n",
       "Year              0\n",
       "Month             0\n",
       "dtype: int64"
      ]
     },
     "execution_count": 89,
     "metadata": {},
     "output_type": "execute_result"
    }
   ],
   "source": [
    "olsera.isna().sum()"
   ]
  },
  {
   "cell_type": "markdown",
   "id": "c582275f",
   "metadata": {
    "id": "0CuqQi4NUOtK"
   },
   "source": [
    "Setelah dilakukan pengecekan data, dapat diketahui bahwa tidak ada data yang hilang pada dataset ini dan data sudah cukup lengkap."
   ]
  },
  {
   "cell_type": "markdown",
   "id": "c07c6f5a",
   "metadata": {
    "id": "OBpnrjdXUcyR"
   },
   "source": [
    "**Mengecek Unique Value**"
   ]
  },
  {
   "cell_type": "code",
   "execution_count": 90,
   "id": "6c3b2f5c",
   "metadata": {
    "colab": {
     "base_uri": "https://localhost:8080/"
    },
    "id": "OEgk3xRuUa-r",
    "outputId": "190b106f-694a-4122-f7c6-2d78044bf725"
   },
   "outputs": [
    {
     "data": {
      "text/plain": [
       "order no          144\n",
       "order time        144\n",
       "item group          1\n",
       "item name           6\n",
       "qty                11\n",
       "price               4\n",
       "amount             15\n",
       "payment type       10\n",
       "order_time        144\n",
       "order_no          144\n",
       "OrderYearMonth     12\n",
       "Date               12\n",
       "Year                2\n",
       "Month              10\n",
       "dtype: int64"
      ]
     },
     "execution_count": 90,
     "metadata": {},
     "output_type": "execute_result"
    }
   ],
   "source": [
    "olsera.nunique()"
   ]
  },
  {
   "cell_type": "markdown",
   "id": "3acdbca6",
   "metadata": {
    "id": "lxFTLOUEmmo6"
   },
   "source": [
    "Dari sini terlihat, total order adalah 144. **Jumlah orde no sama dengan jumlah order time**, sehingga dalam dalam satu waktu order terdapat satu order no yang masuk. Terlihat juga terdapat **6 item** dalam chocodrink dengan begitu terdapat 6 jenis produk yang berbeda dari segi ukuran maupun variannya."
   ]
  },
  {
   "cell_type": "markdown",
   "id": "7c576905",
   "metadata": {
    "id": "1bSF6Bc-Mdn9"
   },
   "source": [
    "**Menghapus Kolom order time yang double**"
   ]
  },
  {
   "cell_type": "code",
   "execution_count": 91,
   "id": "41e5569e",
   "metadata": {
    "id": "1211b85b"
   },
   "outputs": [],
   "source": [
    "olsera.drop('order time', axis= 1, inplace=True)"
   ]
  },
  {
   "cell_type": "code",
   "execution_count": 92,
   "id": "e97fbde1",
   "metadata": {
    "colab": {
     "base_uri": "https://localhost:8080/",
     "height": 354
    },
    "id": "H2Fj0Y71MVQF",
    "outputId": "a728a8b2-2419-4104-c0e8-62f0e99657f8"
   },
   "outputs": [
    {
     "data": {
      "text/html": [
       "<div>\n",
       "<style scoped>\n",
       "    .dataframe tbody tr th:only-of-type {\n",
       "        vertical-align: middle;\n",
       "    }\n",
       "\n",
       "    .dataframe tbody tr th {\n",
       "        vertical-align: top;\n",
       "    }\n",
       "\n",
       "    .dataframe thead th {\n",
       "        text-align: right;\n",
       "    }\n",
       "</style>\n",
       "<table border=\"1\" class=\"dataframe\">\n",
       "  <thead>\n",
       "    <tr style=\"text-align: right;\">\n",
       "      <th></th>\n",
       "      <th>order no</th>\n",
       "      <th>item group</th>\n",
       "      <th>item name</th>\n",
       "      <th>qty</th>\n",
       "      <th>price</th>\n",
       "      <th>amount</th>\n",
       "      <th>payment type</th>\n",
       "      <th>order_time</th>\n",
       "      <th>order_no</th>\n",
       "      <th>OrderYearMonth</th>\n",
       "      <th>Date</th>\n",
       "      <th>Year</th>\n",
       "      <th>Month</th>\n",
       "    </tr>\n",
       "  </thead>\n",
       "  <tbody>\n",
       "    <tr>\n",
       "      <th>0</th>\n",
       "      <td>065321010800000079</td>\n",
       "      <td>Choco Drink</td>\n",
       "      <td>Immune Booster Chocodrink - 25 gr</td>\n",
       "      <td>1</td>\n",
       "      <td>18000</td>\n",
       "      <td>18000</td>\n",
       "      <td>BRI Andri Setyowati</td>\n",
       "      <td>2021-01-08 09:35:34</td>\n",
       "      <td>065321010800000079</td>\n",
       "      <td>202101</td>\n",
       "      <td>2021-01</td>\n",
       "      <td>2021</td>\n",
       "      <td>01</td>\n",
       "    </tr>\n",
       "    <tr>\n",
       "      <th>1</th>\n",
       "      <td>065321010800000079</td>\n",
       "      <td>Choco Drink</td>\n",
       "      <td>Fresh and Fight - 25 gr</td>\n",
       "      <td>1</td>\n",
       "      <td>18000</td>\n",
       "      <td>18000</td>\n",
       "      <td>BRI Andri Setyowati</td>\n",
       "      <td>2021-01-08 09:35:34</td>\n",
       "      <td>065321010800000079</td>\n",
       "      <td>202101</td>\n",
       "      <td>2021-01</td>\n",
       "      <td>2021</td>\n",
       "      <td>01</td>\n",
       "    </tr>\n",
       "    <tr>\n",
       "      <th>2</th>\n",
       "      <td>065321011100000090</td>\n",
       "      <td>Choco Drink</td>\n",
       "      <td>Immune Booster Chocodrink - 25 gr</td>\n",
       "      <td>1</td>\n",
       "      <td>18000</td>\n",
       "      <td>18000</td>\n",
       "      <td>BRI Andri Setyowati</td>\n",
       "      <td>2021-01-11 10:21:30</td>\n",
       "      <td>065321011100000090</td>\n",
       "      <td>202101</td>\n",
       "      <td>2021-01</td>\n",
       "      <td>2021</td>\n",
       "      <td>01</td>\n",
       "    </tr>\n",
       "    <tr>\n",
       "      <th>3</th>\n",
       "      <td>065321011100000090</td>\n",
       "      <td>Choco Drink</td>\n",
       "      <td>Fresh and Fight - 25 gr</td>\n",
       "      <td>1</td>\n",
       "      <td>18000</td>\n",
       "      <td>18000</td>\n",
       "      <td>BRI Andri Setyowati</td>\n",
       "      <td>2021-01-11 10:21:30</td>\n",
       "      <td>065321011100000090</td>\n",
       "      <td>202101</td>\n",
       "      <td>2021-01</td>\n",
       "      <td>2021</td>\n",
       "      <td>01</td>\n",
       "    </tr>\n",
       "    <tr>\n",
       "      <th>4</th>\n",
       "      <td>065321011100000091</td>\n",
       "      <td>Choco Drink</td>\n",
       "      <td>Fresh and Fight - 25 gr</td>\n",
       "      <td>1</td>\n",
       "      <td>18000</td>\n",
       "      <td>18000</td>\n",
       "      <td>BRI Andri Setyowati</td>\n",
       "      <td>2021-01-11 10:22:36</td>\n",
       "      <td>065321011100000091</td>\n",
       "      <td>202101</td>\n",
       "      <td>2021-01</td>\n",
       "      <td>2021</td>\n",
       "      <td>01</td>\n",
       "    </tr>\n",
       "  </tbody>\n",
       "</table>\n",
       "</div>"
      ],
      "text/plain": [
       "             order no   item group                          item name  qty  \\\n",
       "0  065321010800000079  Choco Drink  Immune Booster Chocodrink - 25 gr    1   \n",
       "1  065321010800000079  Choco Drink            Fresh and Fight - 25 gr    1   \n",
       "2  065321011100000090  Choco Drink  Immune Booster Chocodrink - 25 gr    1   \n",
       "3  065321011100000090  Choco Drink            Fresh and Fight - 25 gr    1   \n",
       "4  065321011100000091  Choco Drink            Fresh and Fight - 25 gr    1   \n",
       "\n",
       "   price  amount         payment type          order_time            order_no  \\\n",
       "0  18000   18000  BRI Andri Setyowati 2021-01-08 09:35:34  065321010800000079   \n",
       "1  18000   18000  BRI Andri Setyowati 2021-01-08 09:35:34  065321010800000079   \n",
       "2  18000   18000  BRI Andri Setyowati 2021-01-11 10:21:30  065321011100000090   \n",
       "3  18000   18000  BRI Andri Setyowati 2021-01-11 10:21:30  065321011100000090   \n",
       "4  18000   18000  BRI Andri Setyowati 2021-01-11 10:22:36  065321011100000091   \n",
       "\n",
       "   OrderYearMonth     Date  Year Month  \n",
       "0          202101  2021-01  2021    01  \n",
       "1          202101  2021-01  2021    01  \n",
       "2          202101  2021-01  2021    01  \n",
       "3          202101  2021-01  2021    01  \n",
       "4          202101  2021-01  2021    01  "
      ]
     },
     "execution_count": 92,
     "metadata": {},
     "output_type": "execute_result"
    }
   ],
   "source": [
    "olsera.head()"
   ]
  },
  {
   "cell_type": "markdown",
   "id": "8eb1889f",
   "metadata": {
    "id": "yb3grXS7mRCz"
   },
   "source": [
    "**Dataset Description**"
   ]
  },
  {
   "cell_type": "code",
   "execution_count": 93,
   "id": "004c5496",
   "metadata": {
    "colab": {
     "base_uri": "https://localhost:8080/",
     "height": 300
    },
    "id": "90a0dc6e",
    "outputId": "97e80004-2559-4f4b-c14d-03556e3f7459"
   },
   "outputs": [
    {
     "data": {
      "text/html": [
       "<div>\n",
       "<style scoped>\n",
       "    .dataframe tbody tr th:only-of-type {\n",
       "        vertical-align: middle;\n",
       "    }\n",
       "\n",
       "    .dataframe tbody tr th {\n",
       "        vertical-align: top;\n",
       "    }\n",
       "\n",
       "    .dataframe thead th {\n",
       "        text-align: right;\n",
       "    }\n",
       "</style>\n",
       "<table border=\"1\" class=\"dataframe\">\n",
       "  <thead>\n",
       "    <tr style=\"text-align: right;\">\n",
       "      <th></th>\n",
       "      <th>qty</th>\n",
       "      <th>price</th>\n",
       "      <th>amount</th>\n",
       "      <th>OrderYearMonth</th>\n",
       "    </tr>\n",
       "  </thead>\n",
       "  <tbody>\n",
       "    <tr>\n",
       "      <th>count</th>\n",
       "      <td>255.000000</td>\n",
       "      <td>255.000000</td>\n",
       "      <td>255.000000</td>\n",
       "      <td>255.000000</td>\n",
       "    </tr>\n",
       "    <tr>\n",
       "      <th>mean</th>\n",
       "      <td>2.400000</td>\n",
       "      <td>27065.882353</td>\n",
       "      <td>61964.117647</td>\n",
       "      <td>202115.627451</td>\n",
       "    </tr>\n",
       "    <tr>\n",
       "      <th>std</th>\n",
       "      <td>3.648535</td>\n",
       "      <td>20805.237471</td>\n",
       "      <td>106688.443577</td>\n",
       "      <td>29.288788</td>\n",
       "    </tr>\n",
       "    <tr>\n",
       "      <th>min</th>\n",
       "      <td>1.000000</td>\n",
       "      <td>15300.000000</td>\n",
       "      <td>18000.000000</td>\n",
       "      <td>202101.000000</td>\n",
       "    </tr>\n",
       "    <tr>\n",
       "      <th>25%</th>\n",
       "      <td>1.000000</td>\n",
       "      <td>18000.000000</td>\n",
       "      <td>18000.000000</td>\n",
       "      <td>202102.000000</td>\n",
       "    </tr>\n",
       "    <tr>\n",
       "      <th>50%</th>\n",
       "      <td>1.000000</td>\n",
       "      <td>18000.000000</td>\n",
       "      <td>18000.000000</td>\n",
       "      <td>202105.000000</td>\n",
       "    </tr>\n",
       "    <tr>\n",
       "      <th>75%</th>\n",
       "      <td>2.000000</td>\n",
       "      <td>18000.000000</td>\n",
       "      <td>75000.000000</td>\n",
       "      <td>202111.000000</td>\n",
       "    </tr>\n",
       "    <tr>\n",
       "      <th>max</th>\n",
       "      <td>21.000000</td>\n",
       "      <td>75000.000000</td>\n",
       "      <td>750000.000000</td>\n",
       "      <td>202202.000000</td>\n",
       "    </tr>\n",
       "  </tbody>\n",
       "</table>\n",
       "</div>"
      ],
      "text/plain": [
       "              qty         price         amount  OrderYearMonth\n",
       "count  255.000000    255.000000     255.000000      255.000000\n",
       "mean     2.400000  27065.882353   61964.117647   202115.627451\n",
       "std      3.648535  20805.237471  106688.443577       29.288788\n",
       "min      1.000000  15300.000000   18000.000000   202101.000000\n",
       "25%      1.000000  18000.000000   18000.000000   202102.000000\n",
       "50%      1.000000  18000.000000   18000.000000   202105.000000\n",
       "75%      2.000000  18000.000000   75000.000000   202111.000000\n",
       "max     21.000000  75000.000000  750000.000000   202202.000000"
      ]
     },
     "execution_count": 93,
     "metadata": {},
     "output_type": "execute_result"
    }
   ],
   "source": [
    "olsera.describe()"
   ]
  },
  {
   "cell_type": "markdown",
   "id": "aa1474e2",
   "metadata": {
    "id": "USJsmbC50Uto"
   },
   "source": [
    "Dapat dilihat dari deskripsi data jika **pembelian paling rendah** dari produk sebanyak **1 buah** dan yang **paling tinggi** sebanyak **21 buah.** Kemudian, mengacu pada harga normalnya, untuk **harga tertinggi yaitu 75000** pada **ukuran choco drink 150 gr,** dan **harga 18000 pada ukuran 25 gr.** Namun, disini kita ketahui bahwa **harga terendah  adalah 15300** sehingga bisa menunjukkan adanya dua hal : terjadinya diskon atau pembelian dari reseller. Kemudian **rata-rata** customers membeli produk chocodrink ini adalah **2 buah.**"
   ]
  },
  {
   "cell_type": "code",
   "execution_count": 94,
   "id": "27855f63",
   "metadata": {
    "colab": {
     "base_uri": "https://localhost:8080/"
    },
    "id": "2a62b332",
    "outputId": "37c135dd-18bf-49a7-ae65-e3f79b3f19d3"
   },
   "outputs": [
    {
     "data": {
      "text/plain": [
       "(255, 13)"
      ]
     },
     "execution_count": 94,
     "metadata": {},
     "output_type": "execute_result"
    }
   ],
   "source": [
    "olsera.shape"
   ]
  },
  {
   "cell_type": "markdown",
   "id": "6da15a45",
   "metadata": {
    "id": "263308a3"
   },
   "source": [
    "# Exploratory Data Analysis"
   ]
  },
  {
   "cell_type": "markdown",
   "id": "24db80f7",
   "metadata": {
    "id": "c7be68ab"
   },
   "source": [
    ">Di bagian ini, kami ingin memeriksa data lebih lanjut dengan memeriksa semua info yang diperlukan, kami telah memeriksa nilai yang hilang, dan dengan demikian membersihkan data sebelum proses EDA. Sehingga dapat divisualisasikan dan diterjemahkan dengan benar dalam proses EDA. Kami memulai ini dengan memuat semua paket yang dibutuhkan dan mengimpor data."
   ]
  },
  {
   "cell_type": "markdown",
   "id": "283960da",
   "metadata": {
    "id": "dTU80xBA90zD"
   },
   "source": [
    "**Mengecek Adanya Outlier**"
   ]
  },
  {
   "cell_type": "code",
   "execution_count": 95,
   "id": "331c202e",
   "metadata": {
    "colab": {
     "base_uri": "https://localhost:8080/",
     "height": 300
    },
    "id": "b8p7B9gTJhlm",
    "outputId": "17a5adf3-ca6e-4282-fb4a-2c61240f85b3"
   },
   "outputs": [
    {
     "data": {
      "text/html": [
       "<div>\n",
       "<style scoped>\n",
       "    .dataframe tbody tr th:only-of-type {\n",
       "        vertical-align: middle;\n",
       "    }\n",
       "\n",
       "    .dataframe tbody tr th {\n",
       "        vertical-align: top;\n",
       "    }\n",
       "\n",
       "    .dataframe thead th {\n",
       "        text-align: right;\n",
       "    }\n",
       "</style>\n",
       "<table border=\"1\" class=\"dataframe\">\n",
       "  <thead>\n",
       "    <tr style=\"text-align: right;\">\n",
       "      <th></th>\n",
       "      <th>qty</th>\n",
       "      <th>price</th>\n",
       "      <th>amount</th>\n",
       "      <th>OrderYearMonth</th>\n",
       "    </tr>\n",
       "  </thead>\n",
       "  <tbody>\n",
       "    <tr>\n",
       "      <th>count</th>\n",
       "      <td>255.000000</td>\n",
       "      <td>255.000000</td>\n",
       "      <td>255.000000</td>\n",
       "      <td>255.000000</td>\n",
       "    </tr>\n",
       "    <tr>\n",
       "      <th>mean</th>\n",
       "      <td>2.400000</td>\n",
       "      <td>27065.882353</td>\n",
       "      <td>61964.117647</td>\n",
       "      <td>202115.627451</td>\n",
       "    </tr>\n",
       "    <tr>\n",
       "      <th>std</th>\n",
       "      <td>3.648535</td>\n",
       "      <td>20805.237471</td>\n",
       "      <td>106688.443577</td>\n",
       "      <td>29.288788</td>\n",
       "    </tr>\n",
       "    <tr>\n",
       "      <th>min</th>\n",
       "      <td>1.000000</td>\n",
       "      <td>15300.000000</td>\n",
       "      <td>18000.000000</td>\n",
       "      <td>202101.000000</td>\n",
       "    </tr>\n",
       "    <tr>\n",
       "      <th>25%</th>\n",
       "      <td>1.000000</td>\n",
       "      <td>18000.000000</td>\n",
       "      <td>18000.000000</td>\n",
       "      <td>202102.000000</td>\n",
       "    </tr>\n",
       "    <tr>\n",
       "      <th>50%</th>\n",
       "      <td>1.000000</td>\n",
       "      <td>18000.000000</td>\n",
       "      <td>18000.000000</td>\n",
       "      <td>202105.000000</td>\n",
       "    </tr>\n",
       "    <tr>\n",
       "      <th>75%</th>\n",
       "      <td>2.000000</td>\n",
       "      <td>18000.000000</td>\n",
       "      <td>75000.000000</td>\n",
       "      <td>202111.000000</td>\n",
       "    </tr>\n",
       "    <tr>\n",
       "      <th>max</th>\n",
       "      <td>21.000000</td>\n",
       "      <td>75000.000000</td>\n",
       "      <td>750000.000000</td>\n",
       "      <td>202202.000000</td>\n",
       "    </tr>\n",
       "  </tbody>\n",
       "</table>\n",
       "</div>"
      ],
      "text/plain": [
       "              qty         price         amount  OrderYearMonth\n",
       "count  255.000000    255.000000     255.000000      255.000000\n",
       "mean     2.400000  27065.882353   61964.117647   202115.627451\n",
       "std      3.648535  20805.237471  106688.443577       29.288788\n",
       "min      1.000000  15300.000000   18000.000000   202101.000000\n",
       "25%      1.000000  18000.000000   18000.000000   202102.000000\n",
       "50%      1.000000  18000.000000   18000.000000   202105.000000\n",
       "75%      2.000000  18000.000000   75000.000000   202111.000000\n",
       "max     21.000000  75000.000000  750000.000000   202202.000000"
      ]
     },
     "execution_count": 95,
     "metadata": {},
     "output_type": "execute_result"
    }
   ],
   "source": [
    "olsera.describe()"
   ]
  },
  {
   "cell_type": "markdown",
   "id": "6560c90f",
   "metadata": {},
   "source": [
    "**Mengecek Adanya Outlier Pada Kolom qty**"
   ]
  },
  {
   "cell_type": "code",
   "execution_count": 96,
   "id": "35845eb8",
   "metadata": {
    "colab": {
     "base_uri": "https://localhost:8080/"
    },
    "id": "vQwh0re2AVrT",
    "outputId": "93e4e4ec-4232-4fa0-c9ff-7406d99c3388"
   },
   "outputs": [
    {
     "name": "stdout",
     "output_type": "stream",
     "text": [
      "Q1: 1.0\n",
      "Q3: 2.0\n",
      "IQR: 1.0\n"
     ]
    }
   ],
   "source": [
    "Q1 = np.quantile(olsera['qty'], .25)\n",
    "Q3 = np.quantile(olsera['qty'], .75)\n",
    "IQR = Q3-Q1\n",
    "lower_range = Q1 - (1.5*IQR)\n",
    "upper_range = Q3 + (1.5*IQR)\n",
    "print(\"Q1:\",Q1)\n",
    "print(\"Q3:\",Q3)\n",
    "print(\"IQR:\",IQR)"
   ]
  },
  {
   "cell_type": "code",
   "execution_count": 97,
   "id": "07463cf1",
   "metadata": {
    "colab": {
     "base_uri": "https://localhost:8080/",
     "height": 1000
    },
    "id": "TR_8GGeSIdrP",
    "outputId": "23ab65d9-e244-4a01-8ad1-a51d00e3a4cd"
   },
   "outputs": [
    {
     "data": {
      "text/html": [
       "<div>\n",
       "<style scoped>\n",
       "    .dataframe tbody tr th:only-of-type {\n",
       "        vertical-align: middle;\n",
       "    }\n",
       "\n",
       "    .dataframe tbody tr th {\n",
       "        vertical-align: top;\n",
       "    }\n",
       "\n",
       "    .dataframe thead th {\n",
       "        text-align: right;\n",
       "    }\n",
       "</style>\n",
       "<table border=\"1\" class=\"dataframe\">\n",
       "  <thead>\n",
       "    <tr style=\"text-align: right;\">\n",
       "      <th></th>\n",
       "      <th>order no</th>\n",
       "      <th>item group</th>\n",
       "      <th>item name</th>\n",
       "      <th>qty</th>\n",
       "      <th>price</th>\n",
       "      <th>amount</th>\n",
       "      <th>payment type</th>\n",
       "      <th>order_time</th>\n",
       "      <th>order_no</th>\n",
       "      <th>OrderYearMonth</th>\n",
       "      <th>Date</th>\n",
       "      <th>Year</th>\n",
       "      <th>Month</th>\n",
       "    </tr>\n",
       "  </thead>\n",
       "  <tbody>\n",
       "    <tr>\n",
       "      <th>5</th>\n",
       "      <td>065321011100000092</td>\n",
       "      <td>Choco Drink</td>\n",
       "      <td>Fresh and Fight - 25 gr</td>\n",
       "      <td>5</td>\n",
       "      <td>18000</td>\n",
       "      <td>90000</td>\n",
       "      <td>BRI Andri Setyowati</td>\n",
       "      <td>2021-01-11 17:02:09</td>\n",
       "      <td>065321011100000092</td>\n",
       "      <td>202101</td>\n",
       "      <td>2021-01</td>\n",
       "      <td>2021</td>\n",
       "      <td>01</td>\n",
       "    </tr>\n",
       "    <tr>\n",
       "      <th>6</th>\n",
       "      <td>065321011100000092</td>\n",
       "      <td>Choco Drink</td>\n",
       "      <td>Immune Booster Chocodrink - 25 gr</td>\n",
       "      <td>5</td>\n",
       "      <td>18000</td>\n",
       "      <td>90000</td>\n",
       "      <td>BRI Andri Setyowati</td>\n",
       "      <td>2021-01-11 17:02:09</td>\n",
       "      <td>065321011100000092</td>\n",
       "      <td>202101</td>\n",
       "      <td>2021-01</td>\n",
       "      <td>2021</td>\n",
       "      <td>01</td>\n",
       "    </tr>\n",
       "    <tr>\n",
       "      <th>16</th>\n",
       "      <td>E39421013000000023</td>\n",
       "      <td>Choco Drink</td>\n",
       "      <td>Immune Booster Chocodrink - 25 gr</td>\n",
       "      <td>4</td>\n",
       "      <td>18000</td>\n",
       "      <td>72000</td>\n",
       "      <td>Pembelian Via Shopee</td>\n",
       "      <td>2021-01-30 08:08:35</td>\n",
       "      <td>E39421013000000023</td>\n",
       "      <td>202101</td>\n",
       "      <td>2021-01</td>\n",
       "      <td>2021</td>\n",
       "      <td>01</td>\n",
       "    </tr>\n",
       "    <tr>\n",
       "      <th>37</th>\n",
       "      <td>E39421020800000061</td>\n",
       "      <td>Choco Drink</td>\n",
       "      <td>Fresh and Fight - 25 gr</td>\n",
       "      <td>15</td>\n",
       "      <td>18000</td>\n",
       "      <td>270000</td>\n",
       "      <td>BNI Andri Setyowati</td>\n",
       "      <td>2021-02-08 14:19:46</td>\n",
       "      <td>E39421020800000061</td>\n",
       "      <td>202102</td>\n",
       "      <td>2021-02</td>\n",
       "      <td>2021</td>\n",
       "      <td>02</td>\n",
       "    </tr>\n",
       "    <tr>\n",
       "      <th>38</th>\n",
       "      <td>E39421020800000061</td>\n",
       "      <td>Choco Drink</td>\n",
       "      <td>Immune Booster Chocodrink - 25 gr</td>\n",
       "      <td>15</td>\n",
       "      <td>18000</td>\n",
       "      <td>270000</td>\n",
       "      <td>BNI Andri Setyowati</td>\n",
       "      <td>2021-02-08 14:19:46</td>\n",
       "      <td>E39421020800000061</td>\n",
       "      <td>202102</td>\n",
       "      <td>2021-02</td>\n",
       "      <td>2021</td>\n",
       "      <td>02</td>\n",
       "    </tr>\n",
       "    <tr>\n",
       "      <th>39</th>\n",
       "      <td>E39421020800000061</td>\n",
       "      <td>Choco Drink</td>\n",
       "      <td>Stress Release - 25 gr</td>\n",
       "      <td>15</td>\n",
       "      <td>18000</td>\n",
       "      <td>270000</td>\n",
       "      <td>BNI Andri Setyowati</td>\n",
       "      <td>2021-02-08 14:19:46</td>\n",
       "      <td>E39421020800000061</td>\n",
       "      <td>202102</td>\n",
       "      <td>2021-02</td>\n",
       "      <td>2021</td>\n",
       "      <td>02</td>\n",
       "    </tr>\n",
       "    <tr>\n",
       "      <th>70</th>\n",
       "      <td>E39421030300000125</td>\n",
       "      <td>Choco Drink</td>\n",
       "      <td>Fresh and Fight - 25 gr</td>\n",
       "      <td>10</td>\n",
       "      <td>18000</td>\n",
       "      <td>180000</td>\n",
       "      <td>BRI Andri Setyowati</td>\n",
       "      <td>2021-03-03 17:38:29</td>\n",
       "      <td>E39421030300000125</td>\n",
       "      <td>202103</td>\n",
       "      <td>2021-03</td>\n",
       "      <td>2021</td>\n",
       "      <td>03</td>\n",
       "    </tr>\n",
       "    <tr>\n",
       "      <th>71</th>\n",
       "      <td>E39421030300000125</td>\n",
       "      <td>Choco Drink</td>\n",
       "      <td>Stress Release - 25 gr</td>\n",
       "      <td>10</td>\n",
       "      <td>18000</td>\n",
       "      <td>180000</td>\n",
       "      <td>BRI Andri Setyowati</td>\n",
       "      <td>2021-03-03 17:38:29</td>\n",
       "      <td>E39421030300000125</td>\n",
       "      <td>202103</td>\n",
       "      <td>2021-03</td>\n",
       "      <td>2021</td>\n",
       "      <td>03</td>\n",
       "    </tr>\n",
       "    <tr>\n",
       "      <th>72</th>\n",
       "      <td>E39421030300000125</td>\n",
       "      <td>Choco Drink</td>\n",
       "      <td>Immune Booster Chocodrink - 25 gr</td>\n",
       "      <td>10</td>\n",
       "      <td>18000</td>\n",
       "      <td>180000</td>\n",
       "      <td>BRI Andri Setyowati</td>\n",
       "      <td>2021-03-03 17:38:29</td>\n",
       "      <td>E39421030300000125</td>\n",
       "      <td>202103</td>\n",
       "      <td>2021-03</td>\n",
       "      <td>2021</td>\n",
       "      <td>03</td>\n",
       "    </tr>\n",
       "    <tr>\n",
       "      <th>75</th>\n",
       "      <td>E39421031800000157</td>\n",
       "      <td>Choco Drink</td>\n",
       "      <td>Immune Booster Chocodrink - 25 gr</td>\n",
       "      <td>10</td>\n",
       "      <td>18000</td>\n",
       "      <td>180000</td>\n",
       "      <td>Reseller</td>\n",
       "      <td>2021-03-18 16:28:37</td>\n",
       "      <td>E39421031800000157</td>\n",
       "      <td>202103</td>\n",
       "      <td>2021-03</td>\n",
       "      <td>2021</td>\n",
       "      <td>03</td>\n",
       "    </tr>\n",
       "    <tr>\n",
       "      <th>76</th>\n",
       "      <td>E39421031800000157</td>\n",
       "      <td>Choco Drink</td>\n",
       "      <td>Stress Release - 25 gr</td>\n",
       "      <td>10</td>\n",
       "      <td>18000</td>\n",
       "      <td>180000</td>\n",
       "      <td>Reseller</td>\n",
       "      <td>2021-03-18 16:28:37</td>\n",
       "      <td>E39421031800000157</td>\n",
       "      <td>202103</td>\n",
       "      <td>2021-03</td>\n",
       "      <td>2021</td>\n",
       "      <td>03</td>\n",
       "    </tr>\n",
       "    <tr>\n",
       "      <th>77</th>\n",
       "      <td>E39421031800000157</td>\n",
       "      <td>Choco Drink</td>\n",
       "      <td>Fresh and Fight - 25 gr</td>\n",
       "      <td>10</td>\n",
       "      <td>18000</td>\n",
       "      <td>180000</td>\n",
       "      <td>Reseller</td>\n",
       "      <td>2021-03-18 16:28:37</td>\n",
       "      <td>E39421031800000157</td>\n",
       "      <td>202103</td>\n",
       "      <td>2021-03</td>\n",
       "      <td>2021</td>\n",
       "      <td>03</td>\n",
       "    </tr>\n",
       "    <tr>\n",
       "      <th>88</th>\n",
       "      <td>E39421032900000184</td>\n",
       "      <td>Choco Drink</td>\n",
       "      <td>Stress Release - 25 gr</td>\n",
       "      <td>5</td>\n",
       "      <td>18000</td>\n",
       "      <td>90000</td>\n",
       "      <td>Reseller</td>\n",
       "      <td>2021-03-29 09:46:52</td>\n",
       "      <td>E39421032900000184</td>\n",
       "      <td>202103</td>\n",
       "      <td>2021-03</td>\n",
       "      <td>2021</td>\n",
       "      <td>03</td>\n",
       "    </tr>\n",
       "    <tr>\n",
       "      <th>106</th>\n",
       "      <td>E39421042600000241</td>\n",
       "      <td>Choco Drink</td>\n",
       "      <td>Fresh and Fight - 25 gr</td>\n",
       "      <td>5</td>\n",
       "      <td>18000</td>\n",
       "      <td>90000</td>\n",
       "      <td>Pembelian Via Shopee</td>\n",
       "      <td>2021-04-26 16:16:11</td>\n",
       "      <td>E39421042600000241</td>\n",
       "      <td>202104</td>\n",
       "      <td>2021-04</td>\n",
       "      <td>2021</td>\n",
       "      <td>04</td>\n",
       "    </tr>\n",
       "    <tr>\n",
       "      <th>107</th>\n",
       "      <td>E39421042600000241</td>\n",
       "      <td>Choco Drink</td>\n",
       "      <td>Immune Booster Chocodrink - 25 gr</td>\n",
       "      <td>5</td>\n",
       "      <td>18000</td>\n",
       "      <td>90000</td>\n",
       "      <td>Pembelian Via Shopee</td>\n",
       "      <td>2021-04-26 16:16:11</td>\n",
       "      <td>E39421042600000241</td>\n",
       "      <td>202104</td>\n",
       "      <td>2021-04</td>\n",
       "      <td>2021</td>\n",
       "      <td>04</td>\n",
       "    </tr>\n",
       "    <tr>\n",
       "      <th>111</th>\n",
       "      <td>E39421051100000374</td>\n",
       "      <td>Choco Drink</td>\n",
       "      <td>Stress Release - 150 gr</td>\n",
       "      <td>10</td>\n",
       "      <td>75000</td>\n",
       "      <td>750000</td>\n",
       "      <td>BNI Andri Setyowati</td>\n",
       "      <td>2021-05-11 15:21:03</td>\n",
       "      <td>E39421051100000374</td>\n",
       "      <td>202105</td>\n",
       "      <td>2021-05</td>\n",
       "      <td>2021</td>\n",
       "      <td>05</td>\n",
       "    </tr>\n",
       "    <tr>\n",
       "      <th>112</th>\n",
       "      <td>E39421051100000374</td>\n",
       "      <td>Choco Drink</td>\n",
       "      <td>Stress Release - 25 gr</td>\n",
       "      <td>21</td>\n",
       "      <td>18000</td>\n",
       "      <td>378000</td>\n",
       "      <td>BNI Andri Setyowati</td>\n",
       "      <td>2021-05-11 15:21:03</td>\n",
       "      <td>E39421051100000374</td>\n",
       "      <td>202105</td>\n",
       "      <td>2021-05</td>\n",
       "      <td>2021</td>\n",
       "      <td>05</td>\n",
       "    </tr>\n",
       "    <tr>\n",
       "      <th>113</th>\n",
       "      <td>E39421051100000374</td>\n",
       "      <td>Choco Drink</td>\n",
       "      <td>Immune Booster Chocodrink - 25 gr</td>\n",
       "      <td>21</td>\n",
       "      <td>18000</td>\n",
       "      <td>378000</td>\n",
       "      <td>BNI Andri Setyowati</td>\n",
       "      <td>2021-05-11 15:21:03</td>\n",
       "      <td>E39421051100000374</td>\n",
       "      <td>202105</td>\n",
       "      <td>2021-05</td>\n",
       "      <td>2021</td>\n",
       "      <td>05</td>\n",
       "    </tr>\n",
       "    <tr>\n",
       "      <th>118</th>\n",
       "      <td>E39421053100000431</td>\n",
       "      <td>Choco Drink</td>\n",
       "      <td>Immune Booster Chocodrink - 25 gr</td>\n",
       "      <td>10</td>\n",
       "      <td>18000</td>\n",
       "      <td>180000</td>\n",
       "      <td>BNI Andri Setyowati</td>\n",
       "      <td>2021-05-31 09:14:46</td>\n",
       "      <td>E39421053100000431</td>\n",
       "      <td>202105</td>\n",
       "      <td>2021-05</td>\n",
       "      <td>2021</td>\n",
       "      <td>05</td>\n",
       "    </tr>\n",
       "    <tr>\n",
       "      <th>122</th>\n",
       "      <td>E39421051100000374</td>\n",
       "      <td>Choco Drink</td>\n",
       "      <td>Stress Release - 150 gr</td>\n",
       "      <td>10</td>\n",
       "      <td>75000</td>\n",
       "      <td>750000</td>\n",
       "      <td>BNI Andri Setyowati</td>\n",
       "      <td>2021-05-11 15:21:03</td>\n",
       "      <td>E39421051100000374</td>\n",
       "      <td>202105</td>\n",
       "      <td>2021-05</td>\n",
       "      <td>2021</td>\n",
       "      <td>05</td>\n",
       "    </tr>\n",
       "    <tr>\n",
       "      <th>123</th>\n",
       "      <td>E39421051100000374</td>\n",
       "      <td>Choco Drink</td>\n",
       "      <td>Stress Release - 25 gr</td>\n",
       "      <td>21</td>\n",
       "      <td>18000</td>\n",
       "      <td>378000</td>\n",
       "      <td>BNI Andri Setyowati</td>\n",
       "      <td>2021-05-11 15:21:03</td>\n",
       "      <td>E39421051100000374</td>\n",
       "      <td>202105</td>\n",
       "      <td>2021-05</td>\n",
       "      <td>2021</td>\n",
       "      <td>05</td>\n",
       "    </tr>\n",
       "    <tr>\n",
       "      <th>124</th>\n",
       "      <td>E39421051100000374</td>\n",
       "      <td>Choco Drink</td>\n",
       "      <td>Immune Booster Chocodrink - 25 gr</td>\n",
       "      <td>21</td>\n",
       "      <td>18000</td>\n",
       "      <td>378000</td>\n",
       "      <td>BNI Andri Setyowati</td>\n",
       "      <td>2021-05-11 15:21:03</td>\n",
       "      <td>E39421051100000374</td>\n",
       "      <td>202105</td>\n",
       "      <td>2021-05</td>\n",
       "      <td>2021</td>\n",
       "      <td>05</td>\n",
       "    </tr>\n",
       "    <tr>\n",
       "      <th>129</th>\n",
       "      <td>E39421053100000431</td>\n",
       "      <td>Choco Drink</td>\n",
       "      <td>Immune Booster Chocodrink - 25 gr</td>\n",
       "      <td>10</td>\n",
       "      <td>18000</td>\n",
       "      <td>180000</td>\n",
       "      <td>BNI Andri Setyowati</td>\n",
       "      <td>2021-05-31 09:14:46</td>\n",
       "      <td>E39421053100000431</td>\n",
       "      <td>202105</td>\n",
       "      <td>2021-05</td>\n",
       "      <td>2021</td>\n",
       "      <td>05</td>\n",
       "    </tr>\n",
       "    <tr>\n",
       "      <th>149</th>\n",
       "      <td>E39421090600000455</td>\n",
       "      <td>Choco Drink</td>\n",
       "      <td>Immune Booster Chocodrink - 25 gr</td>\n",
       "      <td>20</td>\n",
       "      <td>18000</td>\n",
       "      <td>360000</td>\n",
       "      <td>BNI Andri Setyowati</td>\n",
       "      <td>2021-09-06 09:34:30</td>\n",
       "      <td>E39421090600000455</td>\n",
       "      <td>202109</td>\n",
       "      <td>2021-09</td>\n",
       "      <td>2021</td>\n",
       "      <td>09</td>\n",
       "    </tr>\n",
       "    <tr>\n",
       "      <th>150</th>\n",
       "      <td>E39421090600000455</td>\n",
       "      <td>Choco Drink</td>\n",
       "      <td>Stress Release - 25 gr</td>\n",
       "      <td>10</td>\n",
       "      <td>18000</td>\n",
       "      <td>180000</td>\n",
       "      <td>BNI Andri Setyowati</td>\n",
       "      <td>2021-09-06 09:34:30</td>\n",
       "      <td>E39421090600000455</td>\n",
       "      <td>202109</td>\n",
       "      <td>2021-09</td>\n",
       "      <td>2021</td>\n",
       "      <td>09</td>\n",
       "    </tr>\n",
       "    <tr>\n",
       "      <th>151</th>\n",
       "      <td>E39421090600000455</td>\n",
       "      <td>Choco Drink</td>\n",
       "      <td>Fresh and Fight - 25 gr</td>\n",
       "      <td>10</td>\n",
       "      <td>18000</td>\n",
       "      <td>180000</td>\n",
       "      <td>BNI Andri Setyowati</td>\n",
       "      <td>2021-09-06 09:34:30</td>\n",
       "      <td>E39421090600000455</td>\n",
       "      <td>202109</td>\n",
       "      <td>2021-09</td>\n",
       "      <td>2021</td>\n",
       "      <td>09</td>\n",
       "    </tr>\n",
       "    <tr>\n",
       "      <th>160</th>\n",
       "      <td>E39421091400000469</td>\n",
       "      <td>Choco Drink</td>\n",
       "      <td>Stress Release - 25 gr</td>\n",
       "      <td>5</td>\n",
       "      <td>18000</td>\n",
       "      <td>90000</td>\n",
       "      <td>Pembelian Via Shopee</td>\n",
       "      <td>2021-09-14 08:34:39</td>\n",
       "      <td>E39421091400000469</td>\n",
       "      <td>202109</td>\n",
       "      <td>2021-09</td>\n",
       "      <td>2021</td>\n",
       "      <td>09</td>\n",
       "    </tr>\n",
       "    <tr>\n",
       "      <th>187</th>\n",
       "      <td>06C921110100000361</td>\n",
       "      <td>Choco Drink</td>\n",
       "      <td>Fresh and Fight - 25 gr</td>\n",
       "      <td>4</td>\n",
       "      <td>18000</td>\n",
       "      <td>72000</td>\n",
       "      <td>Sample Product dan Hadiah</td>\n",
       "      <td>2021-11-01 11:36:23</td>\n",
       "      <td>06C921110100000361</td>\n",
       "      <td>202111</td>\n",
       "      <td>2021-11</td>\n",
       "      <td>2021</td>\n",
       "      <td>11</td>\n",
       "    </tr>\n",
       "    <tr>\n",
       "      <th>194</th>\n",
       "      <td>06C921111600000405</td>\n",
       "      <td>Choco Drink</td>\n",
       "      <td>Immune Booster Chocodrink - 25 gr</td>\n",
       "      <td>4</td>\n",
       "      <td>18000</td>\n",
       "      <td>72000</td>\n",
       "      <td>Pembelian Via Shopee</td>\n",
       "      <td>2021-11-16 08:36:01</td>\n",
       "      <td>06C921111600000405</td>\n",
       "      <td>202111</td>\n",
       "      <td>2021-11</td>\n",
       "      <td>2021</td>\n",
       "      <td>11</td>\n",
       "    </tr>\n",
       "    <tr>\n",
       "      <th>195</th>\n",
       "      <td>06C921111600000405</td>\n",
       "      <td>Choco Drink</td>\n",
       "      <td>Fresh and Fight - 25 gr</td>\n",
       "      <td>4</td>\n",
       "      <td>18000</td>\n",
       "      <td>72000</td>\n",
       "      <td>Pembelian Via Shopee</td>\n",
       "      <td>2021-11-16 08:36:01</td>\n",
       "      <td>06C921111600000405</td>\n",
       "      <td>202111</td>\n",
       "      <td>2021-11</td>\n",
       "      <td>2021</td>\n",
       "      <td>11</td>\n",
       "    </tr>\n",
       "    <tr>\n",
       "      <th>225</th>\n",
       "      <td>06C921122400000549</td>\n",
       "      <td>Choco Drink</td>\n",
       "      <td>Stress Release - 150 gr</td>\n",
       "      <td>10</td>\n",
       "      <td>75000</td>\n",
       "      <td>750000</td>\n",
       "      <td>Mandiri CV Nutrico Nusantara</td>\n",
       "      <td>2021-12-24 16:15:16</td>\n",
       "      <td>06C921122400000549</td>\n",
       "      <td>202112</td>\n",
       "      <td>2021-12</td>\n",
       "      <td>2021</td>\n",
       "      <td>12</td>\n",
       "    </tr>\n",
       "    <tr>\n",
       "      <th>235</th>\n",
       "      <td>E39422012800000492</td>\n",
       "      <td>Choco Drink</td>\n",
       "      <td>Fresh and Fight - 150 gr</td>\n",
       "      <td>8</td>\n",
       "      <td>63750</td>\n",
       "      <td>510000</td>\n",
       "      <td>Mandiri CV Nutrico Nusantara</td>\n",
       "      <td>2022-01-28 11:22:59</td>\n",
       "      <td>E39422012800000492</td>\n",
       "      <td>202201</td>\n",
       "      <td>2022-01</td>\n",
       "      <td>2022</td>\n",
       "      <td>01</td>\n",
       "    </tr>\n",
       "    <tr>\n",
       "      <th>236</th>\n",
       "      <td>E39422012800000492</td>\n",
       "      <td>Choco Drink</td>\n",
       "      <td>Stress Release - 150 gr</td>\n",
       "      <td>7</td>\n",
       "      <td>63750</td>\n",
       "      <td>446250</td>\n",
       "      <td>Mandiri CV Nutrico Nusantara</td>\n",
       "      <td>2022-01-28 11:22:59</td>\n",
       "      <td>E39422012800000492</td>\n",
       "      <td>202201</td>\n",
       "      <td>2022-01</td>\n",
       "      <td>2022</td>\n",
       "      <td>01</td>\n",
       "    </tr>\n",
       "  </tbody>\n",
       "</table>\n",
       "</div>"
      ],
      "text/plain": [
       "               order no   item group                          item name  qty  \\\n",
       "5    065321011100000092  Choco Drink            Fresh and Fight - 25 gr    5   \n",
       "6    065321011100000092  Choco Drink  Immune Booster Chocodrink - 25 gr    5   \n",
       "16   E39421013000000023  Choco Drink  Immune Booster Chocodrink - 25 gr    4   \n",
       "37   E39421020800000061  Choco Drink            Fresh and Fight - 25 gr   15   \n",
       "38   E39421020800000061  Choco Drink  Immune Booster Chocodrink - 25 gr   15   \n",
       "39   E39421020800000061  Choco Drink             Stress Release - 25 gr   15   \n",
       "70   E39421030300000125  Choco Drink            Fresh and Fight - 25 gr   10   \n",
       "71   E39421030300000125  Choco Drink             Stress Release - 25 gr   10   \n",
       "72   E39421030300000125  Choco Drink  Immune Booster Chocodrink - 25 gr   10   \n",
       "75   E39421031800000157  Choco Drink  Immune Booster Chocodrink - 25 gr   10   \n",
       "76   E39421031800000157  Choco Drink             Stress Release - 25 gr   10   \n",
       "77   E39421031800000157  Choco Drink            Fresh and Fight - 25 gr   10   \n",
       "88   E39421032900000184  Choco Drink             Stress Release - 25 gr    5   \n",
       "106  E39421042600000241  Choco Drink            Fresh and Fight - 25 gr    5   \n",
       "107  E39421042600000241  Choco Drink  Immune Booster Chocodrink - 25 gr    5   \n",
       "111  E39421051100000374  Choco Drink            Stress Release - 150 gr   10   \n",
       "112  E39421051100000374  Choco Drink             Stress Release - 25 gr   21   \n",
       "113  E39421051100000374  Choco Drink  Immune Booster Chocodrink - 25 gr   21   \n",
       "118  E39421053100000431  Choco Drink  Immune Booster Chocodrink - 25 gr   10   \n",
       "122  E39421051100000374  Choco Drink            Stress Release - 150 gr   10   \n",
       "123  E39421051100000374  Choco Drink             Stress Release - 25 gr   21   \n",
       "124  E39421051100000374  Choco Drink  Immune Booster Chocodrink - 25 gr   21   \n",
       "129  E39421053100000431  Choco Drink  Immune Booster Chocodrink - 25 gr   10   \n",
       "149  E39421090600000455  Choco Drink  Immune Booster Chocodrink - 25 gr   20   \n",
       "150  E39421090600000455  Choco Drink             Stress Release - 25 gr   10   \n",
       "151  E39421090600000455  Choco Drink            Fresh and Fight - 25 gr   10   \n",
       "160  E39421091400000469  Choco Drink             Stress Release - 25 gr    5   \n",
       "187  06C921110100000361  Choco Drink            Fresh and Fight - 25 gr    4   \n",
       "194  06C921111600000405  Choco Drink  Immune Booster Chocodrink - 25 gr    4   \n",
       "195  06C921111600000405  Choco Drink            Fresh and Fight - 25 gr    4   \n",
       "225  06C921122400000549  Choco Drink            Stress Release - 150 gr   10   \n",
       "235  E39422012800000492  Choco Drink           Fresh and Fight - 150 gr    8   \n",
       "236  E39422012800000492  Choco Drink            Stress Release - 150 gr    7   \n",
       "\n",
       "     price  amount                  payment type          order_time  \\\n",
       "5    18000   90000           BRI Andri Setyowati 2021-01-11 17:02:09   \n",
       "6    18000   90000           BRI Andri Setyowati 2021-01-11 17:02:09   \n",
       "16   18000   72000          Pembelian Via Shopee 2021-01-30 08:08:35   \n",
       "37   18000  270000           BNI Andri Setyowati 2021-02-08 14:19:46   \n",
       "38   18000  270000           BNI Andri Setyowati 2021-02-08 14:19:46   \n",
       "39   18000  270000           BNI Andri Setyowati 2021-02-08 14:19:46   \n",
       "70   18000  180000           BRI Andri Setyowati 2021-03-03 17:38:29   \n",
       "71   18000  180000           BRI Andri Setyowati 2021-03-03 17:38:29   \n",
       "72   18000  180000           BRI Andri Setyowati 2021-03-03 17:38:29   \n",
       "75   18000  180000                      Reseller 2021-03-18 16:28:37   \n",
       "76   18000  180000                      Reseller 2021-03-18 16:28:37   \n",
       "77   18000  180000                      Reseller 2021-03-18 16:28:37   \n",
       "88   18000   90000                      Reseller 2021-03-29 09:46:52   \n",
       "106  18000   90000          Pembelian Via Shopee 2021-04-26 16:16:11   \n",
       "107  18000   90000          Pembelian Via Shopee 2021-04-26 16:16:11   \n",
       "111  75000  750000           BNI Andri Setyowati 2021-05-11 15:21:03   \n",
       "112  18000  378000           BNI Andri Setyowati 2021-05-11 15:21:03   \n",
       "113  18000  378000           BNI Andri Setyowati 2021-05-11 15:21:03   \n",
       "118  18000  180000           BNI Andri Setyowati 2021-05-31 09:14:46   \n",
       "122  75000  750000           BNI Andri Setyowati 2021-05-11 15:21:03   \n",
       "123  18000  378000           BNI Andri Setyowati 2021-05-11 15:21:03   \n",
       "124  18000  378000           BNI Andri Setyowati 2021-05-11 15:21:03   \n",
       "129  18000  180000           BNI Andri Setyowati 2021-05-31 09:14:46   \n",
       "149  18000  360000           BNI Andri Setyowati 2021-09-06 09:34:30   \n",
       "150  18000  180000           BNI Andri Setyowati 2021-09-06 09:34:30   \n",
       "151  18000  180000           BNI Andri Setyowati 2021-09-06 09:34:30   \n",
       "160  18000   90000          Pembelian Via Shopee 2021-09-14 08:34:39   \n",
       "187  18000   72000     Sample Product dan Hadiah 2021-11-01 11:36:23   \n",
       "194  18000   72000          Pembelian Via Shopee 2021-11-16 08:36:01   \n",
       "195  18000   72000          Pembelian Via Shopee 2021-11-16 08:36:01   \n",
       "225  75000  750000  Mandiri CV Nutrico Nusantara 2021-12-24 16:15:16   \n",
       "235  63750  510000  Mandiri CV Nutrico Nusantara 2022-01-28 11:22:59   \n",
       "236  63750  446250  Mandiri CV Nutrico Nusantara 2022-01-28 11:22:59   \n",
       "\n",
       "               order_no  OrderYearMonth     Date  Year Month  \n",
       "5    065321011100000092          202101  2021-01  2021    01  \n",
       "6    065321011100000092          202101  2021-01  2021    01  \n",
       "16   E39421013000000023          202101  2021-01  2021    01  \n",
       "37   E39421020800000061          202102  2021-02  2021    02  \n",
       "38   E39421020800000061          202102  2021-02  2021    02  \n",
       "39   E39421020800000061          202102  2021-02  2021    02  \n",
       "70   E39421030300000125          202103  2021-03  2021    03  \n",
       "71   E39421030300000125          202103  2021-03  2021    03  \n",
       "72   E39421030300000125          202103  2021-03  2021    03  \n",
       "75   E39421031800000157          202103  2021-03  2021    03  \n",
       "76   E39421031800000157          202103  2021-03  2021    03  \n",
       "77   E39421031800000157          202103  2021-03  2021    03  \n",
       "88   E39421032900000184          202103  2021-03  2021    03  \n",
       "106  E39421042600000241          202104  2021-04  2021    04  \n",
       "107  E39421042600000241          202104  2021-04  2021    04  \n",
       "111  E39421051100000374          202105  2021-05  2021    05  \n",
       "112  E39421051100000374          202105  2021-05  2021    05  \n",
       "113  E39421051100000374          202105  2021-05  2021    05  \n",
       "118  E39421053100000431          202105  2021-05  2021    05  \n",
       "122  E39421051100000374          202105  2021-05  2021    05  \n",
       "123  E39421051100000374          202105  2021-05  2021    05  \n",
       "124  E39421051100000374          202105  2021-05  2021    05  \n",
       "129  E39421053100000431          202105  2021-05  2021    05  \n",
       "149  E39421090600000455          202109  2021-09  2021    09  \n",
       "150  E39421090600000455          202109  2021-09  2021    09  \n",
       "151  E39421090600000455          202109  2021-09  2021    09  \n",
       "160  E39421091400000469          202109  2021-09  2021    09  \n",
       "187  06C921110100000361          202111  2021-11  2021    11  \n",
       "194  06C921111600000405          202111  2021-11  2021    11  \n",
       "195  06C921111600000405          202111  2021-11  2021    11  \n",
       "225  06C921122400000549          202112  2021-12  2021    12  \n",
       "235  E39422012800000492          202201  2022-01  2022    01  \n",
       "236  E39422012800000492          202201  2022-01  2022    01  "
      ]
     },
     "execution_count": 97,
     "metadata": {},
     "output_type": "execute_result"
    }
   ],
   "source": [
    "out_total = olsera[(olsera['qty']<lower_range)| (olsera['qty']>upper_range)]\n",
    "out_total"
   ]
  },
  {
   "cell_type": "code",
   "execution_count": 98,
   "id": "796df3ce",
   "metadata": {
    "colab": {
     "base_uri": "https://localhost:8080/"
    },
    "id": "rSYRPfRBBHJp",
    "outputId": "d8351539-8ebc-4a9c-e9ed-f47d3fa6c0b7"
   },
   "outputs": [
    {
     "name": "stdout",
     "output_type": "stream",
     "text": [
      "<class 'pandas.core.frame.DataFrame'>\n",
      "Int64Index: 33 entries, 5 to 236\n",
      "Data columns (total 13 columns):\n",
      " #   Column          Non-Null Count  Dtype         \n",
      "---  ------          --------------  -----         \n",
      " 0   order no        33 non-null     object        \n",
      " 1   item group      33 non-null     object        \n",
      " 2   item name       33 non-null     object        \n",
      " 3   qty             33 non-null     int64         \n",
      " 4   price           33 non-null     int64         \n",
      " 5   amount          33 non-null     int64         \n",
      " 6   payment type    33 non-null     object        \n",
      " 7   order_time      33 non-null     datetime64[ns]\n",
      " 8   order_no        33 non-null     object        \n",
      " 9   OrderYearMonth  33 non-null     int64         \n",
      " 10  Date            33 non-null     object        \n",
      " 11  Year            33 non-null     object        \n",
      " 12  Month           33 non-null     object        \n",
      "dtypes: datetime64[ns](1), int64(4), object(8)\n",
      "memory usage: 3.6+ KB\n"
     ]
    }
   ],
   "source": [
    "out_total.info()"
   ]
  },
  {
   "cell_type": "code",
   "execution_count": 99,
   "id": "4febece0",
   "metadata": {
    "colab": {
     "base_uri": "https://localhost:8080/",
     "height": 514
    },
    "id": "nGMbVzy7hDCL",
    "outputId": "577e3689-844c-4a86-c445-3840968fc782"
   },
   "outputs": [
    {
     "data": {
      "text/plain": [
       "<AxesSubplot:xlabel='qty'>"
      ]
     },
     "execution_count": 99,
     "metadata": {},
     "output_type": "execute_result"
    },
    {
     "data": {
      "image/png": "[encoded data removed]",
      "text/plain": [
       "<Figure size 864x576 with 1 Axes>"
      ]
     },
     "metadata": {
      "needs_background": "light"
     },
     "output_type": "display_data"
    }
   ],
   "source": [
    "plt.figure(figsize=(12,8))\n",
    "\n",
    "sns.boxplot(x='qty', data=olsera)"
   ]
  },
  {
   "cell_type": "markdown",
   "id": "248d605c",
   "metadata": {
    "id": "oknFMp5jhEjG"
   },
   "source": [
    "**Boxplot di atas menunjukkan adanya outlier** atau data yang berada diluar dari rentan yang paling banyak dipilih oleh customer. **Untuk kolom qty** ini, customer paling banyak memilih qty di rentan 1 sampai 2 produk. Sehingga diluar dari itu disebut dengan outlier. **Jumlah outlier yang ada pada kolom ini sebanyak 33** atau jika dipersentasekan sebanyak 0.12%"
   ]
  },
  {
   "cell_type": "markdown",
   "id": "774b791d",
   "metadata": {
    "id": "0xZF7p0J5zTX"
   },
   "source": [
    "**Mengecek Adanya Outlier pada Kolom amount**"
   ]
  },
  {
   "cell_type": "code",
   "execution_count": 100,
   "id": "c3fc6d63",
   "metadata": {
    "colab": {
     "base_uri": "https://localhost:8080/"
    },
    "id": "8fjbX82OBHGH",
    "outputId": "c954cace-ad21-49a7-cc34-aaa51c7a058a"
   },
   "outputs": [
    {
     "name": "stdout",
     "output_type": "stream",
     "text": [
      "Q1: 18000.0\n",
      "Q3: 75000.0\n",
      "IQR: 57000.0\n"
     ]
    }
   ],
   "source": [
    "# Hitung nilai Q1 dan Q3\n",
    "Q1_2 = np.quantile(olsera['amount'], .25)\n",
    "Q3_2 = np.quantile(olsera['amount'], .75)\n",
    "IQR = Q3_2-Q1_2\n",
    "lower_range = Q1_2 - (1.5*IQR)\n",
    "upper_range = Q3_2 + (1.5*IQR)\n",
    "print(\"Q1:\",Q1_2)\n",
    "print(\"Q3:\",Q3_2)\n",
    "print(\"IQR:\",IQR)"
   ]
  },
  {
   "cell_type": "code",
   "execution_count": 101,
   "id": "be181b2d",
   "metadata": {
    "colab": {
     "base_uri": "https://localhost:8080/",
     "height": 1000
    },
    "id": "a6bd8471",
    "outputId": "1fa832c1-8f41-491a-9c71-280e9672ff2f"
   },
   "outputs": [
    {
     "data": {
      "text/html": [
       "<div>\n",
       "<style scoped>\n",
       "    .dataframe tbody tr th:only-of-type {\n",
       "        vertical-align: middle;\n",
       "    }\n",
       "\n",
       "    .dataframe tbody tr th {\n",
       "        vertical-align: top;\n",
       "    }\n",
       "\n",
       "    .dataframe thead th {\n",
       "        text-align: right;\n",
       "    }\n",
       "</style>\n",
       "<table border=\"1\" class=\"dataframe\">\n",
       "  <thead>\n",
       "    <tr style=\"text-align: right;\">\n",
       "      <th></th>\n",
       "      <th>order no</th>\n",
       "      <th>item group</th>\n",
       "      <th>item name</th>\n",
       "      <th>qty</th>\n",
       "      <th>price</th>\n",
       "      <th>amount</th>\n",
       "      <th>payment type</th>\n",
       "      <th>order_time</th>\n",
       "      <th>order_no</th>\n",
       "      <th>OrderYearMonth</th>\n",
       "      <th>Date</th>\n",
       "      <th>Year</th>\n",
       "      <th>Month</th>\n",
       "    </tr>\n",
       "  </thead>\n",
       "  <tbody>\n",
       "    <tr>\n",
       "      <th>37</th>\n",
       "      <td>E39421020800000061</td>\n",
       "      <td>Choco Drink</td>\n",
       "      <td>Fresh and Fight - 25 gr</td>\n",
       "      <td>15</td>\n",
       "      <td>18000</td>\n",
       "      <td>270000</td>\n",
       "      <td>BNI Andri Setyowati</td>\n",
       "      <td>2021-02-08 14:19:46</td>\n",
       "      <td>E39421020800000061</td>\n",
       "      <td>202102</td>\n",
       "      <td>2021-02</td>\n",
       "      <td>2021</td>\n",
       "      <td>02</td>\n",
       "    </tr>\n",
       "    <tr>\n",
       "      <th>38</th>\n",
       "      <td>E39421020800000061</td>\n",
       "      <td>Choco Drink</td>\n",
       "      <td>Immune Booster Chocodrink - 25 gr</td>\n",
       "      <td>15</td>\n",
       "      <td>18000</td>\n",
       "      <td>270000</td>\n",
       "      <td>BNI Andri Setyowati</td>\n",
       "      <td>2021-02-08 14:19:46</td>\n",
       "      <td>E39421020800000061</td>\n",
       "      <td>202102</td>\n",
       "      <td>2021-02</td>\n",
       "      <td>2021</td>\n",
       "      <td>02</td>\n",
       "    </tr>\n",
       "    <tr>\n",
       "      <th>39</th>\n",
       "      <td>E39421020800000061</td>\n",
       "      <td>Choco Drink</td>\n",
       "      <td>Stress Release - 25 gr</td>\n",
       "      <td>15</td>\n",
       "      <td>18000</td>\n",
       "      <td>270000</td>\n",
       "      <td>BNI Andri Setyowati</td>\n",
       "      <td>2021-02-08 14:19:46</td>\n",
       "      <td>E39421020800000061</td>\n",
       "      <td>202102</td>\n",
       "      <td>2021-02</td>\n",
       "      <td>2021</td>\n",
       "      <td>02</td>\n",
       "    </tr>\n",
       "    <tr>\n",
       "      <th>70</th>\n",
       "      <td>E39421030300000125</td>\n",
       "      <td>Choco Drink</td>\n",
       "      <td>Fresh and Fight - 25 gr</td>\n",
       "      <td>10</td>\n",
       "      <td>18000</td>\n",
       "      <td>180000</td>\n",
       "      <td>BRI Andri Setyowati</td>\n",
       "      <td>2021-03-03 17:38:29</td>\n",
       "      <td>E39421030300000125</td>\n",
       "      <td>202103</td>\n",
       "      <td>2021-03</td>\n",
       "      <td>2021</td>\n",
       "      <td>03</td>\n",
       "    </tr>\n",
       "    <tr>\n",
       "      <th>71</th>\n",
       "      <td>E39421030300000125</td>\n",
       "      <td>Choco Drink</td>\n",
       "      <td>Stress Release - 25 gr</td>\n",
       "      <td>10</td>\n",
       "      <td>18000</td>\n",
       "      <td>180000</td>\n",
       "      <td>BRI Andri Setyowati</td>\n",
       "      <td>2021-03-03 17:38:29</td>\n",
       "      <td>E39421030300000125</td>\n",
       "      <td>202103</td>\n",
       "      <td>2021-03</td>\n",
       "      <td>2021</td>\n",
       "      <td>03</td>\n",
       "    </tr>\n",
       "    <tr>\n",
       "      <th>72</th>\n",
       "      <td>E39421030300000125</td>\n",
       "      <td>Choco Drink</td>\n",
       "      <td>Immune Booster Chocodrink - 25 gr</td>\n",
       "      <td>10</td>\n",
       "      <td>18000</td>\n",
       "      <td>180000</td>\n",
       "      <td>BRI Andri Setyowati</td>\n",
       "      <td>2021-03-03 17:38:29</td>\n",
       "      <td>E39421030300000125</td>\n",
       "      <td>202103</td>\n",
       "      <td>2021-03</td>\n",
       "      <td>2021</td>\n",
       "      <td>03</td>\n",
       "    </tr>\n",
       "    <tr>\n",
       "      <th>75</th>\n",
       "      <td>E39421031800000157</td>\n",
       "      <td>Choco Drink</td>\n",
       "      <td>Immune Booster Chocodrink - 25 gr</td>\n",
       "      <td>10</td>\n",
       "      <td>18000</td>\n",
       "      <td>180000</td>\n",
       "      <td>Reseller</td>\n",
       "      <td>2021-03-18 16:28:37</td>\n",
       "      <td>E39421031800000157</td>\n",
       "      <td>202103</td>\n",
       "      <td>2021-03</td>\n",
       "      <td>2021</td>\n",
       "      <td>03</td>\n",
       "    </tr>\n",
       "    <tr>\n",
       "      <th>76</th>\n",
       "      <td>E39421031800000157</td>\n",
       "      <td>Choco Drink</td>\n",
       "      <td>Stress Release - 25 gr</td>\n",
       "      <td>10</td>\n",
       "      <td>18000</td>\n",
       "      <td>180000</td>\n",
       "      <td>Reseller</td>\n",
       "      <td>2021-03-18 16:28:37</td>\n",
       "      <td>E39421031800000157</td>\n",
       "      <td>202103</td>\n",
       "      <td>2021-03</td>\n",
       "      <td>2021</td>\n",
       "      <td>03</td>\n",
       "    </tr>\n",
       "    <tr>\n",
       "      <th>77</th>\n",
       "      <td>E39421031800000157</td>\n",
       "      <td>Choco Drink</td>\n",
       "      <td>Fresh and Fight - 25 gr</td>\n",
       "      <td>10</td>\n",
       "      <td>18000</td>\n",
       "      <td>180000</td>\n",
       "      <td>Reseller</td>\n",
       "      <td>2021-03-18 16:28:37</td>\n",
       "      <td>E39421031800000157</td>\n",
       "      <td>202103</td>\n",
       "      <td>2021-03</td>\n",
       "      <td>2021</td>\n",
       "      <td>03</td>\n",
       "    </tr>\n",
       "    <tr>\n",
       "      <th>111</th>\n",
       "      <td>E39421051100000374</td>\n",
       "      <td>Choco Drink</td>\n",
       "      <td>Stress Release - 150 gr</td>\n",
       "      <td>10</td>\n",
       "      <td>75000</td>\n",
       "      <td>750000</td>\n",
       "      <td>BNI Andri Setyowati</td>\n",
       "      <td>2021-05-11 15:21:03</td>\n",
       "      <td>E39421051100000374</td>\n",
       "      <td>202105</td>\n",
       "      <td>2021-05</td>\n",
       "      <td>2021</td>\n",
       "      <td>05</td>\n",
       "    </tr>\n",
       "    <tr>\n",
       "      <th>112</th>\n",
       "      <td>E39421051100000374</td>\n",
       "      <td>Choco Drink</td>\n",
       "      <td>Stress Release - 25 gr</td>\n",
       "      <td>21</td>\n",
       "      <td>18000</td>\n",
       "      <td>378000</td>\n",
       "      <td>BNI Andri Setyowati</td>\n",
       "      <td>2021-05-11 15:21:03</td>\n",
       "      <td>E39421051100000374</td>\n",
       "      <td>202105</td>\n",
       "      <td>2021-05</td>\n",
       "      <td>2021</td>\n",
       "      <td>05</td>\n",
       "    </tr>\n",
       "    <tr>\n",
       "      <th>113</th>\n",
       "      <td>E39421051100000374</td>\n",
       "      <td>Choco Drink</td>\n",
       "      <td>Immune Booster Chocodrink - 25 gr</td>\n",
       "      <td>21</td>\n",
       "      <td>18000</td>\n",
       "      <td>378000</td>\n",
       "      <td>BNI Andri Setyowati</td>\n",
       "      <td>2021-05-11 15:21:03</td>\n",
       "      <td>E39421051100000374</td>\n",
       "      <td>202105</td>\n",
       "      <td>2021-05</td>\n",
       "      <td>2021</td>\n",
       "      <td>05</td>\n",
       "    </tr>\n",
       "    <tr>\n",
       "      <th>118</th>\n",
       "      <td>E39421053100000431</td>\n",
       "      <td>Choco Drink</td>\n",
       "      <td>Immune Booster Chocodrink - 25 gr</td>\n",
       "      <td>10</td>\n",
       "      <td>18000</td>\n",
       "      <td>180000</td>\n",
       "      <td>BNI Andri Setyowati</td>\n",
       "      <td>2021-05-31 09:14:46</td>\n",
       "      <td>E39421053100000431</td>\n",
       "      <td>202105</td>\n",
       "      <td>2021-05</td>\n",
       "      <td>2021</td>\n",
       "      <td>05</td>\n",
       "    </tr>\n",
       "    <tr>\n",
       "      <th>122</th>\n",
       "      <td>E39421051100000374</td>\n",
       "      <td>Choco Drink</td>\n",
       "      <td>Stress Release - 150 gr</td>\n",
       "      <td>10</td>\n",
       "      <td>75000</td>\n",
       "      <td>750000</td>\n",
       "      <td>BNI Andri Setyowati</td>\n",
       "      <td>2021-05-11 15:21:03</td>\n",
       "      <td>E39421051100000374</td>\n",
       "      <td>202105</td>\n",
       "      <td>2021-05</td>\n",
       "      <td>2021</td>\n",
       "      <td>05</td>\n",
       "    </tr>\n",
       "    <tr>\n",
       "      <th>123</th>\n",
       "      <td>E39421051100000374</td>\n",
       "      <td>Choco Drink</td>\n",
       "      <td>Stress Release - 25 gr</td>\n",
       "      <td>21</td>\n",
       "      <td>18000</td>\n",
       "      <td>378000</td>\n",
       "      <td>BNI Andri Setyowati</td>\n",
       "      <td>2021-05-11 15:21:03</td>\n",
       "      <td>E39421051100000374</td>\n",
       "      <td>202105</td>\n",
       "      <td>2021-05</td>\n",
       "      <td>2021</td>\n",
       "      <td>05</td>\n",
       "    </tr>\n",
       "    <tr>\n",
       "      <th>124</th>\n",
       "      <td>E39421051100000374</td>\n",
       "      <td>Choco Drink</td>\n",
       "      <td>Immune Booster Chocodrink - 25 gr</td>\n",
       "      <td>21</td>\n",
       "      <td>18000</td>\n",
       "      <td>378000</td>\n",
       "      <td>BNI Andri Setyowati</td>\n",
       "      <td>2021-05-11 15:21:03</td>\n",
       "      <td>E39421051100000374</td>\n",
       "      <td>202105</td>\n",
       "      <td>2021-05</td>\n",
       "      <td>2021</td>\n",
       "      <td>05</td>\n",
       "    </tr>\n",
       "    <tr>\n",
       "      <th>129</th>\n",
       "      <td>E39421053100000431</td>\n",
       "      <td>Choco Drink</td>\n",
       "      <td>Immune Booster Chocodrink - 25 gr</td>\n",
       "      <td>10</td>\n",
       "      <td>18000</td>\n",
       "      <td>180000</td>\n",
       "      <td>BNI Andri Setyowati</td>\n",
       "      <td>2021-05-31 09:14:46</td>\n",
       "      <td>E39421053100000431</td>\n",
       "      <td>202105</td>\n",
       "      <td>2021-05</td>\n",
       "      <td>2021</td>\n",
       "      <td>05</td>\n",
       "    </tr>\n",
       "    <tr>\n",
       "      <th>149</th>\n",
       "      <td>E39421090600000455</td>\n",
       "      <td>Choco Drink</td>\n",
       "      <td>Immune Booster Chocodrink - 25 gr</td>\n",
       "      <td>20</td>\n",
       "      <td>18000</td>\n",
       "      <td>360000</td>\n",
       "      <td>BNI Andri Setyowati</td>\n",
       "      <td>2021-09-06 09:34:30</td>\n",
       "      <td>E39421090600000455</td>\n",
       "      <td>202109</td>\n",
       "      <td>2021-09</td>\n",
       "      <td>2021</td>\n",
       "      <td>09</td>\n",
       "    </tr>\n",
       "    <tr>\n",
       "      <th>150</th>\n",
       "      <td>E39421090600000455</td>\n",
       "      <td>Choco Drink</td>\n",
       "      <td>Stress Release - 25 gr</td>\n",
       "      <td>10</td>\n",
       "      <td>18000</td>\n",
       "      <td>180000</td>\n",
       "      <td>BNI Andri Setyowati</td>\n",
       "      <td>2021-09-06 09:34:30</td>\n",
       "      <td>E39421090600000455</td>\n",
       "      <td>202109</td>\n",
       "      <td>2021-09</td>\n",
       "      <td>2021</td>\n",
       "      <td>09</td>\n",
       "    </tr>\n",
       "    <tr>\n",
       "      <th>151</th>\n",
       "      <td>E39421090600000455</td>\n",
       "      <td>Choco Drink</td>\n",
       "      <td>Fresh and Fight - 25 gr</td>\n",
       "      <td>10</td>\n",
       "      <td>18000</td>\n",
       "      <td>180000</td>\n",
       "      <td>BNI Andri Setyowati</td>\n",
       "      <td>2021-09-06 09:34:30</td>\n",
       "      <td>E39421090600000455</td>\n",
       "      <td>202109</td>\n",
       "      <td>2021-09</td>\n",
       "      <td>2021</td>\n",
       "      <td>09</td>\n",
       "    </tr>\n",
       "    <tr>\n",
       "      <th>225</th>\n",
       "      <td>06C921122400000549</td>\n",
       "      <td>Choco Drink</td>\n",
       "      <td>Stress Release - 150 gr</td>\n",
       "      <td>10</td>\n",
       "      <td>75000</td>\n",
       "      <td>750000</td>\n",
       "      <td>Mandiri CV Nutrico Nusantara</td>\n",
       "      <td>2021-12-24 16:15:16</td>\n",
       "      <td>06C921122400000549</td>\n",
       "      <td>202112</td>\n",
       "      <td>2021-12</td>\n",
       "      <td>2021</td>\n",
       "      <td>12</td>\n",
       "    </tr>\n",
       "    <tr>\n",
       "      <th>235</th>\n",
       "      <td>E39422012800000492</td>\n",
       "      <td>Choco Drink</td>\n",
       "      <td>Fresh and Fight - 150 gr</td>\n",
       "      <td>8</td>\n",
       "      <td>63750</td>\n",
       "      <td>510000</td>\n",
       "      <td>Mandiri CV Nutrico Nusantara</td>\n",
       "      <td>2022-01-28 11:22:59</td>\n",
       "      <td>E39422012800000492</td>\n",
       "      <td>202201</td>\n",
       "      <td>2022-01</td>\n",
       "      <td>2022</td>\n",
       "      <td>01</td>\n",
       "    </tr>\n",
       "    <tr>\n",
       "      <th>236</th>\n",
       "      <td>E39422012800000492</td>\n",
       "      <td>Choco Drink</td>\n",
       "      <td>Stress Release - 150 gr</td>\n",
       "      <td>7</td>\n",
       "      <td>63750</td>\n",
       "      <td>446250</td>\n",
       "      <td>Mandiri CV Nutrico Nusantara</td>\n",
       "      <td>2022-01-28 11:22:59</td>\n",
       "      <td>E39422012800000492</td>\n",
       "      <td>202201</td>\n",
       "      <td>2022-01</td>\n",
       "      <td>2022</td>\n",
       "      <td>01</td>\n",
       "    </tr>\n",
       "  </tbody>\n",
       "</table>\n",
       "</div>"
      ],
      "text/plain": [
       "               order no   item group                          item name  qty  \\\n",
       "37   E39421020800000061  Choco Drink            Fresh and Fight - 25 gr   15   \n",
       "38   E39421020800000061  Choco Drink  Immune Booster Chocodrink - 25 gr   15   \n",
       "39   E39421020800000061  Choco Drink             Stress Release - 25 gr   15   \n",
       "70   E39421030300000125  Choco Drink            Fresh and Fight - 25 gr   10   \n",
       "71   E39421030300000125  Choco Drink             Stress Release - 25 gr   10   \n",
       "72   E39421030300000125  Choco Drink  Immune Booster Chocodrink - 25 gr   10   \n",
       "75   E39421031800000157  Choco Drink  Immune Booster Chocodrink - 25 gr   10   \n",
       "76   E39421031800000157  Choco Drink             Stress Release - 25 gr   10   \n",
       "77   E39421031800000157  Choco Drink            Fresh and Fight - 25 gr   10   \n",
       "111  E39421051100000374  Choco Drink            Stress Release - 150 gr   10   \n",
       "112  E39421051100000374  Choco Drink             Stress Release - 25 gr   21   \n",
       "113  E39421051100000374  Choco Drink  Immune Booster Chocodrink - 25 gr   21   \n",
       "118  E39421053100000431  Choco Drink  Immune Booster Chocodrink - 25 gr   10   \n",
       "122  E39421051100000374  Choco Drink            Stress Release - 150 gr   10   \n",
       "123  E39421051100000374  Choco Drink             Stress Release - 25 gr   21   \n",
       "124  E39421051100000374  Choco Drink  Immune Booster Chocodrink - 25 gr   21   \n",
       "129  E39421053100000431  Choco Drink  Immune Booster Chocodrink - 25 gr   10   \n",
       "149  E39421090600000455  Choco Drink  Immune Booster Chocodrink - 25 gr   20   \n",
       "150  E39421090600000455  Choco Drink             Stress Release - 25 gr   10   \n",
       "151  E39421090600000455  Choco Drink            Fresh and Fight - 25 gr   10   \n",
       "225  06C921122400000549  Choco Drink            Stress Release - 150 gr   10   \n",
       "235  E39422012800000492  Choco Drink           Fresh and Fight - 150 gr    8   \n",
       "236  E39422012800000492  Choco Drink            Stress Release - 150 gr    7   \n",
       "\n",
       "     price  amount                  payment type          order_time  \\\n",
       "37   18000  270000           BNI Andri Setyowati 2021-02-08 14:19:46   \n",
       "38   18000  270000           BNI Andri Setyowati 2021-02-08 14:19:46   \n",
       "39   18000  270000           BNI Andri Setyowati 2021-02-08 14:19:46   \n",
       "70   18000  180000           BRI Andri Setyowati 2021-03-03 17:38:29   \n",
       "71   18000  180000           BRI Andri Setyowati 2021-03-03 17:38:29   \n",
       "72   18000  180000           BRI Andri Setyowati 2021-03-03 17:38:29   \n",
       "75   18000  180000                      Reseller 2021-03-18 16:28:37   \n",
       "76   18000  180000                      Reseller 2021-03-18 16:28:37   \n",
       "77   18000  180000                      Reseller 2021-03-18 16:28:37   \n",
       "111  75000  750000           BNI Andri Setyowati 2021-05-11 15:21:03   \n",
       "112  18000  378000           BNI Andri Setyowati 2021-05-11 15:21:03   \n",
       "113  18000  378000           BNI Andri Setyowati 2021-05-11 15:21:03   \n",
       "118  18000  180000           BNI Andri Setyowati 2021-05-31 09:14:46   \n",
       "122  75000  750000           BNI Andri Setyowati 2021-05-11 15:21:03   \n",
       "123  18000  378000           BNI Andri Setyowati 2021-05-11 15:21:03   \n",
       "124  18000  378000           BNI Andri Setyowati 2021-05-11 15:21:03   \n",
       "129  18000  180000           BNI Andri Setyowati 2021-05-31 09:14:46   \n",
       "149  18000  360000           BNI Andri Setyowati 2021-09-06 09:34:30   \n",
       "150  18000  180000           BNI Andri Setyowati 2021-09-06 09:34:30   \n",
       "151  18000  180000           BNI Andri Setyowati 2021-09-06 09:34:30   \n",
       "225  75000  750000  Mandiri CV Nutrico Nusantara 2021-12-24 16:15:16   \n",
       "235  63750  510000  Mandiri CV Nutrico Nusantara 2022-01-28 11:22:59   \n",
       "236  63750  446250  Mandiri CV Nutrico Nusantara 2022-01-28 11:22:59   \n",
       "\n",
       "               order_no  OrderYearMonth     Date  Year Month  \n",
       "37   E39421020800000061          202102  2021-02  2021    02  \n",
       "38   E39421020800000061          202102  2021-02  2021    02  \n",
       "39   E39421020800000061          202102  2021-02  2021    02  \n",
       "70   E39421030300000125          202103  2021-03  2021    03  \n",
       "71   E39421030300000125          202103  2021-03  2021    03  \n",
       "72   E39421030300000125          202103  2021-03  2021    03  \n",
       "75   E39421031800000157          202103  2021-03  2021    03  \n",
       "76   E39421031800000157          202103  2021-03  2021    03  \n",
       "77   E39421031800000157          202103  2021-03  2021    03  \n",
       "111  E39421051100000374          202105  2021-05  2021    05  \n",
       "112  E39421051100000374          202105  2021-05  2021    05  \n",
       "113  E39421051100000374          202105  2021-05  2021    05  \n",
       "118  E39421053100000431          202105  2021-05  2021    05  \n",
       "122  E39421051100000374          202105  2021-05  2021    05  \n",
       "123  E39421051100000374          202105  2021-05  2021    05  \n",
       "124  E39421051100000374          202105  2021-05  2021    05  \n",
       "129  E39421053100000431          202105  2021-05  2021    05  \n",
       "149  E39421090600000455          202109  2021-09  2021    09  \n",
       "150  E39421090600000455          202109  2021-09  2021    09  \n",
       "151  E39421090600000455          202109  2021-09  2021    09  \n",
       "225  06C921122400000549          202112  2021-12  2021    12  \n",
       "235  E39422012800000492          202201  2022-01  2022    01  \n",
       "236  E39422012800000492          202201  2022-01  2022    01  "
      ]
     },
     "execution_count": 101,
     "metadata": {},
     "output_type": "execute_result"
    }
   ],
   "source": [
    "out_total_am= olsera[(olsera['amount']<lower_range)| (olsera['amount']>upper_range)]\n",
    "out_total_am"
   ]
  },
  {
   "cell_type": "code",
   "execution_count": 102,
   "id": "1bd172a5",
   "metadata": {
    "colab": {
     "base_uri": "https://localhost:8080/"
    },
    "id": "LRJjFh085SMs",
    "outputId": "80bb68d1-d34a-48e6-bd62-2fa46ae7e9e9"
   },
   "outputs": [
    {
     "name": "stdout",
     "output_type": "stream",
     "text": [
      "<class 'pandas.core.frame.DataFrame'>\n",
      "Int64Index: 23 entries, 37 to 236\n",
      "Data columns (total 13 columns):\n",
      " #   Column          Non-Null Count  Dtype         \n",
      "---  ------          --------------  -----         \n",
      " 0   order no        23 non-null     object        \n",
      " 1   item group      23 non-null     object        \n",
      " 2   item name       23 non-null     object        \n",
      " 3   qty             23 non-null     int64         \n",
      " 4   price           23 non-null     int64         \n",
      " 5   amount          23 non-null     int64         \n",
      " 6   payment type    23 non-null     object        \n",
      " 7   order_time      23 non-null     datetime64[ns]\n",
      " 8   order_no        23 non-null     object        \n",
      " 9   OrderYearMonth  23 non-null     int64         \n",
      " 10  Date            23 non-null     object        \n",
      " 11  Year            23 non-null     object        \n",
      " 12  Month           23 non-null     object        \n",
      "dtypes: datetime64[ns](1), int64(4), object(8)\n",
      "memory usage: 2.5+ KB\n"
     ]
    }
   ],
   "source": [
    "out_total_am.info()"
   ]
  },
  {
   "cell_type": "code",
   "execution_count": 103,
   "id": "91f097cb",
   "metadata": {
    "colab": {
     "base_uri": "https://localhost:8080/",
     "height": 514
    },
    "id": "kndvs15FfTAf",
    "outputId": "13bc1bc0-4c08-4c98-a55a-9a5ac1a1091f"
   },
   "outputs": [
    {
     "data": {
      "text/plain": [
       "<AxesSubplot:xlabel='amount'>"
      ]
     },
     "execution_count": 103,
     "metadata": {},
     "output_type": "execute_result"
    },
    {
     "data": {
      "image/png": "[encoded data removed]",
      "text/plain": [
       "<Figure size 864x576 with 1 Axes>"
      ]
     },
     "metadata": {
      "needs_background": "light"
     },
     "output_type": "display_data"
    }
   ],
   "source": [
    "plt.figure(figsize=(12,8))\n",
    "\n",
    "sns.boxplot(x='amount', data=olsera)"
   ]
  },
  {
   "cell_type": "markdown",
   "id": "cfe7a358",
   "metadata": {
    "id": "kbCI21v4fWmv"
   },
   "source": [
    "Kita bisa melihat **boxplot di atas menunjukkan adanya outlier pada kolom jumlah pendapatan di tiap transaksi,** yang dimana outlier terjadi jika data berada di luar dari rentan yang paling banyak terjadi transaksi, yaitu 18000 dan 75000. Untuk pendapatan di luar rentan tersebut dinyatakan sebagai outlier. **Jumlah outlier yang ada pada kolom ini sebanyak 23 outlier atau 0.09%**"
   ]
  },
  {
   "cell_type": "markdown",
   "id": "6ba72c39",
   "metadata": {
    "id": "4a_O5z3J56Yq"
   },
   "source": [
    "**Mengecek adanya outlier pada kolom price**"
   ]
  },
  {
   "cell_type": "code",
   "execution_count": 104,
   "id": "d7e64aee",
   "metadata": {
    "colab": {
     "base_uri": "https://localhost:8080/"
    },
    "id": "FcBvwUmD5Rbo",
    "outputId": "ba8992f0-47bb-423a-afce-6f828b0660eb"
   },
   "outputs": [
    {
     "name": "stdout",
     "output_type": "stream",
     "text": [
      "Q1: 18000.0\n",
      "Q3: 18000.0\n",
      "IQR: 0.0\n"
     ]
    }
   ],
   "source": [
    "# Hitung nilai Q1 dan Q3\n",
    "Q1_3 = np.quantile(olsera['price'], .25)\n",
    "Q3_3 = np.quantile(olsera['price'], .75)\n",
    "IQR = Q3_3-Q1_3\n",
    "lower_range = Q1_3 - (1.5*IQR)\n",
    "upper_range = Q3_3 + (1.5*IQR)\n",
    "print(\"Q1:\",Q1_3)\n",
    "print(\"Q3:\",Q3_3)\n",
    "print(\"IQR:\",IQR)"
   ]
  },
  {
   "cell_type": "code",
   "execution_count": 105,
   "id": "8c961ad0",
   "metadata": {
    "colab": {
     "base_uri": "https://localhost:8080/",
     "height": 1000
    },
    "id": "lJ4regfU5ceT",
    "outputId": "281af8aa-30d2-48a8-9ae0-82662c215292"
   },
   "outputs": [
    {
     "data": {
      "text/html": [
       "<div>\n",
       "<style scoped>\n",
       "    .dataframe tbody tr th:only-of-type {\n",
       "        vertical-align: middle;\n",
       "    }\n",
       "\n",
       "    .dataframe tbody tr th {\n",
       "        vertical-align: top;\n",
       "    }\n",
       "\n",
       "    .dataframe thead th {\n",
       "        text-align: right;\n",
       "    }\n",
       "</style>\n",
       "<table border=\"1\" class=\"dataframe\">\n",
       "  <thead>\n",
       "    <tr style=\"text-align: right;\">\n",
       "      <th></th>\n",
       "      <th>order no</th>\n",
       "      <th>item group</th>\n",
       "      <th>item name</th>\n",
       "      <th>qty</th>\n",
       "      <th>price</th>\n",
       "      <th>amount</th>\n",
       "      <th>payment type</th>\n",
       "      <th>order_time</th>\n",
       "      <th>order_no</th>\n",
       "      <th>OrderYearMonth</th>\n",
       "      <th>Date</th>\n",
       "      <th>Year</th>\n",
       "      <th>Month</th>\n",
       "    </tr>\n",
       "  </thead>\n",
       "  <tbody>\n",
       "    <tr>\n",
       "      <th>12</th>\n",
       "      <td>E39421013000000012</td>\n",
       "      <td>Choco Drink</td>\n",
       "      <td>Stress Release - 150 gr</td>\n",
       "      <td>1</td>\n",
       "      <td>75000</td>\n",
       "      <td>75000</td>\n",
       "      <td>Pembelian Via Shopee</td>\n",
       "      <td>2021-01-30 08:06:22</td>\n",
       "      <td>E39421013000000012</td>\n",
       "      <td>202101</td>\n",
       "      <td>2021-01</td>\n",
       "      <td>2021</td>\n",
       "      <td>01</td>\n",
       "    </tr>\n",
       "    <tr>\n",
       "      <th>53</th>\n",
       "      <td>E39421021600000091</td>\n",
       "      <td>Choco Drink</td>\n",
       "      <td>Immune Booster Chocodrink - 150 gr</td>\n",
       "      <td>1</td>\n",
       "      <td>75000</td>\n",
       "      <td>75000</td>\n",
       "      <td>BNI Andri Setyowati</td>\n",
       "      <td>2021-02-16 15:54:49</td>\n",
       "      <td>E39421021600000091</td>\n",
       "      <td>202102</td>\n",
       "      <td>2021-02</td>\n",
       "      <td>2021</td>\n",
       "      <td>02</td>\n",
       "    </tr>\n",
       "    <tr>\n",
       "      <th>54</th>\n",
       "      <td>E39421021600000091</td>\n",
       "      <td>Choco Drink</td>\n",
       "      <td>Fresh and Fight - 150 gr</td>\n",
       "      <td>1</td>\n",
       "      <td>75000</td>\n",
       "      <td>75000</td>\n",
       "      <td>BNI Andri Setyowati</td>\n",
       "      <td>2021-02-16 15:54:49</td>\n",
       "      <td>E39421021600000091</td>\n",
       "      <td>202102</td>\n",
       "      <td>2021-02</td>\n",
       "      <td>2021</td>\n",
       "      <td>02</td>\n",
       "    </tr>\n",
       "    <tr>\n",
       "      <th>55</th>\n",
       "      <td>E39421021600000091</td>\n",
       "      <td>Choco Drink</td>\n",
       "      <td>Stress Release - 150 gr</td>\n",
       "      <td>1</td>\n",
       "      <td>75000</td>\n",
       "      <td>75000</td>\n",
       "      <td>BNI Andri Setyowati</td>\n",
       "      <td>2021-02-16 15:54:49</td>\n",
       "      <td>E39421021600000091</td>\n",
       "      <td>202102</td>\n",
       "      <td>2021-02</td>\n",
       "      <td>2021</td>\n",
       "      <td>02</td>\n",
       "    </tr>\n",
       "    <tr>\n",
       "      <th>56</th>\n",
       "      <td>E39421021600000092</td>\n",
       "      <td>Choco Drink</td>\n",
       "      <td>Fresh and Fight - 150 gr</td>\n",
       "      <td>1</td>\n",
       "      <td>75000</td>\n",
       "      <td>75000</td>\n",
       "      <td>BRI Andri Setyowati</td>\n",
       "      <td>2021-02-16 17:26:36</td>\n",
       "      <td>E39421021600000092</td>\n",
       "      <td>202102</td>\n",
       "      <td>2021-02</td>\n",
       "      <td>2021</td>\n",
       "      <td>02</td>\n",
       "    </tr>\n",
       "    <tr>\n",
       "      <th>67</th>\n",
       "      <td>065321022700000111</td>\n",
       "      <td>Choco Drink</td>\n",
       "      <td>Immune Booster Chocodrink - 150 gr</td>\n",
       "      <td>1</td>\n",
       "      <td>75000</td>\n",
       "      <td>75000</td>\n",
       "      <td>BRI Andri Setyowati</td>\n",
       "      <td>2021-02-27 17:54:37</td>\n",
       "      <td>065321022700000111</td>\n",
       "      <td>202102</td>\n",
       "      <td>2021-02</td>\n",
       "      <td>2021</td>\n",
       "      <td>02</td>\n",
       "    </tr>\n",
       "    <tr>\n",
       "      <th>68</th>\n",
       "      <td>065321022700000111</td>\n",
       "      <td>Choco Drink</td>\n",
       "      <td>Stress Release - 150 gr</td>\n",
       "      <td>1</td>\n",
       "      <td>75000</td>\n",
       "      <td>75000</td>\n",
       "      <td>BRI Andri Setyowati</td>\n",
       "      <td>2021-02-27 17:54:37</td>\n",
       "      <td>065321022700000111</td>\n",
       "      <td>202102</td>\n",
       "      <td>2021-02</td>\n",
       "      <td>2021</td>\n",
       "      <td>02</td>\n",
       "    </tr>\n",
       "    <tr>\n",
       "      <th>69</th>\n",
       "      <td>E39421030300000126</td>\n",
       "      <td>Choco Drink</td>\n",
       "      <td>Immune Booster Chocodrink - 150 gr</td>\n",
       "      <td>2</td>\n",
       "      <td>75000</td>\n",
       "      <td>150000</td>\n",
       "      <td>BRI Andri Setyowati</td>\n",
       "      <td>2021-03-03 17:43:28</td>\n",
       "      <td>E39421030300000126</td>\n",
       "      <td>202103</td>\n",
       "      <td>2021-03</td>\n",
       "      <td>2021</td>\n",
       "      <td>03</td>\n",
       "    </tr>\n",
       "    <tr>\n",
       "      <th>86</th>\n",
       "      <td>E39421032300000170</td>\n",
       "      <td>Choco Drink</td>\n",
       "      <td>Stress Release - 150 gr</td>\n",
       "      <td>1</td>\n",
       "      <td>75000</td>\n",
       "      <td>75000</td>\n",
       "      <td>BNI Andri Setyowati</td>\n",
       "      <td>2021-03-23 18:36:24</td>\n",
       "      <td>E39421032300000170</td>\n",
       "      <td>202103</td>\n",
       "      <td>2021-03</td>\n",
       "      <td>2021</td>\n",
       "      <td>03</td>\n",
       "    </tr>\n",
       "    <tr>\n",
       "      <th>87</th>\n",
       "      <td>E39421032900000184</td>\n",
       "      <td>Choco Drink</td>\n",
       "      <td>Stress Release - 150 gr</td>\n",
       "      <td>1</td>\n",
       "      <td>75000</td>\n",
       "      <td>75000</td>\n",
       "      <td>Reseller</td>\n",
       "      <td>2021-03-29 09:46:52</td>\n",
       "      <td>E39421032900000184</td>\n",
       "      <td>202103</td>\n",
       "      <td>2021-03</td>\n",
       "      <td>2021</td>\n",
       "      <td>03</td>\n",
       "    </tr>\n",
       "    <tr>\n",
       "      <th>93</th>\n",
       "      <td>E39421033100000197</td>\n",
       "      <td>Choco Drink</td>\n",
       "      <td>Fresh and Fight - 150 gr</td>\n",
       "      <td>1</td>\n",
       "      <td>75000</td>\n",
       "      <td>75000</td>\n",
       "      <td>BNI Andri Setyowati</td>\n",
       "      <td>2021-03-31 18:25:31</td>\n",
       "      <td>E39421033100000197</td>\n",
       "      <td>202103</td>\n",
       "      <td>2021-03</td>\n",
       "      <td>2021</td>\n",
       "      <td>03</td>\n",
       "    </tr>\n",
       "    <tr>\n",
       "      <th>98</th>\n",
       "      <td>7EC621041000000008</td>\n",
       "      <td>Choco Drink</td>\n",
       "      <td>Stress Release - 150 gr</td>\n",
       "      <td>1</td>\n",
       "      <td>75000</td>\n",
       "      <td>75000</td>\n",
       "      <td>CASH</td>\n",
       "      <td>2021-04-10 11:06:14</td>\n",
       "      <td>7EC621041000000008</td>\n",
       "      <td>202104</td>\n",
       "      <td>2021-04</td>\n",
       "      <td>2021</td>\n",
       "      <td>04</td>\n",
       "    </tr>\n",
       "    <tr>\n",
       "      <th>108</th>\n",
       "      <td>AFA321042900000001</td>\n",
       "      <td>Choco Drink</td>\n",
       "      <td>Stress Release - 150 gr</td>\n",
       "      <td>1</td>\n",
       "      <td>75000</td>\n",
       "      <td>75000</td>\n",
       "      <td>Reseller</td>\n",
       "      <td>2021-04-29 10:20:32</td>\n",
       "      <td>AFA321042900000001</td>\n",
       "      <td>202104</td>\n",
       "      <td>2021-04</td>\n",
       "      <td>2021</td>\n",
       "      <td>04</td>\n",
       "    </tr>\n",
       "    <tr>\n",
       "      <th>109</th>\n",
       "      <td>E39421051100000358</td>\n",
       "      <td>Choco Drink</td>\n",
       "      <td>Fresh and Fight - 150 gr</td>\n",
       "      <td>1</td>\n",
       "      <td>75000</td>\n",
       "      <td>75000</td>\n",
       "      <td>BNI Andri Setyowati</td>\n",
       "      <td>2021-05-11 14:21:40</td>\n",
       "      <td>E39421051100000358</td>\n",
       "      <td>202105</td>\n",
       "      <td>2021-05</td>\n",
       "      <td>2021</td>\n",
       "      <td>05</td>\n",
       "    </tr>\n",
       "    <tr>\n",
       "      <th>110</th>\n",
       "      <td>E39421051100000360</td>\n",
       "      <td>Choco Drink</td>\n",
       "      <td>Fresh and Fight - 150 gr</td>\n",
       "      <td>1</td>\n",
       "      <td>75000</td>\n",
       "      <td>75000</td>\n",
       "      <td>BNI Andri Setyowati</td>\n",
       "      <td>2021-05-11 14:24:19</td>\n",
       "      <td>E39421051100000360</td>\n",
       "      <td>202105</td>\n",
       "      <td>2021-05</td>\n",
       "      <td>2021</td>\n",
       "      <td>05</td>\n",
       "    </tr>\n",
       "    <tr>\n",
       "      <th>111</th>\n",
       "      <td>E39421051100000374</td>\n",
       "      <td>Choco Drink</td>\n",
       "      <td>Stress Release - 150 gr</td>\n",
       "      <td>10</td>\n",
       "      <td>75000</td>\n",
       "      <td>750000</td>\n",
       "      <td>BNI Andri Setyowati</td>\n",
       "      <td>2021-05-11 15:21:03</td>\n",
       "      <td>E39421051100000374</td>\n",
       "      <td>202105</td>\n",
       "      <td>2021-05</td>\n",
       "      <td>2021</td>\n",
       "      <td>05</td>\n",
       "    </tr>\n",
       "    <tr>\n",
       "      <th>114</th>\n",
       "      <td>E39421052000000393</td>\n",
       "      <td>Choco Drink</td>\n",
       "      <td>Stress Release - 150 gr</td>\n",
       "      <td>1</td>\n",
       "      <td>75000</td>\n",
       "      <td>75000</td>\n",
       "      <td>BNI Andri Setyowati</td>\n",
       "      <td>2021-05-20 16:22:19</td>\n",
       "      <td>E39421052000000393</td>\n",
       "      <td>202105</td>\n",
       "      <td>2021-05</td>\n",
       "      <td>2021</td>\n",
       "      <td>05</td>\n",
       "    </tr>\n",
       "    <tr>\n",
       "      <th>119</th>\n",
       "      <td>E39421053100000431</td>\n",
       "      <td>Choco Drink</td>\n",
       "      <td>Immune Booster Chocodrink - 150 gr</td>\n",
       "      <td>2</td>\n",
       "      <td>75000</td>\n",
       "      <td>150000</td>\n",
       "      <td>BNI Andri Setyowati</td>\n",
       "      <td>2021-05-31 09:14:46</td>\n",
       "      <td>E39421053100000431</td>\n",
       "      <td>202105</td>\n",
       "      <td>2021-05</td>\n",
       "      <td>2021</td>\n",
       "      <td>05</td>\n",
       "    </tr>\n",
       "    <tr>\n",
       "      <th>120</th>\n",
       "      <td>E39421051100000358</td>\n",
       "      <td>Choco Drink</td>\n",
       "      <td>Fresh and Fight - 150 gr</td>\n",
       "      <td>1</td>\n",
       "      <td>75000</td>\n",
       "      <td>75000</td>\n",
       "      <td>BNI Andri Setyowati</td>\n",
       "      <td>2021-05-11 14:21:40</td>\n",
       "      <td>E39421051100000358</td>\n",
       "      <td>202105</td>\n",
       "      <td>2021-05</td>\n",
       "      <td>2021</td>\n",
       "      <td>05</td>\n",
       "    </tr>\n",
       "    <tr>\n",
       "      <th>121</th>\n",
       "      <td>E39421051100000360</td>\n",
       "      <td>Choco Drink</td>\n",
       "      <td>Fresh and Fight - 150 gr</td>\n",
       "      <td>1</td>\n",
       "      <td>75000</td>\n",
       "      <td>75000</td>\n",
       "      <td>BNI Andri Setyowati</td>\n",
       "      <td>2021-05-11 14:24:19</td>\n",
       "      <td>E39421051100000360</td>\n",
       "      <td>202105</td>\n",
       "      <td>2021-05</td>\n",
       "      <td>2021</td>\n",
       "      <td>05</td>\n",
       "    </tr>\n",
       "    <tr>\n",
       "      <th>122</th>\n",
       "      <td>E39421051100000374</td>\n",
       "      <td>Choco Drink</td>\n",
       "      <td>Stress Release - 150 gr</td>\n",
       "      <td>10</td>\n",
       "      <td>75000</td>\n",
       "      <td>750000</td>\n",
       "      <td>BNI Andri Setyowati</td>\n",
       "      <td>2021-05-11 15:21:03</td>\n",
       "      <td>E39421051100000374</td>\n",
       "      <td>202105</td>\n",
       "      <td>2021-05</td>\n",
       "      <td>2021</td>\n",
       "      <td>05</td>\n",
       "    </tr>\n",
       "    <tr>\n",
       "      <th>125</th>\n",
       "      <td>E39421052000000393</td>\n",
       "      <td>Choco Drink</td>\n",
       "      <td>Stress Release - 150 gr</td>\n",
       "      <td>1</td>\n",
       "      <td>75000</td>\n",
       "      <td>75000</td>\n",
       "      <td>BNI Andri Setyowati</td>\n",
       "      <td>2021-05-20 16:22:19</td>\n",
       "      <td>E39421052000000393</td>\n",
       "      <td>202105</td>\n",
       "      <td>2021-05</td>\n",
       "      <td>2021</td>\n",
       "      <td>05</td>\n",
       "    </tr>\n",
       "    <tr>\n",
       "      <th>130</th>\n",
       "      <td>E39421053100000431</td>\n",
       "      <td>Choco Drink</td>\n",
       "      <td>Immune Booster Chocodrink - 150 gr</td>\n",
       "      <td>2</td>\n",
       "      <td>75000</td>\n",
       "      <td>150000</td>\n",
       "      <td>BNI Andri Setyowati</td>\n",
       "      <td>2021-05-31 09:14:46</td>\n",
       "      <td>E39421053100000431</td>\n",
       "      <td>202105</td>\n",
       "      <td>2021-05</td>\n",
       "      <td>2021</td>\n",
       "      <td>05</td>\n",
       "    </tr>\n",
       "    <tr>\n",
       "      <th>179</th>\n",
       "      <td>06C921102200000341</td>\n",
       "      <td>Choco Drink</td>\n",
       "      <td>Stress Release - 150 gr</td>\n",
       "      <td>1</td>\n",
       "      <td>75000</td>\n",
       "      <td>75000</td>\n",
       "      <td>BNI Andri Setyowati</td>\n",
       "      <td>2021-10-22 08:40:08</td>\n",
       "      <td>06C921102200000341</td>\n",
       "      <td>202110</td>\n",
       "      <td>2021-10</td>\n",
       "      <td>2021</td>\n",
       "      <td>10</td>\n",
       "    </tr>\n",
       "    <tr>\n",
       "      <th>205</th>\n",
       "      <td>06C921112300000429</td>\n",
       "      <td>Choco Drink</td>\n",
       "      <td>Fresh and Fight - 150 gr</td>\n",
       "      <td>1</td>\n",
       "      <td>75000</td>\n",
       "      <td>75000</td>\n",
       "      <td>BRI Andri Setyowati</td>\n",
       "      <td>2021-11-23 09:27:09</td>\n",
       "      <td>06C921112300000429</td>\n",
       "      <td>202111</td>\n",
       "      <td>2021-11</td>\n",
       "      <td>2021</td>\n",
       "      <td>11</td>\n",
       "    </tr>\n",
       "    <tr>\n",
       "      <th>206</th>\n",
       "      <td>06C921112400000434</td>\n",
       "      <td>Choco Drink</td>\n",
       "      <td>Stress Release - 150 gr</td>\n",
       "      <td>1</td>\n",
       "      <td>75000</td>\n",
       "      <td>75000</td>\n",
       "      <td>Bukalapak</td>\n",
       "      <td>2021-11-24 11:49:32</td>\n",
       "      <td>06C921112400000434</td>\n",
       "      <td>202111</td>\n",
       "      <td>2021-11</td>\n",
       "      <td>2021</td>\n",
       "      <td>11</td>\n",
       "    </tr>\n",
       "    <tr>\n",
       "      <th>213</th>\n",
       "      <td>06C921120700000474</td>\n",
       "      <td>Choco Drink</td>\n",
       "      <td>Immune Booster Chocodrink - 150 gr</td>\n",
       "      <td>1</td>\n",
       "      <td>75000</td>\n",
       "      <td>75000</td>\n",
       "      <td>Bukalapak</td>\n",
       "      <td>2021-12-07 11:10:34</td>\n",
       "      <td>06C921120700000474</td>\n",
       "      <td>202112</td>\n",
       "      <td>2021-12</td>\n",
       "      <td>2021</td>\n",
       "      <td>12</td>\n",
       "    </tr>\n",
       "    <tr>\n",
       "      <th>224</th>\n",
       "      <td>06C921122400000546</td>\n",
       "      <td>Choco Drink</td>\n",
       "      <td>Fresh and Fight - 150 gr</td>\n",
       "      <td>1</td>\n",
       "      <td>75000</td>\n",
       "      <td>75000</td>\n",
       "      <td>Sample Product dan Hadiah</td>\n",
       "      <td>2021-12-24 16:07:33</td>\n",
       "      <td>06C921122400000546</td>\n",
       "      <td>202112</td>\n",
       "      <td>2021-12</td>\n",
       "      <td>2021</td>\n",
       "      <td>12</td>\n",
       "    </tr>\n",
       "    <tr>\n",
       "      <th>225</th>\n",
       "      <td>06C921122400000549</td>\n",
       "      <td>Choco Drink</td>\n",
       "      <td>Stress Release - 150 gr</td>\n",
       "      <td>10</td>\n",
       "      <td>75000</td>\n",
       "      <td>750000</td>\n",
       "      <td>Mandiri CV Nutrico Nusantara</td>\n",
       "      <td>2021-12-24 16:15:16</td>\n",
       "      <td>06C921122400000549</td>\n",
       "      <td>202112</td>\n",
       "      <td>2021-12</td>\n",
       "      <td>2021</td>\n",
       "      <td>12</td>\n",
       "    </tr>\n",
       "    <tr>\n",
       "      <th>228</th>\n",
       "      <td>06C921122800000555</td>\n",
       "      <td>Choco Drink</td>\n",
       "      <td>Stress Release - 150 gr</td>\n",
       "      <td>1</td>\n",
       "      <td>75000</td>\n",
       "      <td>75000</td>\n",
       "      <td>Mandiri CV Nutrico Nusantara</td>\n",
       "      <td>2021-12-28 14:04:14</td>\n",
       "      <td>06C921122800000555</td>\n",
       "      <td>202112</td>\n",
       "      <td>2021-12</td>\n",
       "      <td>2021</td>\n",
       "      <td>12</td>\n",
       "    </tr>\n",
       "    <tr>\n",
       "      <th>229</th>\n",
       "      <td>06C922010400000585</td>\n",
       "      <td>Choco Drink</td>\n",
       "      <td>Stress Release - 150 gr</td>\n",
       "      <td>1</td>\n",
       "      <td>75000</td>\n",
       "      <td>75000</td>\n",
       "      <td>Mandiri CV Nutrico Nusantara</td>\n",
       "      <td>2022-01-04 16:07:41</td>\n",
       "      <td>06C922010400000585</td>\n",
       "      <td>202201</td>\n",
       "      <td>2022-01</td>\n",
       "      <td>2022</td>\n",
       "      <td>01</td>\n",
       "    </tr>\n",
       "    <tr>\n",
       "      <th>230</th>\n",
       "      <td>06C922010600000593</td>\n",
       "      <td>Choco Drink</td>\n",
       "      <td>Immune Booster Chocodrink - 150 gr</td>\n",
       "      <td>1</td>\n",
       "      <td>75000</td>\n",
       "      <td>75000</td>\n",
       "      <td>Pembelian Via Shopee</td>\n",
       "      <td>2022-01-06 15:09:08</td>\n",
       "      <td>06C922010600000593</td>\n",
       "      <td>202201</td>\n",
       "      <td>2022-01</td>\n",
       "      <td>2022</td>\n",
       "      <td>01</td>\n",
       "    </tr>\n",
       "    <tr>\n",
       "      <th>231</th>\n",
       "      <td>06C922011400000608</td>\n",
       "      <td>Choco Drink</td>\n",
       "      <td>Stress Release - 150 gr</td>\n",
       "      <td>1</td>\n",
       "      <td>75000</td>\n",
       "      <td>75000</td>\n",
       "      <td>Sample Product dan Hadiah</td>\n",
       "      <td>2022-01-14 14:30:48</td>\n",
       "      <td>06C922011400000608</td>\n",
       "      <td>202201</td>\n",
       "      <td>2022-01</td>\n",
       "      <td>2022</td>\n",
       "      <td>01</td>\n",
       "    </tr>\n",
       "    <tr>\n",
       "      <th>235</th>\n",
       "      <td>E39422012800000492</td>\n",
       "      <td>Choco Drink</td>\n",
       "      <td>Fresh and Fight - 150 gr</td>\n",
       "      <td>8</td>\n",
       "      <td>63750</td>\n",
       "      <td>510000</td>\n",
       "      <td>Mandiri CV Nutrico Nusantara</td>\n",
       "      <td>2022-01-28 11:22:59</td>\n",
       "      <td>E39422012800000492</td>\n",
       "      <td>202201</td>\n",
       "      <td>2022-01</td>\n",
       "      <td>2022</td>\n",
       "      <td>01</td>\n",
       "    </tr>\n",
       "    <tr>\n",
       "      <th>236</th>\n",
       "      <td>E39422012800000492</td>\n",
       "      <td>Choco Drink</td>\n",
       "      <td>Stress Release - 150 gr</td>\n",
       "      <td>7</td>\n",
       "      <td>63750</td>\n",
       "      <td>446250</td>\n",
       "      <td>Mandiri CV Nutrico Nusantara</td>\n",
       "      <td>2022-01-28 11:22:59</td>\n",
       "      <td>E39422012800000492</td>\n",
       "      <td>202201</td>\n",
       "      <td>2022-01</td>\n",
       "      <td>2022</td>\n",
       "      <td>01</td>\n",
       "    </tr>\n",
       "    <tr>\n",
       "      <th>242</th>\n",
       "      <td>E39422020400000513</td>\n",
       "      <td>Choco Drink</td>\n",
       "      <td>Stress Release - 150 gr</td>\n",
       "      <td>2</td>\n",
       "      <td>75000</td>\n",
       "      <td>150000</td>\n",
       "      <td>Tokopedia</td>\n",
       "      <td>2022-02-04 11:45:30</td>\n",
       "      <td>E39422020400000513</td>\n",
       "      <td>202202</td>\n",
       "      <td>2022-02</td>\n",
       "      <td>2022</td>\n",
       "      <td>02</td>\n",
       "    </tr>\n",
       "    <tr>\n",
       "      <th>245</th>\n",
       "      <td>E39422021200000553</td>\n",
       "      <td>Choco Drink</td>\n",
       "      <td>Stress Release - 150 gr</td>\n",
       "      <td>2</td>\n",
       "      <td>75000</td>\n",
       "      <td>150000</td>\n",
       "      <td>Tokopedia</td>\n",
       "      <td>2022-02-12 08:03:38</td>\n",
       "      <td>E39422021200000553</td>\n",
       "      <td>202202</td>\n",
       "      <td>2022-02</td>\n",
       "      <td>2022</td>\n",
       "      <td>02</td>\n",
       "    </tr>\n",
       "    <tr>\n",
       "      <th>248</th>\n",
       "      <td>E39422021700000569</td>\n",
       "      <td>Choco Drink</td>\n",
       "      <td>Stress Release - 150 gr</td>\n",
       "      <td>1</td>\n",
       "      <td>75000</td>\n",
       "      <td>75000</td>\n",
       "      <td>Sample Product dan Hadiah</td>\n",
       "      <td>2022-02-17 14:08:56</td>\n",
       "      <td>E39422021700000569</td>\n",
       "      <td>202202</td>\n",
       "      <td>2022-02</td>\n",
       "      <td>2022</td>\n",
       "      <td>02</td>\n",
       "    </tr>\n",
       "    <tr>\n",
       "      <th>251</th>\n",
       "      <td>E39422021900000572</td>\n",
       "      <td>Choco Drink</td>\n",
       "      <td>Stress Release - 25 gr</td>\n",
       "      <td>2</td>\n",
       "      <td>15300</td>\n",
       "      <td>30600</td>\n",
       "      <td>Mandiri CV Nutrico Nusantara</td>\n",
       "      <td>2022-02-19 10:07:03</td>\n",
       "      <td>E39422021900000572</td>\n",
       "      <td>202202</td>\n",
       "      <td>2022-02</td>\n",
       "      <td>2022</td>\n",
       "      <td>02</td>\n",
       "    </tr>\n",
       "    <tr>\n",
       "      <th>252</th>\n",
       "      <td>E39422022100000576</td>\n",
       "      <td>Choco Drink</td>\n",
       "      <td>Stress Release - 150 gr</td>\n",
       "      <td>1</td>\n",
       "      <td>75000</td>\n",
       "      <td>75000</td>\n",
       "      <td>Mandiri CV Nutrico Nusantara</td>\n",
       "      <td>2022-02-21 08:27:37</td>\n",
       "      <td>E39422022100000576</td>\n",
       "      <td>202202</td>\n",
       "      <td>2022-02</td>\n",
       "      <td>2022</td>\n",
       "      <td>02</td>\n",
       "    </tr>\n",
       "    <tr>\n",
       "      <th>253</th>\n",
       "      <td>E39422022200000580</td>\n",
       "      <td>Choco Drink</td>\n",
       "      <td>Stress Release - 150 gr</td>\n",
       "      <td>2</td>\n",
       "      <td>75000</td>\n",
       "      <td>150000</td>\n",
       "      <td>Tokopedia</td>\n",
       "      <td>2022-02-22 15:27:09</td>\n",
       "      <td>E39422022200000580</td>\n",
       "      <td>202202</td>\n",
       "      <td>2022-02</td>\n",
       "      <td>2022</td>\n",
       "      <td>02</td>\n",
       "    </tr>\n",
       "    <tr>\n",
       "      <th>254</th>\n",
       "      <td>E39422022400000584</td>\n",
       "      <td>Choco Drink</td>\n",
       "      <td>Fresh and Fight - 150 gr</td>\n",
       "      <td>1</td>\n",
       "      <td>75000</td>\n",
       "      <td>75000</td>\n",
       "      <td>Mandiri CV Nutrico Nusantara</td>\n",
       "      <td>2022-02-24 16:08:23</td>\n",
       "      <td>E39422022400000584</td>\n",
       "      <td>202202</td>\n",
       "      <td>2022-02</td>\n",
       "      <td>2022</td>\n",
       "      <td>02</td>\n",
       "    </tr>\n",
       "  </tbody>\n",
       "</table>\n",
       "</div>"
      ],
      "text/plain": [
       "               order no   item group                           item name  qty  \\\n",
       "12   E39421013000000012  Choco Drink             Stress Release - 150 gr    1   \n",
       "53   E39421021600000091  Choco Drink  Immune Booster Chocodrink - 150 gr    1   \n",
       "54   E39421021600000091  Choco Drink            Fresh and Fight - 150 gr    1   \n",
       "55   E39421021600000091  Choco Drink             Stress Release - 150 gr    1   \n",
       "56   E39421021600000092  Choco Drink            Fresh and Fight - 150 gr    1   \n",
       "67   065321022700000111  Choco Drink  Immune Booster Chocodrink - 150 gr    1   \n",
       "68   065321022700000111  Choco Drink             Stress Release - 150 gr    1   \n",
       "69   E39421030300000126  Choco Drink  Immune Booster Chocodrink - 150 gr    2   \n",
       "86   E39421032300000170  Choco Drink             Stress Release - 150 gr    1   \n",
       "87   E39421032900000184  Choco Drink             Stress Release - 150 gr    1   \n",
       "93   E39421033100000197  Choco Drink            Fresh and Fight - 150 gr    1   \n",
       "98   7EC621041000000008  Choco Drink             Stress Release - 150 gr    1   \n",
       "108  AFA321042900000001  Choco Drink             Stress Release - 150 gr    1   \n",
       "109  E39421051100000358  Choco Drink            Fresh and Fight - 150 gr    1   \n",
       "110  E39421051100000360  Choco Drink            Fresh and Fight - 150 gr    1   \n",
       "111  E39421051100000374  Choco Drink             Stress Release - 150 gr   10   \n",
       "114  E39421052000000393  Choco Drink             Stress Release - 150 gr    1   \n",
       "119  E39421053100000431  Choco Drink  Immune Booster Chocodrink - 150 gr    2   \n",
       "120  E39421051100000358  Choco Drink            Fresh and Fight - 150 gr    1   \n",
       "121  E39421051100000360  Choco Drink            Fresh and Fight - 150 gr    1   \n",
       "122  E39421051100000374  Choco Drink             Stress Release - 150 gr   10   \n",
       "125  E39421052000000393  Choco Drink             Stress Release - 150 gr    1   \n",
       "130  E39421053100000431  Choco Drink  Immune Booster Chocodrink - 150 gr    2   \n",
       "179  06C921102200000341  Choco Drink             Stress Release - 150 gr    1   \n",
       "205  06C921112300000429  Choco Drink            Fresh and Fight - 150 gr    1   \n",
       "206  06C921112400000434  Choco Drink             Stress Release - 150 gr    1   \n",
       "213  06C921120700000474  Choco Drink  Immune Booster Chocodrink - 150 gr    1   \n",
       "224  06C921122400000546  Choco Drink            Fresh and Fight - 150 gr    1   \n",
       "225  06C921122400000549  Choco Drink             Stress Release - 150 gr   10   \n",
       "228  06C921122800000555  Choco Drink             Stress Release - 150 gr    1   \n",
       "229  06C922010400000585  Choco Drink             Stress Release - 150 gr    1   \n",
       "230  06C922010600000593  Choco Drink  Immune Booster Chocodrink - 150 gr    1   \n",
       "231  06C922011400000608  Choco Drink             Stress Release - 150 gr    1   \n",
       "235  E39422012800000492  Choco Drink            Fresh and Fight - 150 gr    8   \n",
       "236  E39422012800000492  Choco Drink             Stress Release - 150 gr    7   \n",
       "242  E39422020400000513  Choco Drink             Stress Release - 150 gr    2   \n",
       "245  E39422021200000553  Choco Drink             Stress Release - 150 gr    2   \n",
       "248  E39422021700000569  Choco Drink             Stress Release - 150 gr    1   \n",
       "251  E39422021900000572  Choco Drink              Stress Release - 25 gr    2   \n",
       "252  E39422022100000576  Choco Drink             Stress Release - 150 gr    1   \n",
       "253  E39422022200000580  Choco Drink             Stress Release - 150 gr    2   \n",
       "254  E39422022400000584  Choco Drink            Fresh and Fight - 150 gr    1   \n",
       "\n",
       "     price  amount                  payment type          order_time  \\\n",
       "12   75000   75000          Pembelian Via Shopee 2021-01-30 08:06:22   \n",
       "53   75000   75000           BNI Andri Setyowati 2021-02-16 15:54:49   \n",
       "54   75000   75000           BNI Andri Setyowati 2021-02-16 15:54:49   \n",
       "55   75000   75000           BNI Andri Setyowati 2021-02-16 15:54:49   \n",
       "56   75000   75000           BRI Andri Setyowati 2021-02-16 17:26:36   \n",
       "67   75000   75000           BRI Andri Setyowati 2021-02-27 17:54:37   \n",
       "68   75000   75000           BRI Andri Setyowati 2021-02-27 17:54:37   \n",
       "69   75000  150000           BRI Andri Setyowati 2021-03-03 17:43:28   \n",
       "86   75000   75000           BNI Andri Setyowati 2021-03-23 18:36:24   \n",
       "87   75000   75000                      Reseller 2021-03-29 09:46:52   \n",
       "93   75000   75000           BNI Andri Setyowati 2021-03-31 18:25:31   \n",
       "98   75000   75000                          CASH 2021-04-10 11:06:14   \n",
       "108  75000   75000                      Reseller 2021-04-29 10:20:32   \n",
       "109  75000   75000           BNI Andri Setyowati 2021-05-11 14:21:40   \n",
       "110  75000   75000           BNI Andri Setyowati 2021-05-11 14:24:19   \n",
       "111  75000  750000           BNI Andri Setyowati 2021-05-11 15:21:03   \n",
       "114  75000   75000           BNI Andri Setyowati 2021-05-20 16:22:19   \n",
       "119  75000  150000           BNI Andri Setyowati 2021-05-31 09:14:46   \n",
       "120  75000   75000           BNI Andri Setyowati 2021-05-11 14:21:40   \n",
       "121  75000   75000           BNI Andri Setyowati 2021-05-11 14:24:19   \n",
       "122  75000  750000           BNI Andri Setyowati 2021-05-11 15:21:03   \n",
       "125  75000   75000           BNI Andri Setyowati 2021-05-20 16:22:19   \n",
       "130  75000  150000           BNI Andri Setyowati 2021-05-31 09:14:46   \n",
       "179  75000   75000           BNI Andri Setyowati 2021-10-22 08:40:08   \n",
       "205  75000   75000           BRI Andri Setyowati 2021-11-23 09:27:09   \n",
       "206  75000   75000                     Bukalapak 2021-11-24 11:49:32   \n",
       "213  75000   75000                     Bukalapak 2021-12-07 11:10:34   \n",
       "224  75000   75000     Sample Product dan Hadiah 2021-12-24 16:07:33   \n",
       "225  75000  750000  Mandiri CV Nutrico Nusantara 2021-12-24 16:15:16   \n",
       "228  75000   75000  Mandiri CV Nutrico Nusantara 2021-12-28 14:04:14   \n",
       "229  75000   75000  Mandiri CV Nutrico Nusantara 2022-01-04 16:07:41   \n",
       "230  75000   75000          Pembelian Via Shopee 2022-01-06 15:09:08   \n",
       "231  75000   75000     Sample Product dan Hadiah 2022-01-14 14:30:48   \n",
       "235  63750  510000  Mandiri CV Nutrico Nusantara 2022-01-28 11:22:59   \n",
       "236  63750  446250  Mandiri CV Nutrico Nusantara 2022-01-28 11:22:59   \n",
       "242  75000  150000                     Tokopedia 2022-02-04 11:45:30   \n",
       "245  75000  150000                     Tokopedia 2022-02-12 08:03:38   \n",
       "248  75000   75000     Sample Product dan Hadiah 2022-02-17 14:08:56   \n",
       "251  15300   30600  Mandiri CV Nutrico Nusantara 2022-02-19 10:07:03   \n",
       "252  75000   75000  Mandiri CV Nutrico Nusantara 2022-02-21 08:27:37   \n",
       "253  75000  150000                     Tokopedia 2022-02-22 15:27:09   \n",
       "254  75000   75000  Mandiri CV Nutrico Nusantara 2022-02-24 16:08:23   \n",
       "\n",
       "               order_no  OrderYearMonth     Date  Year Month  \n",
       "12   E39421013000000012          202101  2021-01  2021    01  \n",
       "53   E39421021600000091          202102  2021-02  2021    02  \n",
       "54   E39421021600000091          202102  2021-02  2021    02  \n",
       "55   E39421021600000091          202102  2021-02  2021    02  \n",
       "56   E39421021600000092          202102  2021-02  2021    02  \n",
       "67   065321022700000111          202102  2021-02  2021    02  \n",
       "68   065321022700000111          202102  2021-02  2021    02  \n",
       "69   E39421030300000126          202103  2021-03  2021    03  \n",
       "86   E39421032300000170          202103  2021-03  2021    03  \n",
       "87   E39421032900000184          202103  2021-03  2021    03  \n",
       "93   E39421033100000197          202103  2021-03  2021    03  \n",
       "98   7EC621041000000008          202104  2021-04  2021    04  \n",
       "108  AFA321042900000001          202104  2021-04  2021    04  \n",
       "109  E39421051100000358          202105  2021-05  2021    05  \n",
       "110  E39421051100000360          202105  2021-05  2021    05  \n",
       "111  E39421051100000374          202105  2021-05  2021    05  \n",
       "114  E39421052000000393          202105  2021-05  2021    05  \n",
       "119  E39421053100000431          202105  2021-05  2021    05  \n",
       "120  E39421051100000358          202105  2021-05  2021    05  \n",
       "121  E39421051100000360          202105  2021-05  2021    05  \n",
       "122  E39421051100000374          202105  2021-05  2021    05  \n",
       "125  E39421052000000393          202105  2021-05  2021    05  \n",
       "130  E39421053100000431          202105  2021-05  2021    05  \n",
       "179  06C921102200000341          202110  2021-10  2021    10  \n",
       "205  06C921112300000429          202111  2021-11  2021    11  \n",
       "206  06C921112400000434          202111  2021-11  2021    11  \n",
       "213  06C921120700000474          202112  2021-12  2021    12  \n",
       "224  06C921122400000546          202112  2021-12  2021    12  \n",
       "225  06C921122400000549          202112  2021-12  2021    12  \n",
       "228  06C921122800000555          202112  2021-12  2021    12  \n",
       "229  06C922010400000585          202201  2022-01  2022    01  \n",
       "230  06C922010600000593          202201  2022-01  2022    01  \n",
       "231  06C922011400000608          202201  2022-01  2022    01  \n",
       "235  E39422012800000492          202201  2022-01  2022    01  \n",
       "236  E39422012800000492          202201  2022-01  2022    01  \n",
       "242  E39422020400000513          202202  2022-02  2022    02  \n",
       "245  E39422021200000553          202202  2022-02  2022    02  \n",
       "248  E39422021700000569          202202  2022-02  2022    02  \n",
       "251  E39422021900000572          202202  2022-02  2022    02  \n",
       "252  E39422022100000576          202202  2022-02  2022    02  \n",
       "253  E39422022200000580          202202  2022-02  2022    02  \n",
       "254  E39422022400000584          202202  2022-02  2022    02  "
      ]
     },
     "execution_count": 105,
     "metadata": {},
     "output_type": "execute_result"
    }
   ],
   "source": [
    "out_total_pr= olsera[(olsera['price']<lower_range)| (olsera['price']>upper_range)]\n",
    "out_total_pr"
   ]
  },
  {
   "cell_type": "code",
   "execution_count": 106,
   "id": "935a3b43",
   "metadata": {
    "colab": {
     "base_uri": "https://localhost:8080/"
    },
    "id": "mYnFbyLs5cPI",
    "outputId": "761fbad0-6ab2-44d9-d7b4-9c5a0884ba28"
   },
   "outputs": [
    {
     "name": "stdout",
     "output_type": "stream",
     "text": [
      "<class 'pandas.core.frame.DataFrame'>\n",
      "Int64Index: 42 entries, 12 to 254\n",
      "Data columns (total 13 columns):\n",
      " #   Column          Non-Null Count  Dtype         \n",
      "---  ------          --------------  -----         \n",
      " 0   order no        42 non-null     object        \n",
      " 1   item group      42 non-null     object        \n",
      " 2   item name       42 non-null     object        \n",
      " 3   qty             42 non-null     int64         \n",
      " 4   price           42 non-null     int64         \n",
      " 5   amount          42 non-null     int64         \n",
      " 6   payment type    42 non-null     object        \n",
      " 7   order_time      42 non-null     datetime64[ns]\n",
      " 8   order_no        42 non-null     object        \n",
      " 9   OrderYearMonth  42 non-null     int64         \n",
      " 10  Date            42 non-null     object        \n",
      " 11  Year            42 non-null     object        \n",
      " 12  Month           42 non-null     object        \n",
      "dtypes: datetime64[ns](1), int64(4), object(8)\n",
      "memory usage: 4.6+ KB\n"
     ]
    }
   ],
   "source": [
    "out_total_pr.info()"
   ]
  },
  {
   "cell_type": "code",
   "execution_count": 107,
   "id": "5969d031",
   "metadata": {
    "colab": {
     "base_uri": "https://localhost:8080/",
     "height": 514
    },
    "id": "LPegQgLbh49F",
    "outputId": "945f9dd8-0206-4896-a81d-be688904c52a"
   },
   "outputs": [
    {
     "data": {
      "text/plain": [
       "<AxesSubplot:xlabel='price'>"
      ]
     },
     "execution_count": 107,
     "metadata": {},
     "output_type": "execute_result"
    },
    {
     "data": {
      "image/png": "[encoded data removed]",
      "text/plain": [
       "<Figure size 864x576 with 1 Axes>"
      ]
     },
     "metadata": {
      "needs_background": "light"
     },
     "output_type": "display_data"
    }
   ],
   "source": [
    "plt.figure(figsize=(12,8))\n",
    "\n",
    "sns.boxplot(x='price', data=olsera)"
   ]
  },
  {
   "cell_type": "markdown",
   "id": "29f18286",
   "metadata": {
    "id": "9xz9oMK-h6Kv"
   },
   "source": [
    "Untuk tampilan **boxplot di atas cukup unik, rentan untuk kolom price ini tidak ada,** hal ini terjadi dikarenakan tidak hampir semua customer memilih untuk berbelanja produk yang harganya sama yaitu 18000, untuk harga diluar itu disebut dengan data outlier. **Kolom ini memiliki 42 outlier atau 0.16%** dari data keseluruhan "
   ]
  },
  {
   "cell_type": "markdown",
   "id": "4b462237",
   "metadata": {
    "id": "f109eb8c"
   },
   "source": [
    "**Berapa banyak produk yang terjual tiap bulannya?**"
   ]
  },
  {
   "cell_type": "code",
   "execution_count": 108,
   "id": "e057384d",
   "metadata": {
    "colab": {
     "base_uri": "https://localhost:8080/"
    },
    "id": "jzX5wLzb6Jvb",
    "outputId": "2c8417f1-1600-4ea5-f71c-cf75baea685e"
   },
   "outputs": [
    {
     "data": {
      "text/plain": [
       "Year  Date   \n",
       "2021  2021-01    26\n",
       "      2021-02    43\n",
       "      2021-03    25\n",
       "      2021-04    15\n",
       "      2021-05    22\n",
       "      2021-08    18\n",
       "      2021-09    21\n",
       "      2021-10    17\n",
       "      2021-11    23\n",
       "      2021-12    19\n",
       "2022  2022-01     8\n",
       "      2022-02    18\n",
       "Name: order_no, dtype: int64"
      ]
     },
     "execution_count": 108,
     "metadata": {},
     "output_type": "execute_result"
    }
   ],
   "source": [
    "olsera_agg = olsera.groupby([\"Year\", \"Date\"]).order_no.count()\n",
    "olsera_agg"
   ]
  },
  {
   "cell_type": "code",
   "execution_count": 109,
   "id": "eb9a6a37",
   "metadata": {
    "colab": {
     "base_uri": "https://localhost:8080/",
     "height": 426
    },
    "id": "a117148d",
    "outputId": "8c4e0b21-ec66-4035-899c-ec3f043aef98"
   },
   "outputs": [
    {
     "data": {
      "text/html": [
       "<div>\n",
       "<style scoped>\n",
       "    .dataframe tbody tr th:only-of-type {\n",
       "        vertical-align: middle;\n",
       "    }\n",
       "\n",
       "    .dataframe tbody tr th {\n",
       "        vertical-align: top;\n",
       "    }\n",
       "\n",
       "    .dataframe thead th {\n",
       "        text-align: right;\n",
       "    }\n",
       "</style>\n",
       "<table border=\"1\" class=\"dataframe\">\n",
       "  <thead>\n",
       "    <tr style=\"text-align: right;\">\n",
       "      <th></th>\n",
       "      <th>Year</th>\n",
       "      <th>Date</th>\n",
       "      <th>order_no</th>\n",
       "    </tr>\n",
       "  </thead>\n",
       "  <tbody>\n",
       "    <tr>\n",
       "      <th>0</th>\n",
       "      <td>2021</td>\n",
       "      <td>2021-01</td>\n",
       "      <td>26</td>\n",
       "    </tr>\n",
       "    <tr>\n",
       "      <th>1</th>\n",
       "      <td>2021</td>\n",
       "      <td>2021-02</td>\n",
       "      <td>43</td>\n",
       "    </tr>\n",
       "    <tr>\n",
       "      <th>2</th>\n",
       "      <td>2021</td>\n",
       "      <td>2021-03</td>\n",
       "      <td>25</td>\n",
       "    </tr>\n",
       "    <tr>\n",
       "      <th>3</th>\n",
       "      <td>2021</td>\n",
       "      <td>2021-04</td>\n",
       "      <td>15</td>\n",
       "    </tr>\n",
       "    <tr>\n",
       "      <th>4</th>\n",
       "      <td>2021</td>\n",
       "      <td>2021-05</td>\n",
       "      <td>22</td>\n",
       "    </tr>\n",
       "    <tr>\n",
       "      <th>5</th>\n",
       "      <td>2021</td>\n",
       "      <td>2021-08</td>\n",
       "      <td>18</td>\n",
       "    </tr>\n",
       "    <tr>\n",
       "      <th>6</th>\n",
       "      <td>2021</td>\n",
       "      <td>2021-09</td>\n",
       "      <td>21</td>\n",
       "    </tr>\n",
       "    <tr>\n",
       "      <th>7</th>\n",
       "      <td>2021</td>\n",
       "      <td>2021-10</td>\n",
       "      <td>17</td>\n",
       "    </tr>\n",
       "    <tr>\n",
       "      <th>8</th>\n",
       "      <td>2021</td>\n",
       "      <td>2021-11</td>\n",
       "      <td>23</td>\n",
       "    </tr>\n",
       "    <tr>\n",
       "      <th>9</th>\n",
       "      <td>2021</td>\n",
       "      <td>2021-12</td>\n",
       "      <td>19</td>\n",
       "    </tr>\n",
       "    <tr>\n",
       "      <th>10</th>\n",
       "      <td>2022</td>\n",
       "      <td>2022-01</td>\n",
       "      <td>8</td>\n",
       "    </tr>\n",
       "    <tr>\n",
       "      <th>11</th>\n",
       "      <td>2022</td>\n",
       "      <td>2022-02</td>\n",
       "      <td>18</td>\n",
       "    </tr>\n",
       "  </tbody>\n",
       "</table>\n",
       "</div>"
      ],
      "text/plain": [
       "    Year     Date  order_no\n",
       "0   2021  2021-01        26\n",
       "1   2021  2021-02        43\n",
       "2   2021  2021-03        25\n",
       "3   2021  2021-04        15\n",
       "4   2021  2021-05        22\n",
       "5   2021  2021-08        18\n",
       "6   2021  2021-09        21\n",
       "7   2021  2021-10        17\n",
       "8   2021  2021-11        23\n",
       "9   2021  2021-12        19\n",
       "10  2022  2022-01         8\n",
       "11  2022  2022-02        18"
      ]
     },
     "execution_count": 109,
     "metadata": {},
     "output_type": "execute_result"
    }
   ],
   "source": [
    "#converting series to dataframe and resetting index.\n",
    "\n",
    "olsera_agg = pd.DataFrame(olsera_agg)\n",
    "olsera_agg = olsera_agg.reset_index()\n",
    "olsera_agg"
   ]
  },
  {
   "cell_type": "code",
   "execution_count": 110,
   "id": "1053071a",
   "metadata": {
    "colab": {
     "base_uri": "https://localhost:8080/"
    },
    "id": "X4x7l4016T7W",
    "outputId": "3b3075ea-f2c7-414d-dedf-5ccf40b78da2"
   },
   "outputs": [
    {
     "data": {
      "text/plain": [
       "255"
      ]
     },
     "execution_count": 110,
     "metadata": {},
     "output_type": "execute_result"
    }
   ],
   "source": [
    "total_counts_agg = olsera_agg['order_no'].sum()\n",
    "total_counts_agg"
   ]
  },
  {
   "cell_type": "code",
   "execution_count": 111,
   "id": "c5485813",
   "metadata": {
    "id": "fcc02b5e"
   },
   "outputs": [],
   "source": [
    "olsera_agg['Date'][olsera_agg['Date']=='2021-01'] ='2021 Jan'\n",
    "olsera_agg['Date'][olsera_agg['Date']=='2021-02'] ='2021 Feb'\n",
    "olsera_agg['Date'][olsera_agg['Date']=='2021-03'] ='2021 Mar'\n",
    "olsera_agg['Date'][olsera_agg['Date']=='2021-04'] ='2021 Apr'\n",
    "olsera_agg['Date'][olsera_agg['Date']=='2021-05'] ='2021 May'\n",
    "olsera_agg['Date'][olsera_agg['Date']=='2021-06'] ='2021 Jun'\n",
    "olsera_agg['Date'][olsera_agg['Date']=='2021-07'] ='2021 Jul'\n",
    "olsera_agg['Date'][olsera_agg['Date']=='2021-08'] ='2021 Aug'\n",
    "olsera_agg['Date'][olsera_agg['Date']=='2021-09'] ='2021 Sep'\n",
    "olsera_agg['Date'][olsera_agg['Date']=='2021-10'] ='2021 Oct'\n",
    "olsera_agg['Date'][olsera_agg['Date']=='2021-11'] ='2021 Nov'\n",
    "olsera_agg['Date'][olsera_agg['Date']=='2021-12'] ='2021 Dec'\n",
    "olsera_agg['Date'][olsera_agg['Date']=='2022-01'] ='2022 Jan'\n",
    "olsera_agg['Date'][olsera_agg['Date']=='2022-02'] ='2022 Feb'"
   ]
  },
  {
   "cell_type": "code",
   "execution_count": 112,
   "id": "131f2e5c",
   "metadata": {
    "colab": {
     "base_uri": "https://localhost:8080/",
     "height": 607
    },
    "id": "96ecbc0b",
    "outputId": "6fc2641a-658c-449c-dae4-1c7dc6797e78"
   },
   "outputs": [
    {
     "data": {
      "image/png": "[encoded data removed]",
      "text/plain": [
       "<Figure size 1440x720 with 1 Axes>"
      ]
     },
     "metadata": {
      "needs_background": "light"
     },
     "output_type": "display_data"
    }
   ],
   "source": [
    "percentage = []\n",
    "for i in range(olsera_agg.shape[0]):\n",
    "    pct = (olsera_agg['order_no'][i] / total_counts_agg) * 100\n",
    "    percentage.append(round(pct,2))\n",
    "olsera_agg['Percentage'] = percentage\n",
    " \n",
    "# depict illustration\n",
    "plt.figure(figsize=(20,10))\n",
    "colors_list = ['Red','Orange', 'Blue', 'OrangeRed', 'DarkGreen', 'Yellow']\n",
    "graph = plt.bar(olsera_agg['Date'],olsera_agg['order_no'], color = colors_list)\n",
    "plt.title('Persentase Penjualan Item')\n",
    " \n",
    "i = 0\n",
    "for p in graph:\n",
    "    width = p.get_width()\n",
    "    height = p.get_height()\n",
    "    x, y = p.get_xy()\n",
    "    plt.text(x+width/2,\n",
    "             y+height*1.01,\n",
    "             str(olsera_agg['Percentage'][i])+'%',\n",
    "             ha='center',\n",
    "             weight='bold')\n",
    "    i+=1\n",
    "plt.show()"
   ]
  },
  {
   "cell_type": "markdown",
   "id": "0130d7c8",
   "metadata": {
    "id": "5VO9nBEjX6Zd"
   },
   "source": [
    "Dari diagram tersebut, menunjukkan bahwa penjualan mengalami naik-turun tiap bulannya. Namun, terjadi peningkatan yang sangat tinggi di salah satu bulannya, **penjualan paling tinggi yakni di bulan Februari 2021 dengan persentase 17% dari total penjualan.** Hal ini bisa saja terjadi, mengingat pada Februari adalah bulan yang terdapat hari valentine indentik dengan coklat. Sehingga pada bulan ini penjualan produk choco drink juga meningkat. Mereka membeli produk choco drink ini baik untuk diri sendiri, pasangan, teman, maupun keluarga mereka sebagai tanda hari kasih sayang.\n",
    "\n",
    "\n",
    "Dan di **bulan Januari 2022 produk terjual sebanyak 3%,** bulan ini merupakan **penjualan terendah** dari bulan-bulan lainnya. Hal ini bisa terjadi dikarenakan kurangnya promosi oleh tim marketing Nichoa, baik secara offline maupun online. Sebenarnya di bulan Januari bisa menjadi kesempatan untuk meningkatkan penjualan karena bisa memanfaatkan momentum tahun baru dengan memberikan diskon tahun baru."
   ]
  },
  {
   "cell_type": "markdown",
   "id": "30da1a05",
   "metadata": {
    "id": "f66efad2"
   },
   "source": [
    "**Berapa banyak uang yang dibelanjakan customer di setiap bulannya?**"
   ]
  },
  {
   "cell_type": "code",
   "execution_count": 113,
   "id": "cdc7a83c",
   "metadata": {
    "colab": {
     "base_uri": "https://localhost:8080/"
    },
    "id": "90184bb1",
    "outputId": "76644746-cdcc-48c7-d633-d0c37c67c65a"
   },
   "outputs": [
    {
     "data": {
      "text/plain": [
       "Year  Date   \n",
       "2021  2021-01     741000\n",
       "      2021-02    1944000\n",
       "      2021-03    1833000\n",
       "      2021-04     654000\n",
       "      2021-05    4266000\n",
       "      2021-08     414000\n",
       "      2021-09    1170000\n",
       "      2021-10     507000\n",
       "      2021-11     834000\n",
       "      2021-12    1299000\n",
       "2022  2022-01    1235250\n",
       "      2022-02     903600\n",
       "Name: amount, dtype: int64"
      ]
     },
     "execution_count": 113,
     "metadata": {},
     "output_type": "execute_result"
    }
   ],
   "source": [
    "olsera_rev = olsera.groupby([\"Year\", \"Date\"]).amount.sum()\n",
    "olsera_rev"
   ]
  },
  {
   "cell_type": "code",
   "execution_count": 114,
   "id": "c7c6d2da",
   "metadata": {
    "colab": {
     "base_uri": "https://localhost:8080/",
     "height": 426
    },
    "id": "8db966dd",
    "outputId": "e4b78d63-6145-487a-e5a9-d8536eb68404"
   },
   "outputs": [
    {
     "data": {
      "text/html": [
       "<div>\n",
       "<style scoped>\n",
       "    .dataframe tbody tr th:only-of-type {\n",
       "        vertical-align: middle;\n",
       "    }\n",
       "\n",
       "    .dataframe tbody tr th {\n",
       "        vertical-align: top;\n",
       "    }\n",
       "\n",
       "    .dataframe thead th {\n",
       "        text-align: right;\n",
       "    }\n",
       "</style>\n",
       "<table border=\"1\" class=\"dataframe\">\n",
       "  <thead>\n",
       "    <tr style=\"text-align: right;\">\n",
       "      <th></th>\n",
       "      <th>Year</th>\n",
       "      <th>Date</th>\n",
       "      <th>amount</th>\n",
       "    </tr>\n",
       "  </thead>\n",
       "  <tbody>\n",
       "    <tr>\n",
       "      <th>0</th>\n",
       "      <td>2021</td>\n",
       "      <td>2021-01</td>\n",
       "      <td>741000</td>\n",
       "    </tr>\n",
       "    <tr>\n",
       "      <th>1</th>\n",
       "      <td>2021</td>\n",
       "      <td>2021-02</td>\n",
       "      <td>1944000</td>\n",
       "    </tr>\n",
       "    <tr>\n",
       "      <th>2</th>\n",
       "      <td>2021</td>\n",
       "      <td>2021-03</td>\n",
       "      <td>1833000</td>\n",
       "    </tr>\n",
       "    <tr>\n",
       "      <th>3</th>\n",
       "      <td>2021</td>\n",
       "      <td>2021-04</td>\n",
       "      <td>654000</td>\n",
       "    </tr>\n",
       "    <tr>\n",
       "      <th>4</th>\n",
       "      <td>2021</td>\n",
       "      <td>2021-05</td>\n",
       "      <td>4266000</td>\n",
       "    </tr>\n",
       "    <tr>\n",
       "      <th>5</th>\n",
       "      <td>2021</td>\n",
       "      <td>2021-08</td>\n",
       "      <td>414000</td>\n",
       "    </tr>\n",
       "    <tr>\n",
       "      <th>6</th>\n",
       "      <td>2021</td>\n",
       "      <td>2021-09</td>\n",
       "      <td>1170000</td>\n",
       "    </tr>\n",
       "    <tr>\n",
       "      <th>7</th>\n",
       "      <td>2021</td>\n",
       "      <td>2021-10</td>\n",
       "      <td>507000</td>\n",
       "    </tr>\n",
       "    <tr>\n",
       "      <th>8</th>\n",
       "      <td>2021</td>\n",
       "      <td>2021-11</td>\n",
       "      <td>834000</td>\n",
       "    </tr>\n",
       "    <tr>\n",
       "      <th>9</th>\n",
       "      <td>2021</td>\n",
       "      <td>2021-12</td>\n",
       "      <td>1299000</td>\n",
       "    </tr>\n",
       "    <tr>\n",
       "      <th>10</th>\n",
       "      <td>2022</td>\n",
       "      <td>2022-01</td>\n",
       "      <td>1235250</td>\n",
       "    </tr>\n",
       "    <tr>\n",
       "      <th>11</th>\n",
       "      <td>2022</td>\n",
       "      <td>2022-02</td>\n",
       "      <td>903600</td>\n",
       "    </tr>\n",
       "  </tbody>\n",
       "</table>\n",
       "</div>"
      ],
      "text/plain": [
       "    Year     Date   amount\n",
       "0   2021  2021-01   741000\n",
       "1   2021  2021-02  1944000\n",
       "2   2021  2021-03  1833000\n",
       "3   2021  2021-04   654000\n",
       "4   2021  2021-05  4266000\n",
       "5   2021  2021-08   414000\n",
       "6   2021  2021-09  1170000\n",
       "7   2021  2021-10   507000\n",
       "8   2021  2021-11   834000\n",
       "9   2021  2021-12  1299000\n",
       "10  2022  2022-01  1235250\n",
       "11  2022  2022-02   903600"
      ]
     },
     "execution_count": 114,
     "metadata": {},
     "output_type": "execute_result"
    }
   ],
   "source": [
    "olsera_rev = pd.DataFrame(olsera_rev)\n",
    "olsera_rev = olsera_rev.reset_index()\n",
    "olsera_rev"
   ]
  },
  {
   "cell_type": "code",
   "execution_count": 115,
   "id": "c29a74d7",
   "metadata": {
    "colab": {
     "base_uri": "https://localhost:8080/"
    },
    "id": "zODFKkvn62Ch",
    "outputId": "2754b751-458a-491b-8db5-6306301ac0fe"
   },
   "outputs": [
    {
     "data": {
      "text/plain": [
       "15800850"
      ]
     },
     "execution_count": 115,
     "metadata": {},
     "output_type": "execute_result"
    }
   ],
   "source": [
    "total_counts_rev = olsera_rev['amount'].sum()\n",
    "total_counts_rev"
   ]
  },
  {
   "cell_type": "code",
   "execution_count": 116,
   "id": "edb7b1a5",
   "metadata": {
    "colab": {
     "base_uri": "https://localhost:8080/",
     "height": 112
    },
    "id": "w54-Mz5gjp5F",
    "outputId": "48bf1335-f2b4-4c79-84c9-aea036db3e40"
   },
   "outputs": [
    {
     "data": {
      "text/html": [
       "<div>\n",
       "<style scoped>\n",
       "    .dataframe tbody tr th:only-of-type {\n",
       "        vertical-align: middle;\n",
       "    }\n",
       "\n",
       "    .dataframe tbody tr th {\n",
       "        vertical-align: top;\n",
       "    }\n",
       "\n",
       "    .dataframe thead th {\n",
       "        text-align: right;\n",
       "    }\n",
       "</style>\n",
       "<table border=\"1\" class=\"dataframe\">\n",
       "  <thead>\n",
       "    <tr style=\"text-align: right;\">\n",
       "      <th></th>\n",
       "      <th>order_time</th>\n",
       "      <th>amount</th>\n",
       "    </tr>\n",
       "  </thead>\n",
       "  <tbody>\n",
       "    <tr>\n",
       "      <th>0</th>\n",
       "      <td>2021</td>\n",
       "      <td>13662000</td>\n",
       "    </tr>\n",
       "    <tr>\n",
       "      <th>1</th>\n",
       "      <td>2022</td>\n",
       "      <td>2138850</td>\n",
       "    </tr>\n",
       "  </tbody>\n",
       "</table>\n",
       "</div>"
      ],
      "text/plain": [
       "   order_time    amount\n",
       "0        2021  13662000\n",
       "1        2022   2138850"
      ]
     },
     "execution_count": 116,
     "metadata": {},
     "output_type": "execute_result"
    }
   ],
   "source": [
    "olsera_year = olsera.groupby(olsera.order_time.dt.year).amount.sum()\n",
    "olsera_year = pd.DataFrame(olsera_year)\n",
    "olsera_year = olsera_year.reset_index()\n",
    "olsera_year.head()"
   ]
  },
  {
   "cell_type": "code",
   "execution_count": 117,
   "id": "3cf82141",
   "metadata": {
    "id": "e249d6f8"
   },
   "outputs": [],
   "source": [
    "olsera_rev['Date'][olsera_rev['Date']=='2021-01'] ='2021 Jan'\n",
    "olsera_rev['Date'][olsera_rev['Date']=='2021-02'] ='2021 Feb'\n",
    "olsera_rev['Date'][olsera_rev['Date']=='2021-03'] ='2021 Mar'\n",
    "olsera_rev['Date'][olsera_rev['Date']=='2021-04'] ='2021 Apr'\n",
    "olsera_rev['Date'][olsera_rev['Date']=='2021-05'] ='2021 May'\n",
    "olsera_rev['Date'][olsera_rev['Date']=='2021-06'] ='2021 Jun'\n",
    "olsera_rev['Date'][olsera_rev['Date']=='2021-07'] ='2021 Jul'\n",
    "olsera_rev['Date'][olsera_rev['Date']=='2021-08'] ='2021 Aug'\n",
    "olsera_rev['Date'][olsera_rev['Date']=='2021-09'] ='2021 Sep'\n",
    "olsera_rev['Date'][olsera_rev['Date']=='2021-19'] ='2021 Oct'\n",
    "olsera_rev['Date'][olsera_rev['Date']=='2021-11'] ='2021 Nov'\n",
    "olsera_rev['Date'][olsera_rev['Date']=='2021-12'] ='2021 Dec'\n",
    "olsera_rev['Date'][olsera_rev['Date']=='2022-01'] ='2022 Jan'\n",
    "olsera_rev['Date'][olsera_rev['Date']=='2022-02'] ='2022 Feb'"
   ]
  },
  {
   "cell_type": "code",
   "execution_count": 118,
   "id": "feed8c2f",
   "metadata": {
    "colab": {
     "base_uri": "https://localhost:8080/",
     "height": 607
    },
    "id": "31ac5515",
    "outputId": "138550e1-6779-4f65-d7fe-60ad7ca49d5b"
   },
   "outputs": [
    {
     "data": {
      "image/png": "[encoded data removed]",
      "text/plain": [
       "<Figure size 1440x720 with 1 Axes>"
      ]
     },
     "metadata": {
      "needs_background": "light"
     },
     "output_type": "display_data"
    }
   ],
   "source": [
    "percentage = []\n",
    "for i in range(olsera_rev.shape[0]):\n",
    "    pct = (olsera_rev['amount'][i] / total_counts_rev) * 100\n",
    "    percentage.append(round(pct,2))\n",
    "olsera_rev['Percentage'] = percentage\n",
    " \n",
    "# depict illustration\n",
    "plt.figure(figsize=(20,10))\n",
    "colors_list = ['Red','Orange', 'Blue', 'OrangeRed', 'DarkGreen', 'Yellow']\n",
    "graph = plt.bar (olsera_rev['Date'],olsera_rev['amount'], color = colors_list)\n",
    "plt.title('Persentase Penjualan Item')\n",
    " \n",
    "i = 0\n",
    "for p in graph:\n",
    "    width = p.get_width()\n",
    "    height = p.get_height()\n",
    "    x, y = p.get_xy()\n",
    "    plt.text(x+width/2,\n",
    "             y+height*1.01,\n",
    "             str(olsera_rev['Percentage'][i])+'%',\n",
    "             ha='center',\n",
    "             weight='bold')\n",
    "    i+=1\n",
    "plt.show()"
   ]
  },
  {
   "cell_type": "markdown",
   "id": "f8d247cd",
   "metadata": {
    "id": "vjapEnXqrqmj"
   },
   "source": [
    "Pada diagram diatas, bisa di lihat Untuk pendapatan yang didapat tiap bulannya, yakni **amoun**t (total harga yang didapat dari pembelian produk) selama **14 bulan adalah sebesar Rp15.800.850**, yang dimana **pendapatan di tahun  2021** sebanyak Rp13.662.000 atau dalam dipersenkan sebesar **86.46%** dan di **tahun 2022** sebanyak Rp 2.138.850 atau **13.79%**. Dari total tersebut didapatkan pada bulan januari 2021 sebesar 4.69% kemudian mengalami kenaikan pada bulan february yaitu sebesar 12.3% dan kembali turun pada bulan maret dan april sebesar 11.6% dan 4.14%. Bulan selanjutnya **naik pesat sebesar 27%**, bulan ini merupakan bulan dengan pendapatan paling tinggi dibandingkan dengan bulan lainnya,  Hal ini terjadi karena dibulan tersebut terdapat moment Ramadhan dan Idul Fitri yang mendorong customers untuk membeli produk dengan size yang besar dan dalam jumlah banyak sebagai stok dalam menjalani ibadah puasa dan Lebaran, mengingat choco drink merupakan minuman coklat yang sehat untuk tubuh sehingga sangat cocok untuk di konsumsi oleh orang yang berpuasa. Setelah itu di **bulan agustus pendapatan kembali menurun, dengan penurunan yang cukup pesat yaitu sebesar 2.62%**, untuk bulan selanjutnya pendapatan yang didapatkan kadang mengalami kenaikan dan penurunan dengan tidak signifikan"
   ]
  },
  {
   "cell_type": "markdown",
   "id": "4fdc30a2",
   "metadata": {
    "id": "139769f6"
   },
   "source": [
    "**Mendapatkan pola konsumsi (waktu, intensitas, ukuran, jenis, harga)**"
   ]
  },
  {
   "cell_type": "markdown",
   "id": "219aa71b",
   "metadata": {
    "id": "nIATddHS7eZQ"
   },
   "source": [
    "  * Mengetahui Jenis Choco Drink yang paling diminati Customer"
   ]
  },
  {
   "cell_type": "code",
   "execution_count": 119,
   "id": "29e431c4",
   "metadata": {
    "colab": {
     "base_uri": "https://localhost:8080/"
    },
    "id": "499515b9",
    "outputId": "e089537b-3553-4ba9-c1c5-878f441921fb"
   },
   "outputs": [
    {
     "data": {
      "text/plain": [
       "Stress Release - 25 gr                82\n",
       "Fresh and Fight - 25 gr               78\n",
       "Immune Booster Chocodrink - 25 gr     54\n",
       "Stress Release - 150 gr               23\n",
       "Fresh and Fight - 150 gr              11\n",
       "Immune Booster Chocodrink - 150 gr     7\n",
       "Name: item name, dtype: int64"
      ]
     },
     "execution_count": 119,
     "metadata": {},
     "output_type": "execute_result"
    }
   ],
   "source": [
    "olsera_vc = olsera['item name'].value_counts()\n",
    "olsera_vc"
   ]
  },
  {
   "cell_type": "code",
   "execution_count": 120,
   "id": "060d8fc2",
   "metadata": {
    "colab": {
     "base_uri": "https://localhost:8080/",
     "height": 238
    },
    "id": "L3brWqji7ueS",
    "outputId": "c6fb4143-1560-4753-fcd4-b5972a2c174d"
   },
   "outputs": [
    {
     "data": {
      "text/html": [
       "<div>\n",
       "<style scoped>\n",
       "    .dataframe tbody tr th:only-of-type {\n",
       "        vertical-align: middle;\n",
       "    }\n",
       "\n",
       "    .dataframe tbody tr th {\n",
       "        vertical-align: top;\n",
       "    }\n",
       "\n",
       "    .dataframe thead th {\n",
       "        text-align: right;\n",
       "    }\n",
       "</style>\n",
       "<table border=\"1\" class=\"dataframe\">\n",
       "  <thead>\n",
       "    <tr style=\"text-align: right;\">\n",
       "      <th></th>\n",
       "      <th>Item_name</th>\n",
       "      <th>count</th>\n",
       "    </tr>\n",
       "  </thead>\n",
       "  <tbody>\n",
       "    <tr>\n",
       "      <th>0</th>\n",
       "      <td>Stress Release - 25 gr</td>\n",
       "      <td>82</td>\n",
       "    </tr>\n",
       "    <tr>\n",
       "      <th>1</th>\n",
       "      <td>Fresh and Fight - 25 gr</td>\n",
       "      <td>78</td>\n",
       "    </tr>\n",
       "    <tr>\n",
       "      <th>2</th>\n",
       "      <td>Immune Booster Chocodrink - 25 gr</td>\n",
       "      <td>54</td>\n",
       "    </tr>\n",
       "    <tr>\n",
       "      <th>3</th>\n",
       "      <td>Stress Release - 150 gr</td>\n",
       "      <td>23</td>\n",
       "    </tr>\n",
       "    <tr>\n",
       "      <th>4</th>\n",
       "      <td>Fresh and Fight - 150 gr</td>\n",
       "      <td>11</td>\n",
       "    </tr>\n",
       "    <tr>\n",
       "      <th>5</th>\n",
       "      <td>Immune Booster Chocodrink - 150 gr</td>\n",
       "      <td>7</td>\n",
       "    </tr>\n",
       "  </tbody>\n",
       "</table>\n",
       "</div>"
      ],
      "text/plain": [
       "                            Item_name  count\n",
       "0              Stress Release - 25 gr     82\n",
       "1             Fresh and Fight - 25 gr     78\n",
       "2   Immune Booster Chocodrink - 25 gr     54\n",
       "3             Stress Release - 150 gr     23\n",
       "4            Fresh and Fight - 150 gr     11\n",
       "5  Immune Booster Chocodrink - 150 gr      7"
      ]
     },
     "execution_count": 120,
     "metadata": {},
     "output_type": "execute_result"
    }
   ],
   "source": [
    "olsera_vc = pd.DataFrame({'Item_name':olsera_vc.index, 'count':olsera_vc.values})\n",
    "olsera_vc"
   ]
  },
  {
   "cell_type": "code",
   "execution_count": 121,
   "id": "ba796189",
   "metadata": {
    "colab": {
     "base_uri": "https://localhost:8080/"
    },
    "id": "bbd75119",
    "outputId": "ee6b8789-5eb9-4301-adf2-b51bf1d6df5c"
   },
   "outputs": [
    {
     "data": {
      "text/plain": [
       "255"
      ]
     },
     "execution_count": 121,
     "metadata": {},
     "output_type": "execute_result"
    }
   ],
   "source": [
    "total_counts = olsera_vc['count'].sum()\n",
    "total_counts"
   ]
  },
  {
   "cell_type": "code",
   "execution_count": 122,
   "id": "874cf1f0",
   "metadata": {
    "colab": {
     "base_uri": "https://localhost:8080/",
     "height": 623
    },
    "id": "NINnk2467_8R",
    "outputId": "348f07e3-618d-4382-e765-5555a7034735"
   },
   "outputs": [
    {
     "data": {
      "image/png": "[encoded data removed]",
      "text/plain": [
       "<Figure size 432x288 with 1 Axes>"
      ]
     },
     "metadata": {},
     "output_type": "display_data"
    }
   ],
   "source": [
    "fig = plt.figure()\n",
    "ax = fig.add_axes([1,1,2,2])\n",
    "ax.axis('equal')\n",
    "ax.pie(olsera_vc['count'],labels=olsera_vc['Item_name'],autopct='%1.2f%%')\n",
    "ax.set_title('Diagram Persentase Penjualan Item')\n",
    "plt.show()"
   ]
  },
  {
   "cell_type": "markdown",
   "id": "5786ca14",
   "metadata": {
    "id": "A0xabEbkvKQZ"
   },
   "source": [
    "Pada Barchart di atas dapat dilihat item apa yang paling diminati oleh customer. Pada Choco drink ini terdapat 6 macam item yaitu Immune booster chocodrink 25 gr, fresh and fight 25 gr, stress release 25 gr, stress release 150 gr, immune booster chocodrink 150 gr, dan fresh and fight 150 gr. \n",
    "Dapat di lihat bahwa paling banyak terjual adalah item stress release 25 gr, dan yang paling sedikit terjual adalah  immune booster chocodrink 150 gr. \n",
    "Hal ini terjadi karena produk dengan kuantitas sedikit lebih praktis untuk dibawa sehingga customer lebih memilih untuk membeli yang ukuran kecil. Selain itu item yang paling laris dan diminati adalah  stress release , kemudian fresh and fight, kemudian immune booster dengan hal ini mungkin untuk immune booster agak kurang diminati karena biasanya orang membeli ketika kurang enak badan. Sedangkan yang stress release banyak sekali customernya karena bisa membantu mengurangi rasa stress."
   ]
  },
  {
   "cell_type": "markdown",
   "id": "405149f7",
   "metadata": {
    "id": "8C8JqwNq8gHZ"
   },
   "source": [
    "**Mengetahui Persentase Kuantitas Produk yang dibelanjakan Customer**"
   ]
  },
  {
   "cell_type": "code",
   "execution_count": 123,
   "id": "92d79baf",
   "metadata": {
    "colab": {
     "base_uri": "https://localhost:8080/"
    },
    "id": "9f6e7525",
    "outputId": "83b03388-e91e-4533-a8fa-b68365bb4244"
   },
   "outputs": [
    {
     "data": {
      "text/plain": [
       "1     178\n",
       "2      38\n",
       "10     13\n",
       "5       6\n",
       "3       6\n",
       "4       4\n",
       "21      4\n",
       "15      3\n",
       "20      1\n",
       "8       1\n",
       "7       1\n",
       "Name: qty, dtype: int64"
      ]
     },
     "execution_count": 123,
     "metadata": {},
     "output_type": "execute_result"
    }
   ],
   "source": [
    "olsera_qy = olsera['qty'].value_counts()\n",
    "olsera_qy"
   ]
  },
  {
   "cell_type": "code",
   "execution_count": 124,
   "id": "c95a5417",
   "metadata": {
    "colab": {
     "base_uri": "https://localhost:8080/",
     "height": 394
    },
    "id": "d64461c9",
    "outputId": "0b867167-7187-440b-b0fc-37029caf511a"
   },
   "outputs": [
    {
     "data": {
      "text/html": [
       "<div>\n",
       "<style scoped>\n",
       "    .dataframe tbody tr th:only-of-type {\n",
       "        vertical-align: middle;\n",
       "    }\n",
       "\n",
       "    .dataframe tbody tr th {\n",
       "        vertical-align: top;\n",
       "    }\n",
       "\n",
       "    .dataframe thead th {\n",
       "        text-align: right;\n",
       "    }\n",
       "</style>\n",
       "<table border=\"1\" class=\"dataframe\">\n",
       "  <thead>\n",
       "    <tr style=\"text-align: right;\">\n",
       "      <th></th>\n",
       "      <th>Quantity</th>\n",
       "      <th>count</th>\n",
       "    </tr>\n",
       "  </thead>\n",
       "  <tbody>\n",
       "    <tr>\n",
       "      <th>0</th>\n",
       "      <td>1</td>\n",
       "      <td>178</td>\n",
       "    </tr>\n",
       "    <tr>\n",
       "      <th>1</th>\n",
       "      <td>2</td>\n",
       "      <td>38</td>\n",
       "    </tr>\n",
       "    <tr>\n",
       "      <th>2</th>\n",
       "      <td>10</td>\n",
       "      <td>13</td>\n",
       "    </tr>\n",
       "    <tr>\n",
       "      <th>3</th>\n",
       "      <td>5</td>\n",
       "      <td>6</td>\n",
       "    </tr>\n",
       "    <tr>\n",
       "      <th>4</th>\n",
       "      <td>3</td>\n",
       "      <td>6</td>\n",
       "    </tr>\n",
       "    <tr>\n",
       "      <th>5</th>\n",
       "      <td>4</td>\n",
       "      <td>4</td>\n",
       "    </tr>\n",
       "    <tr>\n",
       "      <th>6</th>\n",
       "      <td>21</td>\n",
       "      <td>4</td>\n",
       "    </tr>\n",
       "    <tr>\n",
       "      <th>7</th>\n",
       "      <td>15</td>\n",
       "      <td>3</td>\n",
       "    </tr>\n",
       "    <tr>\n",
       "      <th>8</th>\n",
       "      <td>20</td>\n",
       "      <td>1</td>\n",
       "    </tr>\n",
       "    <tr>\n",
       "      <th>9</th>\n",
       "      <td>8</td>\n",
       "      <td>1</td>\n",
       "    </tr>\n",
       "    <tr>\n",
       "      <th>10</th>\n",
       "      <td>7</td>\n",
       "      <td>1</td>\n",
       "    </tr>\n",
       "  </tbody>\n",
       "</table>\n",
       "</div>"
      ],
      "text/plain": [
       "    Quantity  count\n",
       "0          1    178\n",
       "1          2     38\n",
       "2         10     13\n",
       "3          5      6\n",
       "4          3      6\n",
       "5          4      4\n",
       "6         21      4\n",
       "7         15      3\n",
       "8         20      1\n",
       "9          8      1\n",
       "10         7      1"
      ]
     },
     "execution_count": 124,
     "metadata": {},
     "output_type": "execute_result"
    }
   ],
   "source": [
    "olsera_qy = pd.DataFrame({'Quantity':olsera_qy.index, 'count':olsera_qy.values})\n",
    "olsera_qy"
   ]
  },
  {
   "cell_type": "code",
   "execution_count": 125,
   "id": "17f92d17",
   "metadata": {
    "id": "487b88b0"
   },
   "outputs": [],
   "source": [
    "olsera_qy['Quantity'] = olsera_qy['Quantity'].astype(str)"
   ]
  },
  {
   "cell_type": "code",
   "execution_count": 126,
   "id": "0e018b36",
   "metadata": {
    "colab": {
     "base_uri": "https://localhost:8080/"
    },
    "id": "1cdaa549",
    "outputId": "b5896f4e-7aac-4b21-9e09-efb9c745452c"
   },
   "outputs": [
    {
     "data": {
      "text/plain": [
       "255"
      ]
     },
     "execution_count": 126,
     "metadata": {},
     "output_type": "execute_result"
    }
   ],
   "source": [
    "total_counts_qy = olsera_qy['count'].sum()\n",
    "total_counts_qy"
   ]
  },
  {
   "cell_type": "code",
   "execution_count": 127,
   "id": "19b9d93f",
   "metadata": {
    "colab": {
     "base_uri": "https://localhost:8080/",
     "height": 607
    },
    "id": "814f6fde",
    "outputId": "8eea667a-25ed-46e5-b836-308c7fb138d4"
   },
   "outputs": [
    {
     "data": {
      "image/png": "[encoded data removed]",
      "text/plain": [
       "<Figure size 1440x720 with 1 Axes>"
      ]
     },
     "metadata": {
      "needs_background": "light"
     },
     "output_type": "display_data"
    }
   ],
   "source": [
    "percentage = []\n",
    "for i in range(olsera_qy.shape[0]):\n",
    "    pct = (olsera_qy['count'][i] / total_counts_qy) * 100\n",
    "    percentage.append(round(pct,2))\n",
    "olsera_qy['Percentage'] = percentage\n",
    " \n",
    "# depict illustration\n",
    "plt.figure(figsize=(20,10))\n",
    "colors_list = ['Red','Orange', 'Blue', 'Purple', 'Green', 'Yellow']\n",
    "graph = plt.bar(olsera_qy['Quantity'],olsera_qy['count'], color = colors_list)\n",
    "plt.title('Diagram Persentase Kuantitas Item')\n",
    " \n",
    "i = 0\n",
    "for p in graph:\n",
    "    width = p.get_width()\n",
    "    height = p.get_height()\n",
    "    x, y = p.get_xy()\n",
    "    plt.text(x+width/2,\n",
    "             y+height*1.01,\n",
    "             str(olsera_qy['Percentage'][i])+'%',\n",
    "             ha='center',\n",
    "             weight='bold')\n",
    "    i+=1\n",
    "plt.show()"
   ]
  },
  {
   "cell_type": "markdown",
   "id": "7e58eb14",
   "metadata": {
    "id": "ft9Ar81JQ1jH"
   },
   "source": [
    "Dari diagram diatas dapat kita lihat bahwa sebanyak **69,8% customers membeli produk chocodrink dengan 1 buah.** Sedangkan untuk pembelian produk chocodrink dengan pembelian beberapa buah cenderung relatif sedikit dan berbeda cukup jauh dari pembelian produk satuan. Sehingga dari sini kita tahu bahwa **lebih banyak customers yang tertarik membeli chocodrink untuk diri sendiri.**\n",
    "\n",
    "Terdapat juga pembelian dengan jumlah yang cukup banyak, seperti **pembelian dengan 21 buah sebanyak 1,57%, 15 buah sebanyak 1,18%, dan 10 buah sebanyak 5,1%.** Ini bisa terjadi dikarenakan adanya **reseller dengan jumlah pembelian yang banyak.**\n",
    "\n"
   ]
  },
  {
   "cell_type": "markdown",
   "id": "fefb7e24",
   "metadata": {
    "id": "7SHHRd-F9S9-"
   },
   "source": [
    "**Mengetahui Harga yang Diminati Customer**"
   ]
  },
  {
   "cell_type": "code",
   "execution_count": 128,
   "id": "0bda8435",
   "metadata": {
    "id": "kRh81woE9Wn4"
   },
   "outputs": [],
   "source": [
    "olsera_pr = olsera['price'].value_counts()"
   ]
  },
  {
   "cell_type": "code",
   "execution_count": 129,
   "id": "10169822",
   "metadata": {
    "colab": {
     "base_uri": "https://localhost:8080/",
     "height": 175
    },
    "id": "rgV89Ab-9Wcz",
    "outputId": "e52127c3-b880-4d08-c2a1-445b5ee0e187"
   },
   "outputs": [
    {
     "data": {
      "text/html": [
       "<div>\n",
       "<style scoped>\n",
       "    .dataframe tbody tr th:only-of-type {\n",
       "        vertical-align: middle;\n",
       "    }\n",
       "\n",
       "    .dataframe tbody tr th {\n",
       "        vertical-align: top;\n",
       "    }\n",
       "\n",
       "    .dataframe thead th {\n",
       "        text-align: right;\n",
       "    }\n",
       "</style>\n",
       "<table border=\"1\" class=\"dataframe\">\n",
       "  <thead>\n",
       "    <tr style=\"text-align: right;\">\n",
       "      <th></th>\n",
       "      <th>Price</th>\n",
       "      <th>count</th>\n",
       "    </tr>\n",
       "  </thead>\n",
       "  <tbody>\n",
       "    <tr>\n",
       "      <th>0</th>\n",
       "      <td>18000</td>\n",
       "      <td>213</td>\n",
       "    </tr>\n",
       "    <tr>\n",
       "      <th>1</th>\n",
       "      <td>75000</td>\n",
       "      <td>39</td>\n",
       "    </tr>\n",
       "    <tr>\n",
       "      <th>2</th>\n",
       "      <td>63750</td>\n",
       "      <td>2</td>\n",
       "    </tr>\n",
       "    <tr>\n",
       "      <th>3</th>\n",
       "      <td>15300</td>\n",
       "      <td>1</td>\n",
       "    </tr>\n",
       "  </tbody>\n",
       "</table>\n",
       "</div>"
      ],
      "text/plain": [
       "   Price  count\n",
       "0  18000    213\n",
       "1  75000     39\n",
       "2  63750      2\n",
       "3  15300      1"
      ]
     },
     "execution_count": 129,
     "metadata": {},
     "output_type": "execute_result"
    }
   ],
   "source": [
    "olsera_pr = pd.DataFrame({'Price':olsera_pr.index, 'count':olsera_pr.values})\n",
    "olsera_pr"
   ]
  },
  {
   "cell_type": "code",
   "execution_count": 130,
   "id": "4d779ad2",
   "metadata": {
    "id": "jCocfzJO9c6c"
   },
   "outputs": [],
   "source": [
    "olsera_pr['Price'] = olsera_pr['Price'].astype(str)"
   ]
  },
  {
   "cell_type": "code",
   "execution_count": 131,
   "id": "0f1a924a",
   "metadata": {
    "colab": {
     "base_uri": "https://localhost:8080/"
    },
    "id": "tKmLkr389ft3",
    "outputId": "26cf1a7f-142b-4795-931d-2b81a6327942"
   },
   "outputs": [
    {
     "data": {
      "text/plain": [
       "255"
      ]
     },
     "execution_count": 131,
     "metadata": {},
     "output_type": "execute_result"
    }
   ],
   "source": [
    "total_counts_pr = olsera_pr['count'].sum()\n",
    "total_counts_pr"
   ]
  },
  {
   "cell_type": "code",
   "execution_count": 132,
   "id": "6f1416be",
   "metadata": {
    "colab": {
     "base_uri": "https://localhost:8080/",
     "height": 607
    },
    "id": "JANQOJx49iDP",
    "outputId": "e612073b-fc08-4fe1-9949-44c4cea5d01c"
   },
   "outputs": [
    {
     "data": {
      "image/png": "[encoded data removed]",
      "text/plain": [
       "<Figure size 1440x720 with 1 Axes>"
      ]
     },
     "metadata": {
      "needs_background": "light"
     },
     "output_type": "display_data"
    }
   ],
   "source": [
    "percentage = []\n",
    "for i in range(olsera_pr.shape[0]):\n",
    "    pct = (olsera_pr['count'][i] / total_counts_pr) * 100\n",
    "    percentage.append(round(pct,2))\n",
    "olsera_pr['Percentage'] = percentage\n",
    " \n",
    "# depict illustration\n",
    "plt.figure(figsize=(20,10))\n",
    "color_list = ['Red','OrangeRed','Orange', 'Yellow']\n",
    "graph = plt.bar(olsera_pr['Price'],olsera_pr['count'], color = color_list)\n",
    "plt.title('Persentase Harga Penjualan Item')\n",
    " \n",
    "i = 0\n",
    "for p in graph:\n",
    "    width = p.get_width()\n",
    "    height = p.get_height()\n",
    "    x, y = p.get_xy()\n",
    "    plt.text(x+width/2,\n",
    "             y+height*1.01,\n",
    "             str(olsera_pr['Percentage'][i])+'%',\n",
    "             ha='center',\n",
    "             weight='bold')\n",
    "    i+=1\n",
    "plt.show()"
   ]
  },
  {
   "cell_type": "markdown",
   "id": "80c3e1a7",
   "metadata": {
    "id": "8e657732"
   },
   "source": [
    "Dari analisis diatas, kita ketahui bahwa produk Chocodrink Nichoa yang **banyak terjual** adalah produk dengan harga **18000** yakni sebanyak **213 buah, dengan persentase 83,53%.** Sehingga dapat kita ketahui bahwa customers lebih tertarik untuk membeli produk dengan harga yang relatif lebih murah. Hal ini dapat digunakan sebagai acuan untuk lebih banyak meningkatkan produksi choco drink dengan range harga yang lebih murah."
   ]
  },
  {
   "cell_type": "markdown",
   "id": "90e10e23",
   "metadata": {
    "id": "dv3Hh1OQyT1f"
   },
   "source": [
    "**Mengetahui Tipe Pembayaran yang paling banyak menyumbang pendapatan**"
   ]
  },
  {
   "cell_type": "code",
   "execution_count": 133,
   "id": "a579a0d6",
   "metadata": {
    "colab": {
     "base_uri": "https://localhost:8080/",
     "height": 363
    },
    "id": "PA9H_WkKyfHj",
    "outputId": "3a94cb95-ae12-4d49-e54b-6818d5e845ab"
   },
   "outputs": [
    {
     "data": {
      "text/html": [
       "<div>\n",
       "<style scoped>\n",
       "    .dataframe tbody tr th:only-of-type {\n",
       "        vertical-align: middle;\n",
       "    }\n",
       "\n",
       "    .dataframe tbody tr th {\n",
       "        vertical-align: top;\n",
       "    }\n",
       "\n",
       "    .dataframe thead th {\n",
       "        text-align: right;\n",
       "    }\n",
       "</style>\n",
       "<table border=\"1\" class=\"dataframe\">\n",
       "  <thead>\n",
       "    <tr style=\"text-align: right;\">\n",
       "      <th></th>\n",
       "      <th>payment type</th>\n",
       "      <th>amount</th>\n",
       "    </tr>\n",
       "  </thead>\n",
       "  <tbody>\n",
       "    <tr>\n",
       "      <th>0</th>\n",
       "      <td>BNI Andri Setyowati</td>\n",
       "      <td>6714000</td>\n",
       "    </tr>\n",
       "    <tr>\n",
       "      <th>1</th>\n",
       "      <td>BRI Andri Setyowati</td>\n",
       "      <td>1530000</td>\n",
       "    </tr>\n",
       "    <tr>\n",
       "      <th>2</th>\n",
       "      <td>Bukalapak</td>\n",
       "      <td>492000</td>\n",
       "    </tr>\n",
       "    <tr>\n",
       "      <th>3</th>\n",
       "      <td>CASH</td>\n",
       "      <td>471000</td>\n",
       "    </tr>\n",
       "    <tr>\n",
       "      <th>4</th>\n",
       "      <td>Endorsment</td>\n",
       "      <td>396000</td>\n",
       "    </tr>\n",
       "    <tr>\n",
       "      <th>5</th>\n",
       "      <td>Mandiri CV Nutrico Nusantara</td>\n",
       "      <td>2234850</td>\n",
       "    </tr>\n",
       "    <tr>\n",
       "      <th>6</th>\n",
       "      <td>Pembelian Via Shopee</td>\n",
       "      <td>1554000</td>\n",
       "    </tr>\n",
       "    <tr>\n",
       "      <th>7</th>\n",
       "      <td>Reseller</td>\n",
       "      <td>942000</td>\n",
       "    </tr>\n",
       "    <tr>\n",
       "      <th>8</th>\n",
       "      <td>Sample Product dan Hadiah</td>\n",
       "      <td>819000</td>\n",
       "    </tr>\n",
       "    <tr>\n",
       "      <th>9</th>\n",
       "      <td>Tokopedia</td>\n",
       "      <td>648000</td>\n",
       "    </tr>\n",
       "  </tbody>\n",
       "</table>\n",
       "</div>"
      ],
      "text/plain": [
       "                   payment type   amount\n",
       "0           BNI Andri Setyowati  6714000\n",
       "1           BRI Andri Setyowati  1530000\n",
       "2                     Bukalapak   492000\n",
       "3                          CASH   471000\n",
       "4                    Endorsment   396000\n",
       "5  Mandiri CV Nutrico Nusantara  2234850\n",
       "6          Pembelian Via Shopee  1554000\n",
       "7                      Reseller   942000\n",
       "8     Sample Product dan Hadiah   819000\n",
       "9                     Tokopedia   648000"
      ]
     },
     "execution_count": 133,
     "metadata": {},
     "output_type": "execute_result"
    }
   ],
   "source": [
    "olsera_pt = olsera.groupby(olsera['payment type']).amount.sum()\n",
    "olsera_pt = pd.DataFrame(olsera_pt)\n",
    "olsera_pt = olsera_pt.reset_index()\n",
    "olsera_pt"
   ]
  },
  {
   "cell_type": "code",
   "execution_count": 134,
   "id": "9dfb9a1f",
   "metadata": {
    "colab": {
     "base_uri": "https://localhost:8080/"
    },
    "id": "fGC60HgdykME",
    "outputId": "3ccf50e4-72a7-4436-f638-ff2940225f5e"
   },
   "outputs": [
    {
     "data": {
      "text/plain": [
       "15800850"
      ]
     },
     "execution_count": 134,
     "metadata": {},
     "output_type": "execute_result"
    }
   ],
   "source": [
    "total_counts_pt = olsera_pt['amount'].sum()\n",
    "total_counts_pt"
   ]
  },
  {
   "cell_type": "code",
   "execution_count": 135,
   "id": "470b9c79",
   "metadata": {
    "colab": {
     "base_uri": "https://localhost:8080/",
     "height": 647
    },
    "id": "VaD5hxjEywbR",
    "outputId": "7f99692f-c7ba-45a7-f92e-b328c4b9b400"
   },
   "outputs": [
    {
     "data": {
      "image/png": "[encoded data removed]",
      "text/plain": [
       "<Figure size 2160x1080 with 1 Axes>"
      ]
     },
     "metadata": {
      "needs_background": "light"
     },
     "output_type": "display_data"
    }
   ],
   "source": [
    "percentage = []\n",
    "for i in range(olsera_pt.shape[0]):\n",
    "    pct = (olsera_pt['amount'][i] / total_counts_pt) * 100\n",
    "    percentage.append(round(pct,2))\n",
    "olsera_pt['Percentage'] = percentage\n",
    " \n",
    "# depict illustration\n",
    "plt.figure(figsize=(30,15))\n",
    "color_list = ['Red','OrangeRed','Orange', 'Yellow']\n",
    "graph = plt.bar(olsera_pt['payment type'], olsera_pt['amount'], color = color_list)\n",
    "plt.title('Persentase Harga Penjualan Item')\n",
    " \n",
    "i = 0\n",
    "for p in graph:\n",
    "    width = p.get_width()\n",
    "    height = p.get_height()\n",
    "    x, y = p.get_xy()\n",
    "    plt.text(x+width/2,\n",
    "             y+height*1.01,\n",
    "             str(olsera_pt['Percentage'][i])+'%',\n",
    "             ha='center',\n",
    "             weight='bold')\n",
    "    i+=1\n",
    "plt.show()"
   ]
  },
  {
   "cell_type": "markdown",
   "id": "3de422e2",
   "metadata": {
    "id": "zRKICxSW0nEH"
   },
   "source": [
    "Terlihat pada analisis di atas jika **tipe pembayaran yang paling banyak digunakan oleh customer ada transfer bank** baik itu melalui bank BNI (42.49%), Mandiri (14.14%) dan BRI (9.68%), kemudian disusul pembelian lewat shopee (9.83%), lalu pembelian oleh reseller (5.96%), sample product dan hadiah (5.18%), tokopedia (4.1%), bukalapak(3.11%), cash(2.98%), dan terakhir pembelian paling sedikit melalui endorsment (2.51%). Sehingga banyak customers lebih suka melakukan transaksi pembayaran melalui transfer antar bank karena tentu lebih praktis daripada harus menyediakan uang cash."
   ]
  },
  {
   "cell_type": "markdown",
   "id": "5881208a",
   "metadata": {
    "id": "38b0a4f2"
   },
   "source": [
    "# RFM Analysis"
   ]
  },
  {
   "cell_type": "markdown",
   "id": "9707add1",
   "metadata": {
    "id": "UZ8yhNPux0AV"
   },
   "source": [
    "RFM analysis adalah sebuah singkatan dari recency, frequency, dan monetary value. Analisis ini berguna untuk proses segmentasi pelanggan secara efektif.\n",
    "\n",
    "* Recency menunjukkan waktu interaksi terakhir pelanggan dengan produk atau layanan Anda. Recency bisa menganalisis data mengenai transaksi terakhir pelanggan (pembelian terakhir), kunjungan ke website produk, penggunaan aplikasi mobile, hingga engagement yang pelanggan lakukan lewat media sosial (misalnya jumlah like dan SoV). \n",
    "\n",
    "* Frequency  mengacu pada berapa kali pelanggan berinteraksi dengan produk atau melakukan transaksi dalam periode waktu tertentu (customer life cycle). Frekuensi menjadi salah satu tolok ukur analisis karena bisa menunjukkan tingkat customer engagement terhadap brand (brand engagement). Selain itu, frequency juga bisa mengukur tingkat customer loyalty, brand loyalty, hingga customer retention. Monetary Value Metrik monetary value menunjukkan jumlah total yang pelanggan habiskan untuk membeli produk dalam periode waktu tertentu. \n",
    "\n",
    "* Monetary  merupakan metrik yang penting. Sebab pelanggan yang membelanjakan uangnya dalam jumlah besar cenderung akan membelanjakan lebih banyak lagi uangnya di masa mendatang."
   ]
  },
  {
   "cell_type": "code",
   "execution_count": 136,
   "id": "290f146e",
   "metadata": {
    "colab": {
     "base_uri": "https://localhost:8080/"
    },
    "id": "6127e9f2",
    "outputId": "d2bf90f2-e131-489b-bf34-1e352bbf3a24"
   },
   "outputs": [
    {
     "name": "stdout",
     "output_type": "stream",
     "text": [
      "2021-01-08 09:35:34\n",
      "2022-02-24 16:08:23\n"
     ]
    }
   ],
   "source": [
    "# Timebound\n",
    "\n",
    "print(olsera['order_time'].min())\n",
    "print(olsera['order_time'].max())"
   ]
  },
  {
   "cell_type": "markdown",
   "id": "e9bca3cf",
   "metadata": {
    "id": "f868787b"
   },
   "source": [
    "Tanggal transaksi terakhir adalah 24-02-2022, kita akan gunakan tanggal ini untuk menghitung recency"
   ]
  },
  {
   "cell_type": "code",
   "execution_count": 137,
   "id": "5b9c6433",
   "metadata": {
    "id": "6afe2236"
   },
   "outputs": [],
   "source": [
    "NOW = dt.date(2022,2,24) \n",
    "olsera['Date'] = pd.DatetimeIndex(olsera.order_time).date"
   ]
  },
  {
   "cell_type": "code",
   "execution_count": 138,
   "id": "423d22a5",
   "metadata": {
    "colab": {
     "base_uri": "https://localhost:8080/",
     "height": 206
    },
    "id": "b685478f",
    "outputId": "4e37b255-cad9-4377-c781-daa4b9f665a1"
   },
   "outputs": [
    {
     "data": {
      "text/html": [
       "<div>\n",
       "<style scoped>\n",
       "    .dataframe tbody tr th:only-of-type {\n",
       "        vertical-align: middle;\n",
       "    }\n",
       "\n",
       "    .dataframe tbody tr th {\n",
       "        vertical-align: top;\n",
       "    }\n",
       "\n",
       "    .dataframe thead th {\n",
       "        text-align: right;\n",
       "    }\n",
       "</style>\n",
       "<table border=\"1\" class=\"dataframe\">\n",
       "  <thead>\n",
       "    <tr style=\"text-align: right;\">\n",
       "      <th></th>\n",
       "      <th>order no</th>\n",
       "      <th>Recency</th>\n",
       "    </tr>\n",
       "  </thead>\n",
       "  <tbody>\n",
       "    <tr>\n",
       "      <th>0</th>\n",
       "      <td>065321010800000079</td>\n",
       "      <td>412</td>\n",
       "    </tr>\n",
       "    <tr>\n",
       "      <th>1</th>\n",
       "      <td>065321011100000090</td>\n",
       "      <td>409</td>\n",
       "    </tr>\n",
       "    <tr>\n",
       "      <th>2</th>\n",
       "      <td>065321011100000091</td>\n",
       "      <td>409</td>\n",
       "    </tr>\n",
       "    <tr>\n",
       "      <th>3</th>\n",
       "      <td>065321011100000092</td>\n",
       "      <td>409</td>\n",
       "    </tr>\n",
       "    <tr>\n",
       "      <th>4</th>\n",
       "      <td>065321011100000093</td>\n",
       "      <td>409</td>\n",
       "    </tr>\n",
       "  </tbody>\n",
       "</table>\n",
       "</div>"
      ],
      "text/plain": [
       "             order no  Recency\n",
       "0  065321010800000079      412\n",
       "1  065321011100000090      409\n",
       "2  065321011100000091      409\n",
       "3  065321011100000092      409\n",
       "4  065321011100000093      409"
      ]
     },
     "execution_count": 138,
     "metadata": {},
     "output_type": "execute_result"
    }
   ],
   "source": [
    "# Recency\n",
    "\n",
    "olsera_recency = olsera.groupby(['order no'],as_index=False)['Date'].max()\n",
    "olsera_recency.columns = ['order no','Last_Purchase_Date']\n",
    "\n",
    "olsera_recency['Recency'] = olsera_recency.Last_Purchase_Date.apply(lambda x:(NOW - x).days)\n",
    "olsera_recency.drop(columns=['Last_Purchase_Date'],inplace=True)\n",
    "olsera_recency.head()"
   ]
  },
  {
   "cell_type": "code",
   "execution_count": 139,
   "id": "eed2fafc",
   "metadata": {
    "colab": {
     "base_uri": "https://localhost:8080/",
     "height": 238
    },
    "id": "a3f49be0",
    "outputId": "729620b4-5eae-4f52-c016-d52c909278af"
   },
   "outputs": [
    {
     "data": {
      "text/html": [
       "<div>\n",
       "<style scoped>\n",
       "    .dataframe tbody tr th:only-of-type {\n",
       "        vertical-align: middle;\n",
       "    }\n",
       "\n",
       "    .dataframe tbody tr th {\n",
       "        vertical-align: top;\n",
       "    }\n",
       "\n",
       "    .dataframe thead th {\n",
       "        text-align: right;\n",
       "    }\n",
       "</style>\n",
       "<table border=\"1\" class=\"dataframe\">\n",
       "  <thead>\n",
       "    <tr style=\"text-align: right;\">\n",
       "      <th></th>\n",
       "      <th>Frequency</th>\n",
       "      <th>Monetary</th>\n",
       "    </tr>\n",
       "    <tr>\n",
       "      <th>order no</th>\n",
       "      <th></th>\n",
       "      <th></th>\n",
       "    </tr>\n",
       "  </thead>\n",
       "  <tbody>\n",
       "    <tr>\n",
       "      <th>065321010800000079</th>\n",
       "      <td>2</td>\n",
       "      <td>36000</td>\n",
       "    </tr>\n",
       "    <tr>\n",
       "      <th>065321011100000090</th>\n",
       "      <td>2</td>\n",
       "      <td>36000</td>\n",
       "    </tr>\n",
       "    <tr>\n",
       "      <th>065321011100000091</th>\n",
       "      <td>1</td>\n",
       "      <td>18000</td>\n",
       "    </tr>\n",
       "    <tr>\n",
       "      <th>065321011100000092</th>\n",
       "      <td>2</td>\n",
       "      <td>180000</td>\n",
       "    </tr>\n",
       "    <tr>\n",
       "      <th>065321011100000093</th>\n",
       "      <td>1</td>\n",
       "      <td>18000</td>\n",
       "    </tr>\n",
       "  </tbody>\n",
       "</table>\n",
       "</div>"
      ],
      "text/plain": [
       "                    Frequency  Monetary\n",
       "order no                               \n",
       "065321010800000079          2     36000\n",
       "065321011100000090          2     36000\n",
       "065321011100000091          1     18000\n",
       "065321011100000092          2    180000\n",
       "065321011100000093          1     18000"
      ]
     },
     "execution_count": 139,
     "metadata": {},
     "output_type": "execute_result"
    }
   ],
   "source": [
    "# Frequency - Monetary\n",
    "\n",
    "FM_Table = olsera.groupby('order no').agg({'order no':lambda x:len(x),\n",
    "                                        'amount':lambda x:x.sum()})\n",
    "FM_Table.rename(columns = {'order no' :'Frequency',\n",
    "                           'amount':'Monetary'},inplace= True)\n",
    "FM_Table.head()"
   ]
  },
  {
   "cell_type": "code",
   "execution_count": 140,
   "id": "3047f4f3",
   "metadata": {
    "colab": {
     "base_uri": "https://localhost:8080/",
     "height": 206
    },
    "id": "e3b3a822",
    "outputId": "b09f59a6-9d34-4227-fd44-6aabea0c4859"
   },
   "outputs": [
    {
     "data": {
      "text/html": [
       "<div>\n",
       "<style scoped>\n",
       "    .dataframe tbody tr th:only-of-type {\n",
       "        vertical-align: middle;\n",
       "    }\n",
       "\n",
       "    .dataframe tbody tr th {\n",
       "        vertical-align: top;\n",
       "    }\n",
       "\n",
       "    .dataframe thead th {\n",
       "        text-align: right;\n",
       "    }\n",
       "</style>\n",
       "<table border=\"1\" class=\"dataframe\">\n",
       "  <thead>\n",
       "    <tr style=\"text-align: right;\">\n",
       "      <th></th>\n",
       "      <th>order no</th>\n",
       "      <th>Recency</th>\n",
       "      <th>Frequency</th>\n",
       "      <th>Monetary</th>\n",
       "    </tr>\n",
       "  </thead>\n",
       "  <tbody>\n",
       "    <tr>\n",
       "      <th>0</th>\n",
       "      <td>065321010800000079</td>\n",
       "      <td>412</td>\n",
       "      <td>2</td>\n",
       "      <td>36000</td>\n",
       "    </tr>\n",
       "    <tr>\n",
       "      <th>1</th>\n",
       "      <td>065321011100000090</td>\n",
       "      <td>409</td>\n",
       "      <td>2</td>\n",
       "      <td>36000</td>\n",
       "    </tr>\n",
       "    <tr>\n",
       "      <th>2</th>\n",
       "      <td>065321011100000091</td>\n",
       "      <td>409</td>\n",
       "      <td>1</td>\n",
       "      <td>18000</td>\n",
       "    </tr>\n",
       "    <tr>\n",
       "      <th>3</th>\n",
       "      <td>065321011100000092</td>\n",
       "      <td>409</td>\n",
       "      <td>2</td>\n",
       "      <td>180000</td>\n",
       "    </tr>\n",
       "    <tr>\n",
       "      <th>4</th>\n",
       "      <td>065321011100000093</td>\n",
       "      <td>409</td>\n",
       "      <td>1</td>\n",
       "      <td>18000</td>\n",
       "    </tr>\n",
       "  </tbody>\n",
       "</table>\n",
       "</div>"
      ],
      "text/plain": [
       "             order no  Recency  Frequency  Monetary\n",
       "0  065321010800000079      412          2     36000\n",
       "1  065321011100000090      409          2     36000\n",
       "2  065321011100000091      409          1     18000\n",
       "3  065321011100000092      409          2    180000\n",
       "4  065321011100000093      409          1     18000"
      ]
     },
     "execution_count": 140,
     "metadata": {},
     "output_type": "execute_result"
    }
   ],
   "source": [
    "RFM_Table = olsera_recency.merge(FM_Table,left_on='order no',right_on='order no')\n",
    "RFM_Table.head()"
   ]
  },
  {
   "cell_type": "markdown",
   "id": "b5236109",
   "metadata": {
    "id": "OsSKFbr_r2Xw"
   },
   "source": [
    "Dari sini kita dapat melihat bahwa **customer** dengan order no **'065321010800000079' melakukan pembelian sekitar 412 hari yang lalu dihitung dari 24 Februari 2022** dengan jumlah produk choco drink **sebanyak 2 buah** dan total pembayaran **Rp. 36000** dengan membeli choco drink dengan **ukuran 25 gr,** sedangkan **customer** dengan order no **'065321011100000091' melakukan pembelian sekitar 409 hari yang lalu dihitung dari 24 Februari 2022** dengan jumlah produk choco drink sebanyak **1 buah** dan total pembayaran **Rp. 18000** membeli choco drink dengan **ukuran 25 gr.**"
   ]
  },
  {
   "cell_type": "markdown",
   "id": "a77d976c",
   "metadata": {
    "id": "0821ebfe"
   },
   "source": [
    "# Modeling Data: RFM Quantiles\n",
    "\n",
    "* Sekarang kami membagi metrik menjadi beberapa segmen menggunakan kuantil.\n",
    " * Kami akan menetapkan skor dari 1 hingga 4 untuk masing-masing Recency, Frequency, dan Monetery.\n",
    " * 1 adalah nilai tertinggi, dan 4 adalah nilai terendah.\n",
    " * Skor akhir RFM (Nilai Keseluruhan) dihitung dengan menggabungkan angka skor RFM individual."
   ]
  },
  {
   "cell_type": "code",
   "execution_count": 141,
   "id": "ed17b4fc",
   "metadata": {
    "id": "a388a562"
   },
   "outputs": [],
   "source": [
    "quantiles = RFM_Table.quantile(q=[0.25,0.50,0.75])\n",
    "quantiles = quantiles.to_dict()"
   ]
  },
  {
   "cell_type": "code",
   "execution_count": 142,
   "id": "c10e10d5",
   "metadata": {
    "id": "cceb566e"
   },
   "outputs": [],
   "source": [
    "segmented_rfm = RFM_Table.copy()"
   ]
  },
  {
   "cell_type": "code",
   "execution_count": 143,
   "id": "13cbdb15",
   "metadata": {
    "id": "d191bda8"
   },
   "outputs": [],
   "source": [
    "def RScore(x,p,d):\n",
    "    if x <= d[p][0.25]:\n",
    "        return 1\n",
    "    elif x <= d[p][0.50]:\n",
    "        return 2\n",
    "    elif x<= d[p][0.75]:\n",
    "        return 3\n",
    "    else:\n",
    "        return 4\n",
    "\n",
    "def FMScore(x,p,d):\n",
    "    if x <= d[p][0.25]:\n",
    "        return 4\n",
    "    elif x <= d[p][0.50]:\n",
    "        return 3\n",
    "    elif x<= d[p][0.75]:\n",
    "        return 2\n",
    "    else:\n",
    "        return 1"
   ]
  },
  {
   "cell_type": "code",
   "execution_count": 144,
   "id": "fccdf916",
   "metadata": {
    "colab": {
     "base_uri": "https://localhost:8080/",
     "height": 206
    },
    "id": "070779c9",
    "outputId": "2afb7be3-3686-489d-bbd3-f3a684bc4045"
   },
   "outputs": [
    {
     "data": {
      "text/html": [
       "<div>\n",
       "<style scoped>\n",
       "    .dataframe tbody tr th:only-of-type {\n",
       "        vertical-align: middle;\n",
       "    }\n",
       "\n",
       "    .dataframe tbody tr th {\n",
       "        vertical-align: top;\n",
       "    }\n",
       "\n",
       "    .dataframe thead th {\n",
       "        text-align: right;\n",
       "    }\n",
       "</style>\n",
       "<table border=\"1\" class=\"dataframe\">\n",
       "  <thead>\n",
       "    <tr style=\"text-align: right;\">\n",
       "      <th></th>\n",
       "      <th>order no</th>\n",
       "      <th>Recency</th>\n",
       "      <th>Frequency</th>\n",
       "      <th>Monetary</th>\n",
       "      <th>R_quartile</th>\n",
       "      <th>F_quartile</th>\n",
       "      <th>M_quartile</th>\n",
       "    </tr>\n",
       "  </thead>\n",
       "  <tbody>\n",
       "    <tr>\n",
       "      <th>0</th>\n",
       "      <td>065321010800000079</td>\n",
       "      <td>412</td>\n",
       "      <td>2</td>\n",
       "      <td>36000</td>\n",
       "      <td>4</td>\n",
       "      <td>3</td>\n",
       "      <td>3</td>\n",
       "    </tr>\n",
       "    <tr>\n",
       "      <th>1</th>\n",
       "      <td>065321011100000090</td>\n",
       "      <td>409</td>\n",
       "      <td>2</td>\n",
       "      <td>36000</td>\n",
       "      <td>4</td>\n",
       "      <td>3</td>\n",
       "      <td>3</td>\n",
       "    </tr>\n",
       "    <tr>\n",
       "      <th>2</th>\n",
       "      <td>065321011100000091</td>\n",
       "      <td>409</td>\n",
       "      <td>1</td>\n",
       "      <td>18000</td>\n",
       "      <td>4</td>\n",
       "      <td>4</td>\n",
       "      <td>4</td>\n",
       "    </tr>\n",
       "    <tr>\n",
       "      <th>3</th>\n",
       "      <td>065321011100000092</td>\n",
       "      <td>409</td>\n",
       "      <td>2</td>\n",
       "      <td>180000</td>\n",
       "      <td>4</td>\n",
       "      <td>3</td>\n",
       "      <td>1</td>\n",
       "    </tr>\n",
       "    <tr>\n",
       "      <th>4</th>\n",
       "      <td>065321011100000093</td>\n",
       "      <td>409</td>\n",
       "      <td>1</td>\n",
       "      <td>18000</td>\n",
       "      <td>4</td>\n",
       "      <td>4</td>\n",
       "      <td>4</td>\n",
       "    </tr>\n",
       "  </tbody>\n",
       "</table>\n",
       "</div>"
      ],
      "text/plain": [
       "             order no  Recency  Frequency  Monetary  R_quartile  F_quartile  \\\n",
       "0  065321010800000079      412          2     36000           4           3   \n",
       "1  065321011100000090      409          2     36000           4           3   \n",
       "2  065321011100000091      409          1     18000           4           4   \n",
       "3  065321011100000092      409          2    180000           4           3   \n",
       "4  065321011100000093      409          1     18000           4           4   \n",
       "\n",
       "   M_quartile  \n",
       "0           3  \n",
       "1           3  \n",
       "2           4  \n",
       "3           1  \n",
       "4           4  "
      ]
     },
     "execution_count": 144,
     "metadata": {},
     "output_type": "execute_result"
    }
   ],
   "source": [
    "segmented_rfm['R_quartile'] = segmented_rfm['Recency'].apply(RScore, args=('Recency',quantiles))\n",
    "segmented_rfm['F_quartile'] = segmented_rfm['Frequency'].apply(FMScore, args=('Frequency',quantiles))\n",
    "segmented_rfm['M_quartile'] = segmented_rfm['Monetary'].apply(FMScore, args=('Monetary',quantiles))\n",
    "segmented_rfm.head()"
   ]
  },
  {
   "cell_type": "code",
   "execution_count": 145,
   "id": "cf36c49a",
   "metadata": {
    "id": "b25f7dde"
   },
   "outputs": [],
   "source": [
    "segmented_rfm['RFM_Segment'] = segmented_rfm.R_quartile.map(str)+segmented_rfm.F_quartile.map(str)+segmented_rfm.M_quartile.map(str)"
   ]
  },
  {
   "cell_type": "code",
   "execution_count": 146,
   "id": "672fc95f",
   "metadata": {
    "id": "0c911f30"
   },
   "outputs": [],
   "source": [
    "segmented_rfm['RFM_Score'] = segmented_rfm[['R_quartile', 'F_quartile', 'M_quartile']].sum(axis=1)"
   ]
  },
  {
   "cell_type": "code",
   "execution_count": 147,
   "id": "9f4b239d",
   "metadata": {
    "colab": {
     "base_uri": "https://localhost:8080/",
     "height": 206
    },
    "id": "22b17273",
    "outputId": "26cfb4ee-2c06-4675-e777-e7593fba12f7"
   },
   "outputs": [
    {
     "data": {
      "text/html": [
       "<div>\n",
       "<style scoped>\n",
       "    .dataframe tbody tr th:only-of-type {\n",
       "        vertical-align: middle;\n",
       "    }\n",
       "\n",
       "    .dataframe tbody tr th {\n",
       "        vertical-align: top;\n",
       "    }\n",
       "\n",
       "    .dataframe thead th {\n",
       "        text-align: right;\n",
       "    }\n",
       "</style>\n",
       "<table border=\"1\" class=\"dataframe\">\n",
       "  <thead>\n",
       "    <tr style=\"text-align: right;\">\n",
       "      <th></th>\n",
       "      <th>order no</th>\n",
       "      <th>Recency</th>\n",
       "      <th>Frequency</th>\n",
       "      <th>Monetary</th>\n",
       "      <th>R_quartile</th>\n",
       "      <th>F_quartile</th>\n",
       "      <th>M_quartile</th>\n",
       "      <th>RFM_Segment</th>\n",
       "      <th>RFM_Score</th>\n",
       "    </tr>\n",
       "  </thead>\n",
       "  <tbody>\n",
       "    <tr>\n",
       "      <th>0</th>\n",
       "      <td>065321010800000079</td>\n",
       "      <td>412</td>\n",
       "      <td>2</td>\n",
       "      <td>36000</td>\n",
       "      <td>4</td>\n",
       "      <td>3</td>\n",
       "      <td>3</td>\n",
       "      <td>433</td>\n",
       "      <td>10</td>\n",
       "    </tr>\n",
       "    <tr>\n",
       "      <th>1</th>\n",
       "      <td>065321011100000090</td>\n",
       "      <td>409</td>\n",
       "      <td>2</td>\n",
       "      <td>36000</td>\n",
       "      <td>4</td>\n",
       "      <td>3</td>\n",
       "      <td>3</td>\n",
       "      <td>433</td>\n",
       "      <td>10</td>\n",
       "    </tr>\n",
       "    <tr>\n",
       "      <th>2</th>\n",
       "      <td>065321011100000091</td>\n",
       "      <td>409</td>\n",
       "      <td>1</td>\n",
       "      <td>18000</td>\n",
       "      <td>4</td>\n",
       "      <td>4</td>\n",
       "      <td>4</td>\n",
       "      <td>444</td>\n",
       "      <td>12</td>\n",
       "    </tr>\n",
       "    <tr>\n",
       "      <th>3</th>\n",
       "      <td>065321011100000092</td>\n",
       "      <td>409</td>\n",
       "      <td>2</td>\n",
       "      <td>180000</td>\n",
       "      <td>4</td>\n",
       "      <td>3</td>\n",
       "      <td>1</td>\n",
       "      <td>431</td>\n",
       "      <td>8</td>\n",
       "    </tr>\n",
       "    <tr>\n",
       "      <th>4</th>\n",
       "      <td>065321011100000093</td>\n",
       "      <td>409</td>\n",
       "      <td>1</td>\n",
       "      <td>18000</td>\n",
       "      <td>4</td>\n",
       "      <td>4</td>\n",
       "      <td>4</td>\n",
       "      <td>444</td>\n",
       "      <td>12</td>\n",
       "    </tr>\n",
       "  </tbody>\n",
       "</table>\n",
       "</div>"
      ],
      "text/plain": [
       "             order no  Recency  Frequency  Monetary  R_quartile  F_quartile  \\\n",
       "0  065321010800000079      412          2     36000           4           3   \n",
       "1  065321011100000090      409          2     36000           4           3   \n",
       "2  065321011100000091      409          1     18000           4           4   \n",
       "3  065321011100000092      409          2    180000           4           3   \n",
       "4  065321011100000093      409          1     18000           4           4   \n",
       "\n",
       "   M_quartile RFM_Segment  RFM_Score  \n",
       "0           3         433         10  \n",
       "1           3         433         10  \n",
       "2           4         444         12  \n",
       "3           1         431          8  \n",
       "4           4         444         12  "
      ]
     },
     "execution_count": 147,
     "metadata": {},
     "output_type": "execute_result"
    }
   ],
   "source": [
    "segmented_rfm.head()"
   ]
  },
  {
   "cell_type": "markdown",
   "id": "fca6b1bf",
   "metadata": {
    "id": "1f964158"
   },
   "source": [
    "**Semakin besar angka di R_quartile,** maka itu membuktikan bahwa pelanggan semakin **lama tidak berbelanja.** Sedangkan **semakin kecil** angka pada **R_quartile,** membuktikan bahwa pelanggan **semakin baru berbelanja.**\n",
    "\n",
    "Dari contoh ini terlihat, **customer** dengan order no **'065321010800000079'  terakhir berbelanja 412 hari yang lalu,** karena **sudah lama,** dia mendapatkan **R_quartile 4,** sedangkan **order number '06C921081000000176' terakhir berbelanja 198 hari yang lalu, dia mendapatkan R_quartile 3.**\n",
    "\n",
    "**Semakin besar angka di F_quartile,** maka membuktikan bahwa pelanggan **semakin jarang berbelanja.** sedangkan **semakin kecil angka di F_quartile,** membuktikan bahwa pelanggan **semakin sering berbelanja dan membeli dengan jumlah barang yang banyak.**\n",
    "\n",
    "Begitu juga untuk **M_quartile, semakin besar angka di M_quartile,** maka membuktikan bahwa pelanggan **semakin kecil jumlah yang dibelanjakan.** sedangkan **semakin kecil angka dalam M_quartile,** membuktikan bahwa pelanggan **semakin banyak mengeluarkan uang untuk berbelanja.**"
   ]
  },
  {
   "cell_type": "markdown",
   "id": "17c244a8",
   "metadata": {
    "id": "478a5ab6"
   },
   "source": [
    "## Labeling"
   ]
  },
  {
   "cell_type": "code",
   "execution_count": 148,
   "id": "38739558",
   "metadata": {
    "colab": {
     "base_uri": "https://localhost:8080/"
    },
    "id": "7ab8daf5",
    "outputId": "77a57dfc-83f2-4de7-ec3f-d20dbc307f0a"
   },
   "outputs": [
    {
     "name": "stdout",
     "output_type": "stream",
     "text": [
      "Best Customers:  5\n",
      "Loyal Customers:  28\n",
      "Big Spenders:  34\n",
      "Almost Lost:  0\n",
      "Lost Customers:  4\n",
      "Lost Cheap Customers:  7\n"
     ]
    }
   ],
   "source": [
    "print(\"Best Customers: \",len(segmented_rfm[segmented_rfm['RFM_Segment']=='111']))\n",
    "print('Loyal Customers: ',len(segmented_rfm[segmented_rfm['F_quartile']==1]))\n",
    "print(\"Big Spenders: \",len(segmented_rfm[segmented_rfm['M_quartile']==1]))\n",
    "print('Almost Lost: ', len(segmented_rfm[segmented_rfm['RFM_Segment']=='134']))\n",
    "print('Lost Customers: ',len(segmented_rfm[segmented_rfm['RFM_Segment']=='344']))\n",
    "print('Lost Cheap Customers: ',len(segmented_rfm[segmented_rfm['RFM_Segment']=='444']))"
   ]
  },
  {
   "cell_type": "code",
   "execution_count": 149,
   "id": "5f86f646",
   "metadata": {
    "id": "c5f0ca0a"
   },
   "outputs": [],
   "source": [
    "label = [0] * len(segmented_rfm)\n",
    "\n",
    "for i in range(0,len(segmented_rfm)):\n",
    "\n",
    "    if segmented_rfm['RFM_Segment'][i] == '111':\n",
    "        label[i] = \"Best Customers\"\n",
    "        \n",
    "    elif segmented_rfm['RFM_Segment'][i] == '134' :\n",
    "        label[i] = \"Almost Lost\"\n",
    "        \n",
    "    elif segmented_rfm['RFM_Segment'][i] == '344':\n",
    "        label[i] = \"Lost Customers\"\n",
    "    \n",
    "    elif segmented_rfm['RFM_Segment'][i] == '444':\n",
    "        label[i] = \"Lost Cheap Customers\"\n",
    "\n",
    "    elif segmented_rfm['F_quartile'][i] == 1:\n",
    "        label[i] = \"Loyal Customers\"  \n",
    "    \n",
    "    elif segmented_rfm['M_quartile'][i] == 1:\n",
    "        label[i] = \"Big Spenders\"   \n",
    "        \n",
    "    else:\n",
    "        label[i] = \"Others\""
   ]
  },
  {
   "cell_type": "code",
   "execution_count": 150,
   "id": "4dcc2ac9",
   "metadata": {
    "id": "05c5a78b"
   },
   "outputs": [],
   "source": [
    "segmented_rfm['Label'] = label"
   ]
  },
  {
   "cell_type": "code",
   "execution_count": 151,
   "id": "45fce110",
   "metadata": {
    "colab": {
     "base_uri": "https://localhost:8080/"
    },
    "id": "5pWh8j3zAghV",
    "outputId": "89176a16-5f71-49d4-ed1a-d157a689cfc4"
   },
   "outputs": [
    {
     "data": {
      "text/plain": [
       "Others                  87\n",
       "Loyal Customers         23\n",
       "Big Spenders            18\n",
       "Lost Cheap Customers     7\n",
       "Best Customers           5\n",
       "Lost Customers           4\n",
       "Name: Label, dtype: int64"
      ]
     },
     "execution_count": 151,
     "metadata": {},
     "output_type": "execute_result"
    }
   ],
   "source": [
    "segmen_rfm = segmented_rfm['Label'].value_counts()\n",
    "segmen_rfm"
   ]
  },
  {
   "cell_type": "code",
   "execution_count": 152,
   "id": "e22348a0",
   "metadata": {
    "colab": {
     "base_uri": "https://localhost:8080/",
     "height": 238
    },
    "id": "Xk8MD1prAj7L",
    "outputId": "03b9f33c-c216-4182-f965-f81a5eea3c1b"
   },
   "outputs": [
    {
     "data": {
      "text/html": [
       "<div>\n",
       "<style scoped>\n",
       "    .dataframe tbody tr th:only-of-type {\n",
       "        vertical-align: middle;\n",
       "    }\n",
       "\n",
       "    .dataframe tbody tr th {\n",
       "        vertical-align: top;\n",
       "    }\n",
       "\n",
       "    .dataframe thead th {\n",
       "        text-align: right;\n",
       "    }\n",
       "</style>\n",
       "<table border=\"1\" class=\"dataframe\">\n",
       "  <thead>\n",
       "    <tr style=\"text-align: right;\">\n",
       "      <th></th>\n",
       "      <th>Segmen_RFM</th>\n",
       "      <th>count</th>\n",
       "    </tr>\n",
       "  </thead>\n",
       "  <tbody>\n",
       "    <tr>\n",
       "      <th>0</th>\n",
       "      <td>Others</td>\n",
       "      <td>87</td>\n",
       "    </tr>\n",
       "    <tr>\n",
       "      <th>1</th>\n",
       "      <td>Loyal Customers</td>\n",
       "      <td>23</td>\n",
       "    </tr>\n",
       "    <tr>\n",
       "      <th>2</th>\n",
       "      <td>Big Spenders</td>\n",
       "      <td>18</td>\n",
       "    </tr>\n",
       "    <tr>\n",
       "      <th>3</th>\n",
       "      <td>Lost Cheap Customers</td>\n",
       "      <td>7</td>\n",
       "    </tr>\n",
       "    <tr>\n",
       "      <th>4</th>\n",
       "      <td>Best Customers</td>\n",
       "      <td>5</td>\n",
       "    </tr>\n",
       "    <tr>\n",
       "      <th>5</th>\n",
       "      <td>Lost Customers</td>\n",
       "      <td>4</td>\n",
       "    </tr>\n",
       "  </tbody>\n",
       "</table>\n",
       "</div>"
      ],
      "text/plain": [
       "             Segmen_RFM  count\n",
       "0                Others     87\n",
       "1       Loyal Customers     23\n",
       "2          Big Spenders     18\n",
       "3  Lost Cheap Customers      7\n",
       "4        Best Customers      5\n",
       "5        Lost Customers      4"
      ]
     },
     "execution_count": 152,
     "metadata": {},
     "output_type": "execute_result"
    }
   ],
   "source": [
    "segmen_rfm = pd.DataFrame({'Segmen_RFM':segmen_rfm.index, 'count':segmen_rfm.values})\n",
    "segmen_rfm"
   ]
  },
  {
   "cell_type": "code",
   "execution_count": 153,
   "id": "762f14a0",
   "metadata": {
    "colab": {
     "base_uri": "https://localhost:8080/"
    },
    "id": "Q7f5yaDEAsZ_",
    "outputId": "04794ba5-e940-47a0-98d6-133454d3da26"
   },
   "outputs": [
    {
     "data": {
      "text/plain": [
       "144"
      ]
     },
     "execution_count": 153,
     "metadata": {},
     "output_type": "execute_result"
    }
   ],
   "source": [
    "total_counts_rfm = segmen_rfm['count'].sum()\n",
    "total_counts_rfm"
   ]
  },
  {
   "cell_type": "code",
   "execution_count": 154,
   "id": "496118f2",
   "metadata": {
    "colab": {
     "base_uri": "https://localhost:8080/"
    },
    "id": "i8VQ2MaRBDfe",
    "outputId": "4574a7a4-de2b-4731-c9be-58d11551f3c1"
   },
   "outputs": [
    {
     "name": "stdout",
     "output_type": "stream",
     "text": [
      "Persentase 'Others' sebesar 60.416666666666664%\n",
      "Persentase 'Loyal Customers' sebesar 15.972222222222221%\n",
      "Persentase 'Big Spenders' sebesar 12.5%\n",
      "Persentase 'Lost Cheap Customers' sebesar 4.861111111111112%\n",
      "Persentase 'Lost Customers' sebesar 2.7777777777777777%\n",
      "Persentase 'Best Customers' sebesar 3.4722222222222223%\n"
     ]
    }
   ],
   "source": [
    "Others = 87\n",
    "Loyal_Customers = 23\n",
    "Big_Spenders = 18\n",
    "Lost_Cheap_Customers = 7\n",
    "Lost_Customers = 4\n",
    "Best_Customers = 5\n",
    "\n",
    "total = Others + Loyal_Customers + Big_Spenders + Lost_Cheap_Customers + Lost_Customers + Best_Customers \n",
    "\n",
    "p_other = Others / total * 100\n",
    "p_loyal = Loyal_Customers / total * 100\n",
    "p_big = Big_Spenders / total * 100\n",
    "p_lcc = Lost_Cheap_Customers / total * 100\n",
    "p_lc = Lost_Customers / total * 100\n",
    "p_best = Best_Customers / total * 100\n",
    "print(f\"Persentase 'Others' sebesar {p_other}%\")\n",
    "print(f\"Persentase 'Loyal Customers' sebesar {p_loyal}%\")\n",
    "print(f\"Persentase 'Big Spenders' sebesar {p_big}%\")\n",
    "print(f\"Persentase 'Lost Cheap Customers' sebesar {p_lcc}%\")\n",
    "print(f\"Persentase 'Lost Customers' sebesar {p_lc}%\")\n",
    "print(f\"Persentase 'Best Customers' sebesar {p_best}%\")"
   ]
  },
  {
   "cell_type": "code",
   "execution_count": 155,
   "id": "92b8fcff",
   "metadata": {
    "colab": {
     "base_uri": "https://localhost:8080/",
     "height": 623
    },
    "id": "3nwv9DluAxNo",
    "outputId": "9d6c2ffe-4b5a-4a30-bb78-8b26dfd82195"
   },
   "outputs": [
    {
     "data": {
      "image/png": "[encoded data removed]",
      "text/plain": [
       "<Figure size 432x288 with 1 Axes>"
      ]
     },
     "metadata": {},
     "output_type": "display_data"
    }
   ],
   "source": [
    "fig = plt.figure()\n",
    "ax = fig.add_axes([1,1,2,2])\n",
    "ax.axis('equal')\n",
    "ax.pie(segmen_rfm['count'],labels=segmen_rfm['Segmen_RFM'],autopct='%1.2f%%')\n",
    "ax.set_title('Diagram Persentase Pembagian Segmen Customer')\n",
    "plt.show()"
   ]
  },
  {
   "cell_type": "markdown",
   "id": "f12b3e1e",
   "metadata": {
    "id": "xWH5jbTIo_Bv"
   },
   "source": [
    "* Berdasarkan hasil pemodelan segmentasi pelanggan menggunakan RFM, **pelanggan** perusahaan **dibagi** menjadi **6 segmen,** yaitu **Loyal Customers, Big Spenders, Lost Cheap Customers, Lost Customers, Best Customers, dan lain-lain.**\n",
    "\n",
    "* Sebanyak **15,97%** dari total pelanggan (dengan total **23 customer**) termasuk dalam **Loyal Customer** dimana pelanggan segmen ini memiliki **frekuensi berbelanja paling banyak** dibandingkan segmen lainnya.\n",
    "\n",
    "* Selanjutnya, **12,50%** dari total pelanggan (dengan total **18 customer**) di perusahaan masuk ke segmen **Big Spenders.** Segmen ini memiliki total **pembelian tertinggi** dibanding segmen lainnya.\n",
    "\n",
    "* Segmen **Lost Cheap Customers** terdiri dari **7 customer** dengan persentase **4,86%** dari total pelanggan. **Pelanggan** yang masuk ke segmen jenis ini cenderung **melakukan churn** karena sudah **lama tidak membeli barang** dari perusahaan, memiliki **frekuensi belanja yang paling sedikit,** dan memiliki **total pembelian yang paling sedikit** dibandingkan segmen lainnya.\n",
    "\n",
    "* Kemudian sebanyak **3.47%** dari total pelanggan (dengan total **5 customer**) tergolong **Lost Customer** yang **hampir sama** dengan pelanggan di segmen **Lost Cheap Customers, Lost Customer cenderung churn.**\n",
    "\n",
    "* Sebanyak **4 customer** dengan persentase **2.78%** dari total customer, masuk dalam segmen **Best Customer.** **Pelanggan** pada segmen ini **baru saja membeli barang** dari perusahaan, memiliki **frekuensi belanja terbanyak,** dan memiliki **total pembelian terbanyak** dibanding segmen lainnya.\n",
    "\n",
    "* Terakhir, **pelanggan lain** diklasifikasikan ke dalam **segmen others,** dimana segmen ini merupakan **segmen campuran** (dalam hal ini undefined segment) sebanyak **60.42%** yang merupakan **presentase tertinggi** dari segmen customer lain."
   ]
  },
  {
   "cell_type": "markdown",
   "id": "1c276f07",
   "metadata": {
    "id": "DNa026BapUfT"
   },
   "source": [
    "# Result"
   ]
  },
  {
   "cell_type": "markdown",
   "id": "ebc473bd",
   "metadata": {
    "id": "utPjPUXwITgX"
   },
   "source": [
    "* Data yang ada dalam dataset, menunjukkan total order adalah 144. Jumlah order no sama dengan jumlah order time, sehingga dalam dalam satu waktu order terdapat satu order no yang masuk. Terlihat juga terdapat 6 item dalam chocodrink dengan begitu terdapat 6 jenis produk yang berbeda dari segi ukuran maupun variannya.\n",
    "\n",
    "\n",
    "* Dari deskripsi data menunjukkan jika pembelian paling rendah dari produk sebanyak 1 buah dan yang paling tinggi sebanyak 21 buah. Kemudian, mengacu pada harga normalnya, untuk harga tertinggi yaitu 75000 pada ukuran choco drink 150 gr, dan harga 18000 pada ukuran 25 gr. Namun, disini kita ketahui bahwa harga terendah adalah 15300 sehingga bisa menunjukkan adanya dua hal : terjadinya diskon atau pembelian dari reseller. Kemudian rata-rata customers membeli produk chocodrink ini adalah 2 buah.\n",
    "\n",
    "\n",
    "* Selanjutnya adanya outlier pada data kuantitatif seperti pada kolom qty, price, dan amount.\n",
    "    * Untuk kolom qty, customer paling banyak memilih qty di rentan 1 sampai 2 produk. Sehingga diluar dari itu disebut dengan outlier. Jumlah outlier yang ada pada kolom ini sebanyak 33 atau jika dipersentasekan sebanyak 0.12%\n",
    "    * Pada kolom amount (jumlah pendapatan di tiap transaksi) outlier terjadi karena data berada di luar dari rentan yang paling banyak terjadi transaksi, yaitu 18000 dan 75000. Untuk pendapatan di luar rentan tersebut dinyatakan sebagai outlier. Jumlah outlier yang ada pada kolom ini sebanyak 23 outlier atau 0.09%\n",
    "    * Kolom price tidak memiliki jumlah minimum dan maksimum dalam artian kolom ini tidak memiliki rentan nilai, hal ini terjadi dikarenakan hampir semua customer memilih untuk berbelanja produk yang harganya sama yaitu 18000, untuk harga diluar itu disebut dengan data outlier. Kolom ini memiliki 42 outlier atau 0.16% dari data keseluruhan\n",
    "\n",
    "\n",
    "* Jumlah item yang terjual menunjukkan bahwa penjualan mengalami naik-turun tiap bulannya. Namun, terjadi peningkatan yang sangat tinggi di salah satu bulannya, penjualan paling tinggi yakni di bulan Februari 2021 dengan persentase 17% dari total penjualan. Hal ini bisa saja terjadi, mengingat pada Februari adalah bulan yang terdapat hari valentine indentik dengan coklat. Sehingga pada bulan ini penjualan produk choco drink juga meningkat. Mereka membeli produk choco drink ini baik untuk diri sendiri, pasangan, teman, maupun keluarga mereka sebagai tanda hari kasih sayang.Dan di bulan Januari 2022 produk terjual sebanyak 3%, bulan ini merupakan penjualan terendah dari bulan-bulan lainnya. Hal ini bisa terjadi dikarenakan kurangnya promosi oleh tim marketing Nichoa, baik secara offline maupun online. Sebenarnya di bulan Januari bisa menjadi kesempatan untuk meningkatkan penjualan karena bisa memanfaatkan momentum tahun baru dengan memberikan diskon tahun baru.\n",
    "\n",
    "\n",
    "* Untuk pendapatan yang didapat tiap bulannya, yakni amount (total harga yang didapat dari pembelian produk) selama 14 bulan adalah sebesar Rp15.800.850, yang dimana pendapatan di tahun  2021 sebanyak Rp13.662.000 atau dalam dipersenkan sebesar 86.46% dan di tahun 2022 sebanyak Rp 2.138.850 atau 13.79%. Dari total tersebut didapatkan pada bulan januari 2021 sebesar 4.69% kemudian mengalami kenaikan pada bulan february yaitu sebesar 12.3% dan kembali turun pada bulan maret dan april sebesar 11.6% dan 4.14%. Bulan selanjutnya naik pesat sebesar 27%, bulan ini merupakan bulan dengan pendapatan paling tinggi dibandingkan dengan bulan lainnya,  Hal ini terjadi karena dibulan tersebut terdapat moment Ramadhan dan Idul Fitri yang mendorong customers untuk membeli produk dengan size yang besar dan dalam jumlah banyak sebagai stok dalam menjalani ibadah puasa dan Lebaran, mengingat choco drink merupakan minuman coklat yang sehat untuk tubuh sehingga sangat cocok untuk di konsumsi oleh orang yang berpuasa. Setelah itu di bulan agustus pendapatan kembali menurun, dengan penurunan yang cukup pesat yaitu sebesar 2.62%, untuk bulan selanjutnya pendapatan yang didapatkan kadang mengalami kenaikan dan penurunan dengan tidak signifikan\n",
    "\n",
    "\n",
    "* Jenis item yang paling diminati oleh customer. Pada Choco drink ini terdapat 6 macam item yaitu Immune booster chocodrink 25 gr, fresh and fight 25 gr, stress release 25 gr, stress release 150 gr, immune booster chocodrink 150 gr, dan fresh and fight 150 gr. Dapat di lihat bahwa paling banyak terjual adalah item stress release 25 gr (32.16%), dan yang paling sedikit terjual adalah immune booster chocodrink 150 gr (2.75%) Hal ini terjadi karena produk dengan kuantitas sedikit lebih praktis untuk dibawa sehingga customer lebih memilih untuk membeli yang ukuran kecil. Selain itu item yang paling laris dan diminati adalah stress release , kemudian fresh and fight, kemudian immune booster dengan hal ini mungkin untuk immune booster agak kurang diminati karena biasanya orang membeli ketika kurang enak badan. Sedangkan yang stress release banyak sekali customernya karena bisa membantu mengurangi rasa stress.\n",
    "\n",
    "\n",
    "* Untuk kuantitas pembelian produk menunjukkan bahwa sebanyak 69,8% customers membeli produk chocodrink dengan 1 buah. Sedangkan untuk pembelian produk chocodrink dengan pembelian beberapa buah cenderung relatif sedikit dan berbeda cukup jauh dari pembelian produk satuan. Sehingga dari sini kita tahu bahwa lebih banyak customers yang tertarik membeli chocodrink untuk diri sendiri. Terdapat juga pembelian dengan jumlah yang cukup banyak, seperti pembelian dengan 21 buah sebanyak 1,57%, 15 buah sebanyak 1,18%, dan 10 buah sebanyak 5,1%. Ini bisa terjadi dikarenakan adanya reseller dengan jumlah pembelian yang banyak.\n",
    "\n",
    "\n",
    "* Untuk intensitas waktu yang paling sering terjadi transaksi pembelian menunjukkan bahwa waktu yang paling sering digunakan oleh customers untuk membeli produk chocodrink adalah di pagi hari, yaitu pada pukul 8 pagi dengan persentase sebanyak 19,22%. Kemudian disusul pukul 9 pagi dengan persentase pembeli sebanyak 14,12%. Dan waktu yang paling jarang digunakan oleh customers untuk membeli produk chocodrink adalah pada pukul 12 siang, yakni hanya 0,39% saja. Banyak customers yang cenderung memilih waktu pagi hari untuk membeli produk chocodrink dikarenakan pagi adalah waktu yang cocok karena udara yang masih dingin dan matahari belum terlalu terik, bisa juga karena customers pergi beraktifitas (kerja, kuliah, dan lainnya) sekaligus mampir untuk membeli chocodrink. Kemudian untuk pembelian yang secara online, pagijuga merupakan waktu yang cocok untuk customers membeli produk karena aktifitas yang belum begitu padat, seperti menjelang siang. Sedangkan di siang hari, jam 12 siang sedikit customers yang membeli produk di offline store karena di jam 12 siang matahari begitu terik. Untuk online store, karena di jam 12 adalah saatnya jam istirahat makan, sehingga customers lebih memilih untuk menggunakan jam tersebut untuk makan dan shalat(bagi yang muslim).\n",
    "\n",
    "\n",
    "* Untuk price menunjukkan bahwa produk Chocodrink Nichoa yang banyak terjual adalah produk dengan harga 18000 yakni sebanyak 213 buah, dengan persentase 83,53%. Sehingga dapat kita ketahui bahwa customers lebih tertarik untuk membeli produk dengan harga yang relatif lebih murah. Hal ini dapat digunakan sebagai acuan untuk lebih banyak meningkatkan produksi choco drink dengan range harga yang lebih murah.\n",
    "\n",
    "\n",
    "* Tipe pembayaran yang paling banyak digunakan oleh customer ada transfer bank baik itu melalui bank BNI (42.49%), Mandiri (14.14%) dan BRI (9.68%), kemudian disusul pembelian lewat shopee (9.83%), lalu pembelian oleh reseller (5.96%), sample product dan hadiah (5.18%), tokopedia (4.1%), bukalapak(3.11%), cash(2.98%), dan terakhir pembelian paling sedikit melalui endorsment (2.51%). Sehingga banyak customers lebih suka melakukan transaksi pembayaran melalui transfer antar bank karena tentu lebih praktis daripada harus menyediakan uang cash.\n",
    "\n",
    "\n",
    "* Ada 6 segmentasi pelanggan berdasarkan RFM. Segmentasi pelanggan setia memiliki jumlah tertinggi. Kemudian Lost Cheap Customers memiliki jumlah lebih banyak dari Best Customers dan Best Customers memiliki jumlah paling sedikit. Dari data tersebut, pelanggan sering melakukan pemesanan dengan jumlah pesanan yang banyak.\n",
    "    * Berdasarkan hasil pemodelan segmentasi pelanggan menggunakan RFM, pelanggan perusahaan dibagi menjadi 6 segmen, yaitu Loyal Customers, Big Spenders, Lost Cheap Customers, Lost Customers, Best Customers, dan lain-lain.\n",
    "    * Sebanyak 15,97% dari total pelanggan (dengan total 23 customer) termasuk dalam Loyal Customer dimana pelanggan segmen ini memiliki frekuensi berbelanja paling banyak dibandingkan segmen lainnya.\n",
    "    * Selanjutnya, 12,50% dari total pelanggan (dengan total 18 customer) di perusahaan masuk ke segmen Big Spenders. Segmen ini memiliki total pembelian tertinggi dibanding segmen lainnya.\n",
    "    * Segmen Lost Cheap Customers terdiri dari 7 customer dengan persentase 4,86% dari total pelanggan. Pelanggan yang masuk ke segmen jenis ini cenderung melakukan churn karena sudah lama tidak membeli barang dari perusahaan, memiliki frekuensi belanja yang paling sedikit, dan memiliki total pembelian yang paling sedikit dibandingkan segmen lainnya.\n",
    "    * Kemudian sebanyak 3.47% dari total pelanggan (dengan total 5 customer) tergolong Lost Customer yang hampir sama dengan pelanggan di segmen Lost Cheap Customers, Lost Customer cenderung churn.\n",
    "    * Sebanyak 4 customer dengan persentase 2.78% dari total customer, masuk dalam segmen Best Customer. Pelanggan pada segmen ini baru saja membeli barang dari perusahaan, memiliki frekuensi belanja terbanyak, dan memiliki total pembelian terbanyak dibanding segmen lainnya.\n",
    "    * Terakhir, pelanggan lain diklasifikasikan ke dalam segmen others, dimana segmen ini merupakan segmen campuran (dalam hal ini undefined segment) sebanyak 60.42% yang merupakan presentase tertinggi dari segmen customer lain."
   ]
  },
  {
   "cell_type": "markdown",
   "id": "4448f2d6",
   "metadata": {
    "id": "d33lGtkdpZhe"
   },
   "source": [
    "# Rekomendasi"
   ]
  },
  {
   "cell_type": "markdown",
   "id": "b3dcec7c",
   "metadata": {},
   "source": [
    "**1. Marketing**\n",
    "\n",
    "* Melakukan kerja sama dengan beberapa cafe shop / toko. Kerja sama dilakukan dengan kesepakatan bahwa jika barang terjual maka cafe/ toko tersebut mendapat komisi, apabila tidak terjual maka produk dikembalikan tanpa risiko. Hal ini dilakukan untuk memasarkan produk ke market yang lebih luas dan kompetitif. \n",
    "\n",
    "* Untuk kerjasama yang dilakukan dengan cafe sasaran penjualannya adalah pekerja kantoran dan mahasiswa yang sedang suntuk dengan pekerjaan maupun tugas. Disini Nichoa bisa merekomendasikan produk stress realease untuk mereka\n",
    "\n",
    "* Memberikan poin kepada pelanggan dengan syarat pembelian minimal 1 produk yang berukuran 150 gr. Pelanggan dapat mengumpulkan poin-poin tersebut hingga beberapa poin, misalnya apabila pelanggan telah mencapai 500 poin maka poin tersebut dapat ditukarkan dengan produk choco drink nichoa semua varian yang berukuran 25 gr. Pengumpulan poin tersebut bisa dibuatkan pada website Nichoa.\n",
    "\n",
    "* Membuat produk yang dapat langsung dikonsumsi (choco drink cair) Biasanya orang-orang selalu membawa minuman yang praktis ketika bepergian. Apalagi choco drink dari nichoa adalah minuman sehat, akan menambah minat orang-orang untuk mengumpulkan stok nichoa ketika sedang bepergian apalagi untuk perjalanan jauh\n",
    "\n",
    "**2. Produksi**\n",
    "\n",
    "* Meningkatkan produksi pada bulan tertentu yang mengalami peningkatan yang tinggi seperti pada bulan Februari.\n",
    "\n",
    "* Mengkombinasikan 2 atau lebih item berbeda menjadi satu paket kombo hemat\n",
    "\n",
    "\n",
    "**3. Promotion**\n",
    "* Nichoa bisa merekrut karyawan khusus untuk promosi sosial media\n",
    "\n",
    "* Membuat iklan bersponsor di instagram  dengan konsep video pendek yang menggambarkan chocodrink minuman cokelat sehat yang memiliki banyak khasiat, seperti menurunkan tingkat stress,  menaikkan imun booster, dll.\n",
    "\n",
    "* Melakukan live tiktok atau membuat video promosi yang kreatif dan memasukkan produk di Tiktok Shop. Karena Tiktok penggunanya rata-rata adalah anak muda, sehingga  promosi yang dilakukan disini targetnya adalah anak muda yang selalu ingin mencoba hal yang baru/hal unik. \n",
    "\n",
    "* Untuk offline, tim nichoa bisa mengikuti bazar UMKM atau pameran makanan dan minuman yang difasilitasi oleh pemerintah seperti pameran SIAL Interfood 2022 yang baru saja diadakan.\n",
    "\n",
    "* Endorse kepada nano Influenser (memiliki followers 5k-10k) Berkolaborasi dengan nano influenser dan minta review jujur lalu menguploadnya ke sosial media mereka baik itu di tiktok, di reels, maupun story. Nano influenser dipilih karena engagementnya masih tinggi, masih dipercaya oleh followers. Selain itu bayarannya masih terbilang murah bahkan ada yang gratis hanya mengirimkan produk saja.\n",
    "\n",
    "* Mengadakan promo khusus untuk hari tertentu seperti tanggal/bulan kembar (11.11, 12.12), hari Valentine pada bulan Februari, Bulan Ramadhan, Hari Raya Idul Fitri, Natal dan Tahun baru.\n",
    "\n",
    "* Nichoa juga bisa memberikan penghargaan untuk best customer seperti memasang foto mereka di web nichoa sebagai pelanggan terbaik disertai pendapat mereka selama menjadi customer dan membeli produk di nichoa\n",
    "\n",
    "* Memberikan promo ulang tahun kepada best Customer (Memberikan harga khusus)\n",
    " \n",
    "\n",
    "\n",
    "\n"
   ]
  }
 ],
 "metadata": {
  "colab": {
   "provenance": []
  },
  "kernelspec": {
   "display_name": "Python 3 (ipykernel)",
   "language": "python",
   "name": "python3"
  },
  "language_info": {
   "codemirror_mode": {
    "name": "ipython",
    "version": 3
   },
   "file_extension": ".py",
   "mimetype": "text/x-python",
   "name": "python",
   "nbconvert_exporter": "python",
   "pygments_lexer": "ipython3",
   "version": "3.10.0"
  },
  "varInspector": {
   "cols": {
    "lenName": 16,
    "lenType": 16,
    "lenVar": 40
   },
   "kernels_config": {
    "python": {
     "delete_cmd_postfix": "",
     "delete_cmd_prefix": "del ",
     "library": "var_list.py",
     "varRefreshCmd": "print(var_dic_list())"
    },
    "r": {
     "delete_cmd_postfix": ") ",
     "delete_cmd_prefix": "rm(",
     "library": "var_list.r",
     "varRefreshCmd": "cat(var_dic_list()) "
    }
   },
   "types_to_exclude": [
    "module",
    "function",
    "builtin_function_or_method",
    "instance",
    "_Feature"
   ],
   "window_display": false
  }
 },
 "nbformat": 4,
 "nbformat_minor": 5
}
